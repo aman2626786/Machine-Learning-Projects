{
 "cells": [
  {
   "cell_type": "code",
   "execution_count": 1,
   "id": "32d06c4f",
   "metadata": {
    "_cell_guid": "b1076dfc-b9ad-4769-8c92-a6c4dae69d19",
    "_uuid": "8f2839f25d086af736a60e9eeb907d3b93b6e0e5",
    "execution": {
     "iopub.execute_input": "2025-09-07T07:02:50.192701Z",
     "iopub.status.busy": "2025-09-07T07:02:50.192275Z",
     "iopub.status.idle": "2025-09-07T07:02:52.299613Z",
     "shell.execute_reply": "2025-09-07T07:02:52.298423Z"
    },
    "papermill": {
     "duration": 2.118436,
     "end_time": "2025-09-07T07:02:52.301484",
     "exception": false,
     "start_time": "2025-09-07T07:02:50.183048",
     "status": "completed"
    },
    "tags": []
   },
   "outputs": [
    {
     "name": "stdout",
     "output_type": "stream",
     "text": [
      "/kaggle/input/bitcoin-dataset/bitcoin.csv\n"
     ]
    }
   ],
   "source": [
    "# This Python 3 environment comes with many helpful analytics libraries installed\n",
    "# It is defined by the kaggle/python Docker image: https://github.com/kaggle/docker-python\n",
    "# For example, here's several helpful packages to load\n",
    "\n",
    "import numpy as np # linear algebra\n",
    "import pandas as pd # data processing, CSV file I/O (e.g. pd.read_csv)\n",
    "\n",
    "# Input data files are available in the read-only \"../input/\" directory\n",
    "# For example, running this (by clicking run or pressing Shift+Enter) will list all files under the input directory\n",
    "\n",
    "import os\n",
    "for dirname, _, filenames in os.walk('/kaggle/input'):\n",
    "    for filename in filenames:\n",
    "        print(os.path.join(dirname, filename))\n",
    "\n",
    "# You can write up to 20GB to the current directory (/kaggle/working/) that gets preserved as output when you create a version using \"Save & Run All\" \n",
    "# You can also write temporary files to /kaggle/temp/, but they won't be saved outside of the current session"
   ]
  },
  {
   "cell_type": "code",
   "execution_count": 2,
   "id": "0135f047",
   "metadata": {
    "execution": {
     "iopub.execute_input": "2025-09-07T07:02:52.316319Z",
     "iopub.status.busy": "2025-09-07T07:02:52.315864Z",
     "iopub.status.idle": "2025-09-07T07:02:54.408970Z",
     "shell.execute_reply": "2025-09-07T07:02:54.408015Z"
    },
    "papermill": {
     "duration": 2.102133,
     "end_time": "2025-09-07T07:02:54.410831",
     "exception": false,
     "start_time": "2025-09-07T07:02:52.308698",
     "status": "completed"
    },
    "tags": []
   },
   "outputs": [],
   "source": [
    "import matplotlib.pyplot as plt\n",
    "import seaborn as sns"
   ]
  },
  {
   "cell_type": "code",
   "execution_count": 3,
   "id": "d09635cc",
   "metadata": {
    "execution": {
     "iopub.execute_input": "2025-09-07T07:02:54.425559Z",
     "iopub.status.busy": "2025-09-07T07:02:54.424517Z",
     "iopub.status.idle": "2025-09-07T07:02:54.481467Z",
     "shell.execute_reply": "2025-09-07T07:02:54.480574Z"
    },
    "papermill": {
     "duration": 0.065707,
     "end_time": "2025-09-07T07:02:54.483035",
     "exception": false,
     "start_time": "2025-09-07T07:02:54.417328",
     "status": "completed"
    },
    "tags": []
   },
   "outputs": [
    {
     "data": {
      "text/html": [
       "<div>\n",
       "<style scoped>\n",
       "    .dataframe tbody tr th:only-of-type {\n",
       "        vertical-align: middle;\n",
       "    }\n",
       "\n",
       "    .dataframe tbody tr th {\n",
       "        vertical-align: top;\n",
       "    }\n",
       "\n",
       "    .dataframe thead th {\n",
       "        text-align: right;\n",
       "    }\n",
       "</style>\n",
       "<table border=\"1\" class=\"dataframe\">\n",
       "  <thead>\n",
       "    <tr style=\"text-align: right;\">\n",
       "      <th></th>\n",
       "      <th>Date</th>\n",
       "      <th>Open</th>\n",
       "      <th>High</th>\n",
       "      <th>Low</th>\n",
       "      <th>Close</th>\n",
       "      <th>Adj Close</th>\n",
       "      <th>Volume</th>\n",
       "    </tr>\n",
       "  </thead>\n",
       "  <tbody>\n",
       "    <tr>\n",
       "      <th>0</th>\n",
       "      <td>2014-09-17</td>\n",
       "      <td>465.864014</td>\n",
       "      <td>468.174011</td>\n",
       "      <td>452.421997</td>\n",
       "      <td>457.334015</td>\n",
       "      <td>457.334015</td>\n",
       "      <td>21056800</td>\n",
       "    </tr>\n",
       "    <tr>\n",
       "      <th>1</th>\n",
       "      <td>2014-09-18</td>\n",
       "      <td>456.859985</td>\n",
       "      <td>456.859985</td>\n",
       "      <td>413.104004</td>\n",
       "      <td>424.440002</td>\n",
       "      <td>424.440002</td>\n",
       "      <td>34483200</td>\n",
       "    </tr>\n",
       "    <tr>\n",
       "      <th>2</th>\n",
       "      <td>2014-09-19</td>\n",
       "      <td>424.102997</td>\n",
       "      <td>427.834991</td>\n",
       "      <td>384.532013</td>\n",
       "      <td>394.795990</td>\n",
       "      <td>394.795990</td>\n",
       "      <td>37919700</td>\n",
       "    </tr>\n",
       "    <tr>\n",
       "      <th>3</th>\n",
       "      <td>2014-09-20</td>\n",
       "      <td>394.673004</td>\n",
       "      <td>423.295990</td>\n",
       "      <td>389.882996</td>\n",
       "      <td>408.903992</td>\n",
       "      <td>408.903992</td>\n",
       "      <td>36863600</td>\n",
       "    </tr>\n",
       "    <tr>\n",
       "      <th>4</th>\n",
       "      <td>2014-09-21</td>\n",
       "      <td>408.084991</td>\n",
       "      <td>412.425995</td>\n",
       "      <td>393.181000</td>\n",
       "      <td>398.821014</td>\n",
       "      <td>398.821014</td>\n",
       "      <td>26580100</td>\n",
       "    </tr>\n",
       "  </tbody>\n",
       "</table>\n",
       "</div>"
      ],
      "text/plain": [
       "         Date        Open        High         Low       Close   Adj Close  \\\n",
       "0  2014-09-17  465.864014  468.174011  452.421997  457.334015  457.334015   \n",
       "1  2014-09-18  456.859985  456.859985  413.104004  424.440002  424.440002   \n",
       "2  2014-09-19  424.102997  427.834991  384.532013  394.795990  394.795990   \n",
       "3  2014-09-20  394.673004  423.295990  389.882996  408.903992  408.903992   \n",
       "4  2014-09-21  408.084991  412.425995  393.181000  398.821014  398.821014   \n",
       "\n",
       "     Volume  \n",
       "0  21056800  \n",
       "1  34483200  \n",
       "2  37919700  \n",
       "3  36863600  \n",
       "4  26580100  "
      ]
     },
     "execution_count": 3,
     "metadata": {},
     "output_type": "execute_result"
    }
   ],
   "source": [
    "df = pd.read_csv('/kaggle/input/bitcoin-dataset/bitcoin.csv')\n",
    "df.head()"
   ]
  },
  {
   "cell_type": "code",
   "execution_count": 4,
   "id": "c77a46e2",
   "metadata": {
    "execution": {
     "iopub.execute_input": "2025-09-07T07:02:54.498585Z",
     "iopub.status.busy": "2025-09-07T07:02:54.498295Z",
     "iopub.status.idle": "2025-09-07T07:02:54.505765Z",
     "shell.execute_reply": "2025-09-07T07:02:54.504497Z"
    },
    "papermill": {
     "duration": 0.017281,
     "end_time": "2025-09-07T07:02:54.507488",
     "exception": false,
     "start_time": "2025-09-07T07:02:54.490207",
     "status": "completed"
    },
    "tags": []
   },
   "outputs": [
    {
     "data": {
      "text/plain": [
       "(2713, 7)"
      ]
     },
     "execution_count": 4,
     "metadata": {},
     "output_type": "execute_result"
    }
   ],
   "source": [
    "df.shape"
   ]
  },
  {
   "cell_type": "code",
   "execution_count": 5,
   "id": "9e655c96",
   "metadata": {
    "execution": {
     "iopub.execute_input": "2025-09-07T07:02:54.522613Z",
     "iopub.status.busy": "2025-09-07T07:02:54.522263Z",
     "iopub.status.idle": "2025-09-07T07:02:54.548040Z",
     "shell.execute_reply": "2025-09-07T07:02:54.546997Z"
    },
    "papermill": {
     "duration": 0.034635,
     "end_time": "2025-09-07T07:02:54.549464",
     "exception": false,
     "start_time": "2025-09-07T07:02:54.514829",
     "status": "completed"
    },
    "tags": []
   },
   "outputs": [
    {
     "name": "stdout",
     "output_type": "stream",
     "text": [
      "<class 'pandas.core.frame.DataFrame'>\n",
      "RangeIndex: 2713 entries, 0 to 2712\n",
      "Data columns (total 7 columns):\n",
      " #   Column     Non-Null Count  Dtype  \n",
      "---  ------     --------------  -----  \n",
      " 0   Date       2713 non-null   object \n",
      " 1   Open       2713 non-null   float64\n",
      " 2   High       2713 non-null   float64\n",
      " 3   Low        2713 non-null   float64\n",
      " 4   Close      2713 non-null   float64\n",
      " 5   Adj Close  2713 non-null   float64\n",
      " 6   Volume     2713 non-null   int64  \n",
      "dtypes: float64(5), int64(1), object(1)\n",
      "memory usage: 148.5+ KB\n"
     ]
    }
   ],
   "source": [
    "df.info()"
   ]
  },
  {
   "cell_type": "code",
   "execution_count": 6,
   "id": "7de76a70",
   "metadata": {
    "execution": {
     "iopub.execute_input": "2025-09-07T07:02:54.565224Z",
     "iopub.status.busy": "2025-09-07T07:02:54.564916Z",
     "iopub.status.idle": "2025-09-07T07:02:54.592821Z",
     "shell.execute_reply": "2025-09-07T07:02:54.591930Z"
    },
    "papermill": {
     "duration": 0.038201,
     "end_time": "2025-09-07T07:02:54.594422",
     "exception": false,
     "start_time": "2025-09-07T07:02:54.556221",
     "status": "completed"
    },
    "tags": []
   },
   "outputs": [
    {
     "data": {
      "text/html": [
       "<div>\n",
       "<style scoped>\n",
       "    .dataframe tbody tr th:only-of-type {\n",
       "        vertical-align: middle;\n",
       "    }\n",
       "\n",
       "    .dataframe tbody tr th {\n",
       "        vertical-align: top;\n",
       "    }\n",
       "\n",
       "    .dataframe thead th {\n",
       "        text-align: right;\n",
       "    }\n",
       "</style>\n",
       "<table border=\"1\" class=\"dataframe\">\n",
       "  <thead>\n",
       "    <tr style=\"text-align: right;\">\n",
       "      <th></th>\n",
       "      <th>Open</th>\n",
       "      <th>High</th>\n",
       "      <th>Low</th>\n",
       "      <th>Close</th>\n",
       "      <th>Adj Close</th>\n",
       "      <th>Volume</th>\n",
       "    </tr>\n",
       "  </thead>\n",
       "  <tbody>\n",
       "    <tr>\n",
       "      <th>count</th>\n",
       "      <td>2713.000000</td>\n",
       "      <td>2713.000000</td>\n",
       "      <td>2713.000000</td>\n",
       "      <td>2713.000000</td>\n",
       "      <td>2713.000000</td>\n",
       "      <td>2.713000e+03</td>\n",
       "    </tr>\n",
       "    <tr>\n",
       "      <th>mean</th>\n",
       "      <td>11311.041069</td>\n",
       "      <td>11614.292482</td>\n",
       "      <td>10975.555057</td>\n",
       "      <td>11323.914637</td>\n",
       "      <td>11323.914637</td>\n",
       "      <td>1.470462e+10</td>\n",
       "    </tr>\n",
       "    <tr>\n",
       "      <th>std</th>\n",
       "      <td>16106.428891</td>\n",
       "      <td>16537.390649</td>\n",
       "      <td>15608.572560</td>\n",
       "      <td>16110.365010</td>\n",
       "      <td>16110.365010</td>\n",
       "      <td>2.001627e+10</td>\n",
       "    </tr>\n",
       "    <tr>\n",
       "      <th>min</th>\n",
       "      <td>176.897003</td>\n",
       "      <td>211.731003</td>\n",
       "      <td>171.509995</td>\n",
       "      <td>178.102997</td>\n",
       "      <td>178.102997</td>\n",
       "      <td>5.914570e+06</td>\n",
       "    </tr>\n",
       "    <tr>\n",
       "      <th>25%</th>\n",
       "      <td>606.396973</td>\n",
       "      <td>609.260986</td>\n",
       "      <td>604.109985</td>\n",
       "      <td>606.718994</td>\n",
       "      <td>606.718994</td>\n",
       "      <td>7.991080e+07</td>\n",
       "    </tr>\n",
       "    <tr>\n",
       "      <th>50%</th>\n",
       "      <td>6301.569824</td>\n",
       "      <td>6434.617676</td>\n",
       "      <td>6214.220215</td>\n",
       "      <td>6317.609863</td>\n",
       "      <td>6317.609863</td>\n",
       "      <td>5.098183e+09</td>\n",
       "    </tr>\n",
       "    <tr>\n",
       "      <th>75%</th>\n",
       "      <td>10452.399414</td>\n",
       "      <td>10762.644531</td>\n",
       "      <td>10202.387695</td>\n",
       "      <td>10462.259766</td>\n",
       "      <td>10462.259766</td>\n",
       "      <td>2.456992e+10</td>\n",
       "    </tr>\n",
       "    <tr>\n",
       "      <th>max</th>\n",
       "      <td>67549.734375</td>\n",
       "      <td>68789.625000</td>\n",
       "      <td>66382.062500</td>\n",
       "      <td>67566.828125</td>\n",
       "      <td>67566.828125</td>\n",
       "      <td>3.509679e+11</td>\n",
       "    </tr>\n",
       "  </tbody>\n",
       "</table>\n",
       "</div>"
      ],
      "text/plain": [
       "               Open          High           Low         Close     Adj Close  \\\n",
       "count   2713.000000   2713.000000   2713.000000   2713.000000   2713.000000   \n",
       "mean   11311.041069  11614.292482  10975.555057  11323.914637  11323.914637   \n",
       "std    16106.428891  16537.390649  15608.572560  16110.365010  16110.365010   \n",
       "min      176.897003    211.731003    171.509995    178.102997    178.102997   \n",
       "25%      606.396973    609.260986    604.109985    606.718994    606.718994   \n",
       "50%     6301.569824   6434.617676   6214.220215   6317.609863   6317.609863   \n",
       "75%    10452.399414  10762.644531  10202.387695  10462.259766  10462.259766   \n",
       "max    67549.734375  68789.625000  66382.062500  67566.828125  67566.828125   \n",
       "\n",
       "             Volume  \n",
       "count  2.713000e+03  \n",
       "mean   1.470462e+10  \n",
       "std    2.001627e+10  \n",
       "min    5.914570e+06  \n",
       "25%    7.991080e+07  \n",
       "50%    5.098183e+09  \n",
       "75%    2.456992e+10  \n",
       "max    3.509679e+11  "
      ]
     },
     "execution_count": 6,
     "metadata": {},
     "output_type": "execute_result"
    }
   ],
   "source": [
    "df.describe()"
   ]
  },
  {
   "cell_type": "code",
   "execution_count": 7,
   "id": "0e5dc505",
   "metadata": {
    "execution": {
     "iopub.execute_input": "2025-09-07T07:02:54.609292Z",
     "iopub.status.busy": "2025-09-07T07:02:54.608943Z",
     "iopub.status.idle": "2025-09-07T07:02:54.616623Z",
     "shell.execute_reply": "2025-09-07T07:02:54.615748Z"
    },
    "papermill": {
     "duration": 0.016865,
     "end_time": "2025-09-07T07:02:54.618129",
     "exception": false,
     "start_time": "2025-09-07T07:02:54.601264",
     "status": "completed"
    },
    "tags": []
   },
   "outputs": [
    {
     "data": {
      "text/plain": [
       "Date         0\n",
       "Open         0\n",
       "High         0\n",
       "Low          0\n",
       "Close        0\n",
       "Adj Close    0\n",
       "Volume       0\n",
       "dtype: int64"
      ]
     },
     "execution_count": 7,
     "metadata": {},
     "output_type": "execute_result"
    }
   ],
   "source": [
    "# Checking for the missing values\n",
    "df.isnull().sum()"
   ]
  },
  {
   "cell_type": "markdown",
   "id": "68b15479",
   "metadata": {
    "papermill": {
     "duration": 0.006656,
     "end_time": "2025-09-07T07:02:54.631817",
     "exception": false,
     "start_time": "2025-09-07T07:02:54.625161",
     "status": "completed"
    },
    "tags": []
   },
   "source": [
    "# EDA Part"
   ]
  },
  {
   "cell_type": "code",
   "execution_count": 8,
   "id": "c4b3abe7",
   "metadata": {
    "execution": {
     "iopub.execute_input": "2025-09-07T07:02:54.646810Z",
     "iopub.status.busy": "2025-09-07T07:02:54.646469Z",
     "iopub.status.idle": "2025-09-07T07:02:54.658537Z",
     "shell.execute_reply": "2025-09-07T07:02:54.657394Z"
    },
    "papermill": {
     "duration": 0.021537,
     "end_time": "2025-09-07T07:02:54.660160",
     "exception": false,
     "start_time": "2025-09-07T07:02:54.638623",
     "status": "completed"
    },
    "tags": []
   },
   "outputs": [
    {
     "data": {
      "text/html": [
       "<div>\n",
       "<style scoped>\n",
       "    .dataframe tbody tr th:only-of-type {\n",
       "        vertical-align: middle;\n",
       "    }\n",
       "\n",
       "    .dataframe tbody tr th {\n",
       "        vertical-align: top;\n",
       "    }\n",
       "\n",
       "    .dataframe thead th {\n",
       "        text-align: right;\n",
       "    }\n",
       "</style>\n",
       "<table border=\"1\" class=\"dataframe\">\n",
       "  <thead>\n",
       "    <tr style=\"text-align: right;\">\n",
       "      <th></th>\n",
       "      <th>Date</th>\n",
       "      <th>Open</th>\n",
       "      <th>High</th>\n",
       "      <th>Low</th>\n",
       "      <th>Close</th>\n",
       "      <th>Adj Close</th>\n",
       "      <th>Volume</th>\n",
       "    </tr>\n",
       "  </thead>\n",
       "  <tbody>\n",
       "    <tr>\n",
       "      <th>0</th>\n",
       "      <td>2014-09-17</td>\n",
       "      <td>465.864014</td>\n",
       "      <td>468.174011</td>\n",
       "      <td>452.421997</td>\n",
       "      <td>457.334015</td>\n",
       "      <td>457.334015</td>\n",
       "      <td>21056800</td>\n",
       "    </tr>\n",
       "    <tr>\n",
       "      <th>1</th>\n",
       "      <td>2014-09-18</td>\n",
       "      <td>456.859985</td>\n",
       "      <td>456.859985</td>\n",
       "      <td>413.104004</td>\n",
       "      <td>424.440002</td>\n",
       "      <td>424.440002</td>\n",
       "      <td>34483200</td>\n",
       "    </tr>\n",
       "    <tr>\n",
       "      <th>2</th>\n",
       "      <td>2014-09-19</td>\n",
       "      <td>424.102997</td>\n",
       "      <td>427.834991</td>\n",
       "      <td>384.532013</td>\n",
       "      <td>394.795990</td>\n",
       "      <td>394.795990</td>\n",
       "      <td>37919700</td>\n",
       "    </tr>\n",
       "    <tr>\n",
       "      <th>3</th>\n",
       "      <td>2014-09-20</td>\n",
       "      <td>394.673004</td>\n",
       "      <td>423.295990</td>\n",
       "      <td>389.882996</td>\n",
       "      <td>408.903992</td>\n",
       "      <td>408.903992</td>\n",
       "      <td>36863600</td>\n",
       "    </tr>\n",
       "    <tr>\n",
       "      <th>4</th>\n",
       "      <td>2014-09-21</td>\n",
       "      <td>408.084991</td>\n",
       "      <td>412.425995</td>\n",
       "      <td>393.181000</td>\n",
       "      <td>398.821014</td>\n",
       "      <td>398.821014</td>\n",
       "      <td>26580100</td>\n",
       "    </tr>\n",
       "  </tbody>\n",
       "</table>\n",
       "</div>"
      ],
      "text/plain": [
       "         Date        Open        High         Low       Close   Adj Close  \\\n",
       "0  2014-09-17  465.864014  468.174011  452.421997  457.334015  457.334015   \n",
       "1  2014-09-18  456.859985  456.859985  413.104004  424.440002  424.440002   \n",
       "2  2014-09-19  424.102997  427.834991  384.532013  394.795990  394.795990   \n",
       "3  2014-09-20  394.673004  423.295990  389.882996  408.903992  408.903992   \n",
       "4  2014-09-21  408.084991  412.425995  393.181000  398.821014  398.821014   \n",
       "\n",
       "     Volume  \n",
       "0  21056800  \n",
       "1  34483200  \n",
       "2  37919700  \n",
       "3  36863600  \n",
       "4  26580100  "
      ]
     },
     "execution_count": 8,
     "metadata": {},
     "output_type": "execute_result"
    }
   ],
   "source": [
    "df.head()"
   ]
  },
  {
   "cell_type": "code",
   "execution_count": 9,
   "id": "24a23dcf",
   "metadata": {
    "execution": {
     "iopub.execute_input": "2025-09-07T07:02:54.676565Z",
     "iopub.status.busy": "2025-09-07T07:02:54.676263Z",
     "iopub.status.idle": "2025-09-07T07:02:55.094603Z",
     "shell.execute_reply": "2025-09-07T07:02:55.093719Z"
    },
    "papermill": {
     "duration": 0.429097,
     "end_time": "2025-09-07T07:02:55.096366",
     "exception": false,
     "start_time": "2025-09-07T07:02:54.667269",
     "status": "completed"
    },
    "tags": []
   },
   "outputs": [
    {
     "data": {
      "image/png": "[encoded data removed]",
      "text/plain": [
       "<Figure size 1500x500 with 1 Axes>"
      ]
     },
     "metadata": {},
     "output_type": "display_data"
    }
   ],
   "source": [
    "plt.figure(figsize=(15,5))\n",
    "plt.plot(df['Close'])\n",
    "plt.title('Bitcoin Close price')\n",
    "plt.ylabel('Price in Dollars')\n",
    "plt.show()"
   ]
  },
  {
   "cell_type": "code",
   "execution_count": 10,
   "id": "65604f2d",
   "metadata": {
    "execution": {
     "iopub.execute_input": "2025-09-07T07:02:55.114846Z",
     "iopub.status.busy": "2025-09-07T07:02:55.114504Z",
     "iopub.status.idle": "2025-09-07T07:02:55.121605Z",
     "shell.execute_reply": "2025-09-07T07:02:55.120841Z"
    },
    "papermill": {
     "duration": 0.017861,
     "end_time": "2025-09-07T07:02:55.123139",
     "exception": false,
     "start_time": "2025-09-07T07:02:55.105278",
     "status": "completed"
    },
    "tags": []
   },
   "outputs": [
    {
     "data": {
      "text/plain": [
       "((2713, 7), (2713, 7))"
      ]
     },
     "execution_count": 10,
     "metadata": {},
     "output_type": "execute_result"
    }
   ],
   "source": [
    "# In the data the price if `Close` and Adj `Close` are same.\n",
    "df[df['Close'] == df['Adj Close']].shape, df.shape"
   ]
  },
  {
   "cell_type": "code",
   "execution_count": 11,
   "id": "51b32589",
   "metadata": {
    "execution": {
     "iopub.execute_input": "2025-09-07T07:02:55.141445Z",
     "iopub.status.busy": "2025-09-07T07:02:55.141038Z",
     "iopub.status.idle": "2025-09-07T07:02:55.149008Z",
     "shell.execute_reply": "2025-09-07T07:02:55.148007Z"
    },
    "papermill": {
     "duration": 0.018993,
     "end_time": "2025-09-07T07:02:55.150573",
     "exception": false,
     "start_time": "2025-09-07T07:02:55.131580",
     "status": "completed"
    },
    "tags": []
   },
   "outputs": [],
   "source": [
    "df = df.drop('Adj Close',axis=1)"
   ]
  },
  {
   "cell_type": "code",
   "execution_count": 12,
   "id": "ecdca239",
   "metadata": {
    "execution": {
     "iopub.execute_input": "2025-09-07T07:02:55.168480Z",
     "iopub.status.busy": "2025-09-07T07:02:55.167663Z",
     "iopub.status.idle": "2025-09-07T07:02:55.172007Z",
     "shell.execute_reply": "2025-09-07T07:02:55.171231Z"
    },
    "papermill": {
     "duration": 0.014591,
     "end_time": "2025-09-07T07:02:55.173347",
     "exception": false,
     "start_time": "2025-09-07T07:02:55.158756",
     "status": "completed"
    },
    "tags": []
   },
   "outputs": [],
   "source": [
    "import warnings\n",
    "warnings.filterwarnings('ignore')"
   ]
  },
  {
   "cell_type": "code",
   "execution_count": 13,
   "id": "41d19f1d",
   "metadata": {
    "execution": {
     "iopub.execute_input": "2025-09-07T07:02:55.190857Z",
     "iopub.status.busy": "2025-09-07T07:02:55.190486Z",
     "iopub.status.idle": "2025-09-07T07:02:56.198799Z",
     "shell.execute_reply": "2025-09-07T07:02:56.197834Z"
    },
    "papermill": {
     "duration": 1.019439,
     "end_time": "2025-09-07T07:02:56.201018",
     "exception": false,
     "start_time": "2025-09-07T07:02:55.181579",
     "status": "completed"
    },
    "tags": []
   },
   "outputs": [
    {
     "data": {
      "image/png": "[encoded data removed]",
      "text/plain": [
       "<Figure size 2000x1000 with 4 Axes>"
      ]
     },
     "metadata": {},
     "output_type": "display_data"
    }
   ],
   "source": [
    "features = ['Open','High','Low','Close']\n",
    "plt.subplots(figsize=(20,10))\n",
    "for i, col in enumerate(features):\n",
    "    plt.subplot(2,2,i+1)\n",
    "    sns.distplot(df[col])\n",
    "plt.show()"
   ]
  },
  {
   "cell_type": "code",
   "execution_count": 14,
   "id": "e0ed5b81",
   "metadata": {
    "execution": {
     "iopub.execute_input": "2025-09-07T07:02:56.221943Z",
     "iopub.status.busy": "2025-09-07T07:02:56.221597Z",
     "iopub.status.idle": "2025-09-07T07:02:56.653173Z",
     "shell.execute_reply": "2025-09-07T07:02:56.652284Z"
    },
    "papermill": {
     "duration": 0.443933,
     "end_time": "2025-09-07T07:02:56.654823",
     "exception": false,
     "start_time": "2025-09-07T07:02:56.210890",
     "status": "completed"
    },
    "tags": []
   },
   "outputs": [
    {
     "data": {
      "image/png": "[encoded data removed]",
      "text/plain": [
       "<Figure size 2000x1000 with 4 Axes>"
      ]
     },
     "metadata": {},
     "output_type": "display_data"
    }
   ],
   "source": [
    "features = ['Open','High','Low','Close']\n",
    "plt.subplots(figsize=(20,10))\n",
    "for i, col in enumerate(features):\n",
    "    plt.subplot(2,2,i+1)\n",
    "    sns.boxplot(df[col],orient='h')\n",
    "plt.show()"
   ]
  },
  {
   "cell_type": "markdown",
   "id": "8f656e66",
   "metadata": {
    "papermill": {
     "duration": 0.010435,
     "end_time": "2025-09-07T07:02:56.676209",
     "exception": false,
     "start_time": "2025-09-07T07:02:56.665774",
     "status": "completed"
    },
    "tags": []
   },
   "source": [
    "### Probleam: We can see in the barplot that there is so many outliers in the data, which means that the prices of the stock have varied hugely in a very short period of time. "
   ]
  },
  {
   "cell_type": "markdown",
   "id": "77bd2681",
   "metadata": {
    "papermill": {
     "duration": 0.010272,
     "end_time": "2025-09-07T07:02:56.697423",
     "exception": false,
     "start_time": "2025-09-07T07:02:56.687151",
     "status": "completed"
    },
    "tags": []
   },
   "source": [
    "# Feature Engineering"
   ]
  },
  {
   "cell_type": "code",
   "execution_count": 15,
   "id": "425ac554",
   "metadata": {
    "execution": {
     "iopub.execute_input": "2025-09-07T07:02:56.719504Z",
     "iopub.status.busy": "2025-09-07T07:02:56.719191Z",
     "iopub.status.idle": "2025-09-07T07:02:56.730380Z",
     "shell.execute_reply": "2025-09-07T07:02:56.729484Z"
    },
    "papermill": {
     "duration": 0.02437,
     "end_time": "2025-09-07T07:02:56.731753",
     "exception": false,
     "start_time": "2025-09-07T07:02:56.707383",
     "status": "completed"
    },
    "tags": []
   },
   "outputs": [
    {
     "data": {
      "text/html": [
       "<div>\n",
       "<style scoped>\n",
       "    .dataframe tbody tr th:only-of-type {\n",
       "        vertical-align: middle;\n",
       "    }\n",
       "\n",
       "    .dataframe tbody tr th {\n",
       "        vertical-align: top;\n",
       "    }\n",
       "\n",
       "    .dataframe thead th {\n",
       "        text-align: right;\n",
       "    }\n",
       "</style>\n",
       "<table border=\"1\" class=\"dataframe\">\n",
       "  <thead>\n",
       "    <tr style=\"text-align: right;\">\n",
       "      <th></th>\n",
       "      <th>Date</th>\n",
       "      <th>Open</th>\n",
       "      <th>High</th>\n",
       "      <th>Low</th>\n",
       "      <th>Close</th>\n",
       "      <th>Volume</th>\n",
       "    </tr>\n",
       "  </thead>\n",
       "  <tbody>\n",
       "    <tr>\n",
       "      <th>667</th>\n",
       "      <td>2016-07-15</td>\n",
       "      <td>659.171021</td>\n",
       "      <td>667.077026</td>\n",
       "      <td>659.039978</td>\n",
       "      <td>663.255005</td>\n",
       "      <td>81673104</td>\n",
       "    </tr>\n",
       "  </tbody>\n",
       "</table>\n",
       "</div>"
      ],
      "text/plain": [
       "           Date        Open        High         Low       Close    Volume\n",
       "667  2016-07-15  659.171021  667.077026  659.039978  663.255005  81673104"
      ]
     },
     "execution_count": 15,
     "metadata": {},
     "output_type": "execute_result"
    }
   ],
   "source": [
    "df.sample()"
   ]
  },
  {
   "cell_type": "code",
   "execution_count": 16,
   "id": "7c68cfdc",
   "metadata": {
    "execution": {
     "iopub.execute_input": "2025-09-07T07:02:56.753623Z",
     "iopub.status.busy": "2025-09-07T07:02:56.753311Z",
     "iopub.status.idle": "2025-09-07T07:02:56.767489Z",
     "shell.execute_reply": "2025-09-07T07:02:56.766497Z"
    },
    "papermill": {
     "duration": 0.027068,
     "end_time": "2025-09-07T07:02:56.769365",
     "exception": false,
     "start_time": "2025-09-07T07:02:56.742297",
     "status": "completed"
    },
    "tags": []
   },
   "outputs": [],
   "source": [
    "date = df['Date'].str.split('-',expand=True)\n",
    "df['year'] = date[0].astype(int)\n",
    "df['month'] = date[1].astype(int)\n",
    "df['day'] = date[2].astype(int)"
   ]
  },
  {
   "cell_type": "code",
   "execution_count": 17,
   "id": "f85cd78c",
   "metadata": {
    "execution": {
     "iopub.execute_input": "2025-09-07T07:02:56.792067Z",
     "iopub.status.busy": "2025-09-07T07:02:56.791143Z",
     "iopub.status.idle": "2025-09-07T07:02:56.800475Z",
     "shell.execute_reply": "2025-09-07T07:02:56.799436Z"
    },
    "papermill": {
     "duration": 0.022282,
     "end_time": "2025-09-07T07:02:56.802205",
     "exception": false,
     "start_time": "2025-09-07T07:02:56.779923",
     "status": "completed"
    },
    "tags": []
   },
   "outputs": [],
   "source": [
    "# Convert Date into datetime object\n",
    "df['Date'] = pd.to_datetime(df['Date'])"
   ]
  },
  {
   "cell_type": "code",
   "execution_count": 18,
   "id": "cf1d85c4",
   "metadata": {
    "execution": {
     "iopub.execute_input": "2025-09-07T07:02:56.824855Z",
     "iopub.status.busy": "2025-09-07T07:02:56.824523Z",
     "iopub.status.idle": "2025-09-07T07:02:56.836820Z",
     "shell.execute_reply": "2025-09-07T07:02:56.835849Z"
    },
    "papermill": {
     "duration": 0.025581,
     "end_time": "2025-09-07T07:02:56.838235",
     "exception": false,
     "start_time": "2025-09-07T07:02:56.812654",
     "status": "completed"
    },
    "tags": []
   },
   "outputs": [
    {
     "name": "stdout",
     "output_type": "stream",
     "text": [
      "<class 'pandas.core.frame.DataFrame'>\n",
      "RangeIndex: 2713 entries, 0 to 2712\n",
      "Data columns (total 9 columns):\n",
      " #   Column  Non-Null Count  Dtype         \n",
      "---  ------  --------------  -----         \n",
      " 0   Date    2713 non-null   datetime64[ns]\n",
      " 1   Open    2713 non-null   float64       \n",
      " 2   High    2713 non-null   float64       \n",
      " 3   Low     2713 non-null   float64       \n",
      " 4   Close   2713 non-null   float64       \n",
      " 5   Volume  2713 non-null   int64         \n",
      " 6   year    2713 non-null   int64         \n",
      " 7   month   2713 non-null   int64         \n",
      " 8   day     2713 non-null   int64         \n",
      "dtypes: datetime64[ns](1), float64(4), int64(4)\n",
      "memory usage: 190.9 KB\n"
     ]
    }
   ],
   "source": [
    "df.info()"
   ]
  },
  {
   "cell_type": "code",
   "execution_count": 19,
   "id": "35463040",
   "metadata": {
    "execution": {
     "iopub.execute_input": "2025-09-07T07:02:56.860252Z",
     "iopub.status.busy": "2025-09-07T07:02:56.859965Z",
     "iopub.status.idle": "2025-09-07T07:02:57.608078Z",
     "shell.execute_reply": "2025-09-07T07:02:57.607146Z"
    },
    "papermill": {
     "duration": 0.761038,
     "end_time": "2025-09-07T07:02:57.609612",
     "exception": false,
     "start_time": "2025-09-07T07:02:56.848574",
     "status": "completed"
    },
    "tags": []
   },
   "outputs": [
    {
     "data": {
      "image/png": "[encoded data removed]",
      "text/plain": [
       "<Figure size 2000x1500 with 4 Axes>"
      ]
     },
     "metadata": {},
     "output_type": "display_data"
    }
   ],
   "source": [
    "dg = df.groupby('year').mean()\n",
    "plt.subplots(figsize=(20,15))\n",
    "for i, col in enumerate(['Open','High','Low','Close']):\n",
    "    plt.subplot(2,2,i+1)\n",
    "    dg[col].plot.bar()\n",
    "    plt.title(col,color='red')\n",
    "plt.show()"
   ]
  },
  {
   "cell_type": "code",
   "execution_count": 20,
   "id": "ce862dca",
   "metadata": {
    "execution": {
     "iopub.execute_input": "2025-09-07T07:02:57.637939Z",
     "iopub.status.busy": "2025-09-07T07:02:57.637586Z",
     "iopub.status.idle": "2025-09-07T07:02:57.652348Z",
     "shell.execute_reply": "2025-09-07T07:02:57.651399Z"
    },
    "papermill": {
     "duration": 0.029994,
     "end_time": "2025-09-07T07:02:57.653942",
     "exception": false,
     "start_time": "2025-09-07T07:02:57.623948",
     "status": "completed"
    },
    "tags": []
   },
   "outputs": [
    {
     "data": {
      "text/html": [
       "<div>\n",
       "<style scoped>\n",
       "    .dataframe tbody tr th:only-of-type {\n",
       "        vertical-align: middle;\n",
       "    }\n",
       "\n",
       "    .dataframe tbody tr th {\n",
       "        vertical-align: top;\n",
       "    }\n",
       "\n",
       "    .dataframe thead th {\n",
       "        text-align: right;\n",
       "    }\n",
       "</style>\n",
       "<table border=\"1\" class=\"dataframe\">\n",
       "  <thead>\n",
       "    <tr style=\"text-align: right;\">\n",
       "      <th></th>\n",
       "      <th>Date</th>\n",
       "      <th>Open</th>\n",
       "      <th>High</th>\n",
       "      <th>Low</th>\n",
       "      <th>Close</th>\n",
       "      <th>Volume</th>\n",
       "      <th>year</th>\n",
       "      <th>month</th>\n",
       "      <th>day</th>\n",
       "      <th>is_quarter_end</th>\n",
       "    </tr>\n",
       "  </thead>\n",
       "  <tbody>\n",
       "    <tr>\n",
       "      <th>2389</th>\n",
       "      <td>2021-04-02</td>\n",
       "      <td>59098.878906</td>\n",
       "      <td>60267.187500</td>\n",
       "      <td>58869.281250</td>\n",
       "      <td>59384.312500</td>\n",
       "      <td>58727860620</td>\n",
       "      <td>2021</td>\n",
       "      <td>4</td>\n",
       "      <td>2</td>\n",
       "      <td>0</td>\n",
       "    </tr>\n",
       "    <tr>\n",
       "      <th>564</th>\n",
       "      <td>2016-04-03</td>\n",
       "      <td>421.173004</td>\n",
       "      <td>421.579987</td>\n",
       "      <td>419.696991</td>\n",
       "      <td>420.903992</td>\n",
       "      <td>38053700</td>\n",
       "      <td>2016</td>\n",
       "      <td>4</td>\n",
       "      <td>3</td>\n",
       "      <td>0</td>\n",
       "    </tr>\n",
       "    <tr>\n",
       "      <th>228</th>\n",
       "      <td>2015-05-03</td>\n",
       "      <td>234.880005</td>\n",
       "      <td>243.240005</td>\n",
       "      <td>234.082993</td>\n",
       "      <td>240.358002</td>\n",
       "      <td>18494100</td>\n",
       "      <td>2015</td>\n",
       "      <td>5</td>\n",
       "      <td>3</td>\n",
       "      <td>0</td>\n",
       "    </tr>\n",
       "    <tr>\n",
       "      <th>261</th>\n",
       "      <td>2015-06-05</td>\n",
       "      <td>224.154007</td>\n",
       "      <td>225.968002</td>\n",
       "      <td>223.179001</td>\n",
       "      <td>224.951996</td>\n",
       "      <td>18056500</td>\n",
       "      <td>2015</td>\n",
       "      <td>6</td>\n",
       "      <td>5</td>\n",
       "      <td>1</td>\n",
       "    </tr>\n",
       "    <tr>\n",
       "      <th>2402</th>\n",
       "      <td>2021-04-15</td>\n",
       "      <td>63075.195313</td>\n",
       "      <td>63821.671875</td>\n",
       "      <td>62208.964844</td>\n",
       "      <td>63314.011719</td>\n",
       "      <td>60954381579</td>\n",
       "      <td>2021</td>\n",
       "      <td>4</td>\n",
       "      <td>15</td>\n",
       "      <td>0</td>\n",
       "    </tr>\n",
       "  </tbody>\n",
       "</table>\n",
       "</div>"
      ],
      "text/plain": [
       "           Date          Open          High           Low         Close  \\\n",
       "2389 2021-04-02  59098.878906  60267.187500  58869.281250  59384.312500   \n",
       "564  2016-04-03    421.173004    421.579987    419.696991    420.903992   \n",
       "228  2015-05-03    234.880005    243.240005    234.082993    240.358002   \n",
       "261  2015-06-05    224.154007    225.968002    223.179001    224.951996   \n",
       "2402 2021-04-15  63075.195313  63821.671875  62208.964844  63314.011719   \n",
       "\n",
       "           Volume  year  month  day  is_quarter_end  \n",
       "2389  58727860620  2021      4    2               0  \n",
       "564      38053700  2016      4    3               0  \n",
       "228      18494100  2015      5    3               0  \n",
       "261      18056500  2015      6    5               1  \n",
       "2402  60954381579  2021      4   15               0  "
      ]
     },
     "execution_count": 20,
     "metadata": {},
     "output_type": "execute_result"
    }
   ],
   "source": [
    "df['is_quarter_end'] = np.where(df['month']%3==0,1,0)\n",
    "df.sample(5)"
   ]
  },
  {
   "cell_type": "code",
   "execution_count": 21,
   "id": "8c0a348a",
   "metadata": {
    "execution": {
     "iopub.execute_input": "2025-09-07T07:02:57.679512Z",
     "iopub.status.busy": "2025-09-07T07:02:57.679160Z",
     "iopub.status.idle": "2025-09-07T07:02:57.687768Z",
     "shell.execute_reply": "2025-09-07T07:02:57.686750Z"
    },
    "papermill": {
     "duration": 0.023083,
     "end_time": "2025-09-07T07:02:57.689446",
     "exception": false,
     "start_time": "2025-09-07T07:02:57.666363",
     "status": "completed"
    },
    "tags": []
   },
   "outputs": [],
   "source": [
    "df['Open-Close'] = df['Open'] - df['Close']  # price movement capture: bullish ya bearish.\n",
    "df['Low-High'] = df['Low'] - df['High']      # It measure price volatility Low ya High\n",
    "df['Target'] = np.where(df['Close'].shift(-1) > df['Close'],1,0) \n",
    "# If next day's close is higher than today's close, then target = 1 (buy signal), else 0 (no buy)."
   ]
  },
  {
   "cell_type": "code",
   "execution_count": 22,
   "id": "63feab08",
   "metadata": {
    "execution": {
     "iopub.execute_input": "2025-09-07T07:02:57.781866Z",
     "iopub.status.busy": "2025-09-07T07:02:57.781534Z",
     "iopub.status.idle": "2025-09-07T07:02:57.796175Z",
     "shell.execute_reply": "2025-09-07T07:02:57.795236Z"
    },
    "papermill": {
     "duration": 0.095811,
     "end_time": "2025-09-07T07:02:57.797703",
     "exception": false,
     "start_time": "2025-09-07T07:02:57.701892",
     "status": "completed"
    },
    "tags": []
   },
   "outputs": [
    {
     "data": {
      "text/html": [
       "<div>\n",
       "<style scoped>\n",
       "    .dataframe tbody tr th:only-of-type {\n",
       "        vertical-align: middle;\n",
       "    }\n",
       "\n",
       "    .dataframe tbody tr th {\n",
       "        vertical-align: top;\n",
       "    }\n",
       "\n",
       "    .dataframe thead th {\n",
       "        text-align: right;\n",
       "    }\n",
       "</style>\n",
       "<table border=\"1\" class=\"dataframe\">\n",
       "  <thead>\n",
       "    <tr style=\"text-align: right;\">\n",
       "      <th></th>\n",
       "      <th>Date</th>\n",
       "      <th>Open</th>\n",
       "      <th>High</th>\n",
       "      <th>Low</th>\n",
       "      <th>Close</th>\n",
       "      <th>Volume</th>\n",
       "      <th>year</th>\n",
       "      <th>month</th>\n",
       "      <th>day</th>\n",
       "      <th>is_quarter_end</th>\n",
       "      <th>Open-Close</th>\n",
       "      <th>Low-High</th>\n",
       "      <th>Target</th>\n",
       "    </tr>\n",
       "  </thead>\n",
       "  <tbody>\n",
       "    <tr>\n",
       "      <th>1136</th>\n",
       "      <td>2017-10-27</td>\n",
       "      <td>5899.740234</td>\n",
       "      <td>5988.390137</td>\n",
       "      <td>5728.819824</td>\n",
       "      <td>5780.899902</td>\n",
       "      <td>1710130048</td>\n",
       "      <td>2017</td>\n",
       "      <td>10</td>\n",
       "      <td>27</td>\n",
       "      <td>0</td>\n",
       "      <td>118.840332</td>\n",
       "      <td>-259.570313</td>\n",
       "      <td>0</td>\n",
       "    </tr>\n",
       "    <tr>\n",
       "      <th>1618</th>\n",
       "      <td>2019-02-21</td>\n",
       "      <td>4000.256836</td>\n",
       "      <td>4010.009521</td>\n",
       "      <td>3940.108154</td>\n",
       "      <td>3954.118164</td>\n",
       "      <td>7775128102</td>\n",
       "      <td>2019</td>\n",
       "      <td>2</td>\n",
       "      <td>21</td>\n",
       "      <td>0</td>\n",
       "      <td>46.138672</td>\n",
       "      <td>-69.901367</td>\n",
       "      <td>1</td>\n",
       "    </tr>\n",
       "    <tr>\n",
       "      <th>1382</th>\n",
       "      <td>2018-06-30</td>\n",
       "      <td>6214.220215</td>\n",
       "      <td>6465.509766</td>\n",
       "      <td>6214.220215</td>\n",
       "      <td>6404.000000</td>\n",
       "      <td>4543860224</td>\n",
       "      <td>2018</td>\n",
       "      <td>6</td>\n",
       "      <td>30</td>\n",
       "      <td>1</td>\n",
       "      <td>-189.779785</td>\n",
       "      <td>-251.289551</td>\n",
       "      <td>0</td>\n",
       "    </tr>\n",
       "    <tr>\n",
       "      <th>2449</th>\n",
       "      <td>2021-06-01</td>\n",
       "      <td>37293.792969</td>\n",
       "      <td>37896.734375</td>\n",
       "      <td>35787.085938</td>\n",
       "      <td>36684.925781</td>\n",
       "      <td>34639423297</td>\n",
       "      <td>2021</td>\n",
       "      <td>6</td>\n",
       "      <td>1</td>\n",
       "      <td>1</td>\n",
       "      <td>608.867188</td>\n",
       "      <td>-2109.648437</td>\n",
       "      <td>1</td>\n",
       "    </tr>\n",
       "    <tr>\n",
       "      <th>1961</th>\n",
       "      <td>2020-01-30</td>\n",
       "      <td>9316.016602</td>\n",
       "      <td>9553.125977</td>\n",
       "      <td>9230.897461</td>\n",
       "      <td>9508.993164</td>\n",
       "      <td>32378792851</td>\n",
       "      <td>2020</td>\n",
       "      <td>1</td>\n",
       "      <td>30</td>\n",
       "      <td>0</td>\n",
       "      <td>-192.976562</td>\n",
       "      <td>-322.228516</td>\n",
       "      <td>0</td>\n",
       "    </tr>\n",
       "  </tbody>\n",
       "</table>\n",
       "</div>"
      ],
      "text/plain": [
       "           Date          Open          High           Low         Close  \\\n",
       "1136 2017-10-27   5899.740234   5988.390137   5728.819824   5780.899902   \n",
       "1618 2019-02-21   4000.256836   4010.009521   3940.108154   3954.118164   \n",
       "1382 2018-06-30   6214.220215   6465.509766   6214.220215   6404.000000   \n",
       "2449 2021-06-01  37293.792969  37896.734375  35787.085938  36684.925781   \n",
       "1961 2020-01-30   9316.016602   9553.125977   9230.897461   9508.993164   \n",
       "\n",
       "           Volume  year  month  day  is_quarter_end  Open-Close     Low-High  \\\n",
       "1136   1710130048  2017     10   27               0  118.840332  -259.570313   \n",
       "1618   7775128102  2019      2   21               0   46.138672   -69.901367   \n",
       "1382   4543860224  2018      6   30               1 -189.779785  -251.289551   \n",
       "2449  34639423297  2021      6    1               1  608.867188 -2109.648437   \n",
       "1961  32378792851  2020      1   30               0 -192.976562  -322.228516   \n",
       "\n",
       "      Target  \n",
       "1136       0  \n",
       "1618       1  \n",
       "1382       0  \n",
       "2449       1  \n",
       "1961       0  "
      ]
     },
     "execution_count": 22,
     "metadata": {},
     "output_type": "execute_result"
    }
   ],
   "source": [
    "df.sample(5)"
   ]
  },
  {
   "cell_type": "markdown",
   "id": "d778f435",
   "metadata": {
    "papermill": {
     "duration": 0.011888,
     "end_time": "2025-09-07T07:02:57.821426",
     "exception": false,
     "start_time": "2025-09-07T07:02:57.809538",
     "status": "completed"
    },
    "tags": []
   },
   "source": [
    "### Above we have added some more columns which will help in the training of our model. We have added the target feature which is a signal whether to buy or not we will train our model to predict this only. But before proceeding let's check whether the target is balanced or not using a pie chart."
   ]
  },
  {
   "cell_type": "code",
   "execution_count": 23,
   "id": "c347c265",
   "metadata": {
    "execution": {
     "iopub.execute_input": "2025-09-07T07:02:57.846370Z",
     "iopub.status.busy": "2025-09-07T07:02:57.846036Z",
     "iopub.status.idle": "2025-09-07T07:02:57.964265Z",
     "shell.execute_reply": "2025-09-07T07:02:57.963341Z"
    },
    "papermill": {
     "duration": 0.132644,
     "end_time": "2025-09-07T07:02:57.965800",
     "exception": false,
     "start_time": "2025-09-07T07:02:57.833156",
     "status": "completed"
    },
    "tags": []
   },
   "outputs": [
    {
     "data": {
      "image/png": "[encoded data removed]",
      "text/plain": [
       "<Figure size 640x480 with 1 Axes>"
      ]
     },
     "metadata": {},
     "output_type": "display_data"
    }
   ],
   "source": [
    "plt.pie(df['Target'].value_counts().values,labels=[0,1],autopct='%1.1f%%')\n",
    "plt.show()"
   ]
  },
  {
   "cell_type": "code",
   "execution_count": 24,
   "id": "853d359c",
   "metadata": {
    "execution": {
     "iopub.execute_input": "2025-09-07T07:02:57.992709Z",
     "iopub.status.busy": "2025-09-07T07:02:57.992369Z",
     "iopub.status.idle": "2025-09-07T07:02:58.471216Z",
     "shell.execute_reply": "2025-09-07T07:02:58.469596Z"
    },
    "papermill": {
     "duration": 0.493664,
     "end_time": "2025-09-07T07:02:58.472901",
     "exception": false,
     "start_time": "2025-09-07T07:02:57.979237",
     "status": "completed"
    },
    "tags": []
   },
   "outputs": [
    {
     "data": {
      "image/png": "[encoded data removed]",
      "text/plain": [
       "<Figure size 1000x1000 with 1 Axes>"
      ]
     },
     "metadata": {},
     "output_type": "display_data"
    }
   ],
   "source": [
    "# Check the corellation between the data\n",
    "plt.figure(figsize=(10,10))\n",
    "\n",
    "sns.heatmap(df.corr()>0.9,annot=True, cbar=False)\n",
    "plt.show()"
   ]
  },
  {
   "cell_type": "markdown",
   "id": "6c5a822d",
   "metadata": {
    "papermill": {
     "duration": 0.012762,
     "end_time": "2025-09-07T07:02:58.499411",
     "exception": false,
     "start_time": "2025-09-07T07:02:58.486649",
     "status": "completed"
    },
    "tags": []
   },
   "source": [
    "### So the conclusion is, we can say that there is a high correlation between OHLC which is pretty obvious, and the added features are not highly correlated with each other or previously provided features which means that we are good to go and build our model."
   ]
  },
  {
   "cell_type": "code",
   "execution_count": 25,
   "id": "0765133a",
   "metadata": {
    "execution": {
     "iopub.execute_input": "2025-09-07T07:02:58.527441Z",
     "iopub.status.busy": "2025-09-07T07:02:58.526996Z",
     "iopub.status.idle": "2025-09-07T07:02:58.544646Z",
     "shell.execute_reply": "2025-09-07T07:02:58.543726Z"
    },
    "papermill": {
     "duration": 0.033567,
     "end_time": "2025-09-07T07:02:58.546217",
     "exception": false,
     "start_time": "2025-09-07T07:02:58.512650",
     "status": "completed"
    },
    "tags": []
   },
   "outputs": [
    {
     "data": {
      "text/html": [
       "<div>\n",
       "<style scoped>\n",
       "    .dataframe tbody tr th:only-of-type {\n",
       "        vertical-align: middle;\n",
       "    }\n",
       "\n",
       "    .dataframe tbody tr th {\n",
       "        vertical-align: top;\n",
       "    }\n",
       "\n",
       "    .dataframe thead th {\n",
       "        text-align: right;\n",
       "    }\n",
       "</style>\n",
       "<table border=\"1\" class=\"dataframe\">\n",
       "  <thead>\n",
       "    <tr style=\"text-align: right;\">\n",
       "      <th></th>\n",
       "      <th>Date</th>\n",
       "      <th>Open</th>\n",
       "      <th>High</th>\n",
       "      <th>Low</th>\n",
       "      <th>Close</th>\n",
       "      <th>Volume</th>\n",
       "      <th>year</th>\n",
       "      <th>month</th>\n",
       "      <th>day</th>\n",
       "      <th>is_quarter_end</th>\n",
       "      <th>Open-Close</th>\n",
       "      <th>Low-High</th>\n",
       "      <th>Target</th>\n",
       "    </tr>\n",
       "  </thead>\n",
       "  <tbody>\n",
       "    <tr>\n",
       "      <th>0</th>\n",
       "      <td>2014-09-17</td>\n",
       "      <td>465.864014</td>\n",
       "      <td>468.174011</td>\n",
       "      <td>452.421997</td>\n",
       "      <td>457.334015</td>\n",
       "      <td>21056800</td>\n",
       "      <td>2014</td>\n",
       "      <td>9</td>\n",
       "      <td>17</td>\n",
       "      <td>1</td>\n",
       "      <td>8.529999</td>\n",
       "      <td>-15.752014</td>\n",
       "      <td>0</td>\n",
       "    </tr>\n",
       "    <tr>\n",
       "      <th>1</th>\n",
       "      <td>2014-09-18</td>\n",
       "      <td>456.859985</td>\n",
       "      <td>456.859985</td>\n",
       "      <td>413.104004</td>\n",
       "      <td>424.440002</td>\n",
       "      <td>34483200</td>\n",
       "      <td>2014</td>\n",
       "      <td>9</td>\n",
       "      <td>18</td>\n",
       "      <td>1</td>\n",
       "      <td>32.419983</td>\n",
       "      <td>-43.755981</td>\n",
       "      <td>0</td>\n",
       "    </tr>\n",
       "    <tr>\n",
       "      <th>2</th>\n",
       "      <td>2014-09-19</td>\n",
       "      <td>424.102997</td>\n",
       "      <td>427.834991</td>\n",
       "      <td>384.532013</td>\n",
       "      <td>394.795990</td>\n",
       "      <td>37919700</td>\n",
       "      <td>2014</td>\n",
       "      <td>9</td>\n",
       "      <td>19</td>\n",
       "      <td>1</td>\n",
       "      <td>29.307007</td>\n",
       "      <td>-43.302978</td>\n",
       "      <td>1</td>\n",
       "    </tr>\n",
       "    <tr>\n",
       "      <th>3</th>\n",
       "      <td>2014-09-20</td>\n",
       "      <td>394.673004</td>\n",
       "      <td>423.295990</td>\n",
       "      <td>389.882996</td>\n",
       "      <td>408.903992</td>\n",
       "      <td>36863600</td>\n",
       "      <td>2014</td>\n",
       "      <td>9</td>\n",
       "      <td>20</td>\n",
       "      <td>1</td>\n",
       "      <td>-14.230988</td>\n",
       "      <td>-33.412994</td>\n",
       "      <td>0</td>\n",
       "    </tr>\n",
       "    <tr>\n",
       "      <th>4</th>\n",
       "      <td>2014-09-21</td>\n",
       "      <td>408.084991</td>\n",
       "      <td>412.425995</td>\n",
       "      <td>393.181000</td>\n",
       "      <td>398.821014</td>\n",
       "      <td>26580100</td>\n",
       "      <td>2014</td>\n",
       "      <td>9</td>\n",
       "      <td>21</td>\n",
       "      <td>1</td>\n",
       "      <td>9.263977</td>\n",
       "      <td>-19.244995</td>\n",
       "      <td>1</td>\n",
       "    </tr>\n",
       "    <tr>\n",
       "      <th>...</th>\n",
       "      <td>...</td>\n",
       "      <td>...</td>\n",
       "      <td>...</td>\n",
       "      <td>...</td>\n",
       "      <td>...</td>\n",
       "      <td>...</td>\n",
       "      <td>...</td>\n",
       "      <td>...</td>\n",
       "      <td>...</td>\n",
       "      <td>...</td>\n",
       "      <td>...</td>\n",
       "      <td>...</td>\n",
       "      <td>...</td>\n",
       "    </tr>\n",
       "    <tr>\n",
       "      <th>2708</th>\n",
       "      <td>2022-02-15</td>\n",
       "      <td>42586.464844</td>\n",
       "      <td>44667.218750</td>\n",
       "      <td>42491.035156</td>\n",
       "      <td>44575.203125</td>\n",
       "      <td>22721659051</td>\n",
       "      <td>2022</td>\n",
       "      <td>2</td>\n",
       "      <td>15</td>\n",
       "      <td>0</td>\n",
       "      <td>-1988.738281</td>\n",
       "      <td>-2176.183594</td>\n",
       "      <td>0</td>\n",
       "    </tr>\n",
       "    <tr>\n",
       "      <th>2709</th>\n",
       "      <td>2022-02-16</td>\n",
       "      <td>44578.277344</td>\n",
       "      <td>44578.277344</td>\n",
       "      <td>43456.691406</td>\n",
       "      <td>43961.859375</td>\n",
       "      <td>19792547657</td>\n",
       "      <td>2022</td>\n",
       "      <td>2</td>\n",
       "      <td>16</td>\n",
       "      <td>0</td>\n",
       "      <td>616.417969</td>\n",
       "      <td>-1121.585938</td>\n",
       "      <td>0</td>\n",
       "    </tr>\n",
       "    <tr>\n",
       "      <th>2710</th>\n",
       "      <td>2022-02-17</td>\n",
       "      <td>43937.070313</td>\n",
       "      <td>44132.972656</td>\n",
       "      <td>40249.371094</td>\n",
       "      <td>40538.011719</td>\n",
       "      <td>26246662813</td>\n",
       "      <td>2022</td>\n",
       "      <td>2</td>\n",
       "      <td>17</td>\n",
       "      <td>0</td>\n",
       "      <td>3399.058594</td>\n",
       "      <td>-3883.601562</td>\n",
       "      <td>0</td>\n",
       "    </tr>\n",
       "    <tr>\n",
       "      <th>2711</th>\n",
       "      <td>2022-02-18</td>\n",
       "      <td>40552.132813</td>\n",
       "      <td>40929.152344</td>\n",
       "      <td>39637.617188</td>\n",
       "      <td>40030.976563</td>\n",
       "      <td>23310007704</td>\n",
       "      <td>2022</td>\n",
       "      <td>2</td>\n",
       "      <td>18</td>\n",
       "      <td>0</td>\n",
       "      <td>521.156250</td>\n",
       "      <td>-1291.535156</td>\n",
       "      <td>1</td>\n",
       "    </tr>\n",
       "    <tr>\n",
       "      <th>2712</th>\n",
       "      <td>2022-02-19</td>\n",
       "      <td>40022.132813</td>\n",
       "      <td>40246.027344</td>\n",
       "      <td>40010.867188</td>\n",
       "      <td>40126.429688</td>\n",
       "      <td>22263900160</td>\n",
       "      <td>2022</td>\n",
       "      <td>2</td>\n",
       "      <td>19</td>\n",
       "      <td>0</td>\n",
       "      <td>-104.296875</td>\n",
       "      <td>-235.160156</td>\n",
       "      <td>0</td>\n",
       "    </tr>\n",
       "  </tbody>\n",
       "</table>\n",
       "<p>2713 rows × 13 columns</p>\n",
       "</div>"
      ],
      "text/plain": [
       "           Date          Open          High           Low         Close  \\\n",
       "0    2014-09-17    465.864014    468.174011    452.421997    457.334015   \n",
       "1    2014-09-18    456.859985    456.859985    413.104004    424.440002   \n",
       "2    2014-09-19    424.102997    427.834991    384.532013    394.795990   \n",
       "3    2014-09-20    394.673004    423.295990    389.882996    408.903992   \n",
       "4    2014-09-21    408.084991    412.425995    393.181000    398.821014   \n",
       "...         ...           ...           ...           ...           ...   \n",
       "2708 2022-02-15  42586.464844  44667.218750  42491.035156  44575.203125   \n",
       "2709 2022-02-16  44578.277344  44578.277344  43456.691406  43961.859375   \n",
       "2710 2022-02-17  43937.070313  44132.972656  40249.371094  40538.011719   \n",
       "2711 2022-02-18  40552.132813  40929.152344  39637.617188  40030.976563   \n",
       "2712 2022-02-19  40022.132813  40246.027344  40010.867188  40126.429688   \n",
       "\n",
       "           Volume  year  month  day  is_quarter_end   Open-Close     Low-High  \\\n",
       "0        21056800  2014      9   17               1     8.529999   -15.752014   \n",
       "1        34483200  2014      9   18               1    32.419983   -43.755981   \n",
       "2        37919700  2014      9   19               1    29.307007   -43.302978   \n",
       "3        36863600  2014      9   20               1   -14.230988   -33.412994   \n",
       "4        26580100  2014      9   21               1     9.263977   -19.244995   \n",
       "...           ...   ...    ...  ...             ...          ...          ...   \n",
       "2708  22721659051  2022      2   15               0 -1988.738281 -2176.183594   \n",
       "2709  19792547657  2022      2   16               0   616.417969 -1121.585938   \n",
       "2710  26246662813  2022      2   17               0  3399.058594 -3883.601562   \n",
       "2711  23310007704  2022      2   18               0   521.156250 -1291.535156   \n",
       "2712  22263900160  2022      2   19               0  -104.296875  -235.160156   \n",
       "\n",
       "      Target  \n",
       "0          0  \n",
       "1          0  \n",
       "2          1  \n",
       "3          0  \n",
       "4          1  \n",
       "...      ...  \n",
       "2708       0  \n",
       "2709       0  \n",
       "2710       0  \n",
       "2711       1  \n",
       "2712       0  \n",
       "\n",
       "[2713 rows x 13 columns]"
      ]
     },
     "execution_count": 25,
     "metadata": {},
     "output_type": "execute_result"
    }
   ],
   "source": [
    "df"
   ]
  },
  {
   "cell_type": "code",
   "execution_count": 26,
   "id": "95bbe7d0",
   "metadata": {
    "execution": {
     "iopub.execute_input": "2025-09-07T07:02:58.574399Z",
     "iopub.status.busy": "2025-09-07T07:02:58.574070Z",
     "iopub.status.idle": "2025-09-07T07:02:59.057421Z",
     "shell.execute_reply": "2025-09-07T07:02:59.056262Z"
    },
    "papermill": {
     "duration": 0.499242,
     "end_time": "2025-09-07T07:02:59.059017",
     "exception": false,
     "start_time": "2025-09-07T07:02:58.559775",
     "status": "completed"
    },
    "tags": []
   },
   "outputs": [],
   "source": [
    "from sklearn.model_selection import train_test_split\n",
    "from sklearn.preprocessing import StandardScaler\n",
    "\n",
    "# Taking the target and the training data\n",
    "x = df[['Open-Close','Low-High','is_quarter_end']]\n",
    "y = df['Target']\n",
    "\n",
    "# Scaling the training data\n",
    "ss = StandardScaler()\n",
    "x= ss.fit_transform(x)\n",
    "\n",
    "# Train the data\n",
    "xtrain,xtest,ytrain,ytest = train_test_split(x,y,test_size=0.2,random_state=42)"
   ]
  },
  {
   "cell_type": "markdown",
   "id": "706a1e84",
   "metadata": {
    "papermill": {
     "duration": 0.013111,
     "end_time": "2025-09-07T07:02:59.085310",
     "exception": false,
     "start_time": "2025-09-07T07:02:59.072199",
     "status": "completed"
    },
    "tags": []
   },
   "source": [
    "# Model Development and Evaluation\n",
    "\n",
    "* Now is the time to train some state-of-the-art machine learning models(Logistic Regression, Support Vector Machine, XGBClassifier), and then based on their performance on the training and validation data we will choose which ML model is serving the purpose at hand better.\n",
    "\n",
    "* For the evaluation metric, we will use the ROC-AUC curve but why this is because instead of predicting the hard probability that is 0 or 1 we would like it to predict soft probabilities that are continuous values between 0 to 1. And with soft probabilities, the ROC-AUC curve is generally used to measure the accuracy of the predictions."
   ]
  },
  {
   "cell_type": "code",
   "execution_count": 27,
   "id": "0bc6d5ca",
   "metadata": {
    "execution": {
     "iopub.execute_input": "2025-09-07T07:02:59.113048Z",
     "iopub.status.busy": "2025-09-07T07:02:59.112659Z",
     "iopub.status.idle": "2025-09-07T07:02:59.621356Z",
     "shell.execute_reply": "2025-09-07T07:02:59.620559Z"
    },
    "papermill": {
     "duration": 0.524833,
     "end_time": "2025-09-07T07:02:59.623120",
     "exception": false,
     "start_time": "2025-09-07T07:02:59.098287",
     "status": "completed"
    },
    "tags": []
   },
   "outputs": [],
   "source": [
    "# Import the nacessary libraries best for the model\n",
    "from sklearn.linear_model import LogisticRegression\n",
    "from sklearn.svm import SVC\n",
    "from xgboost import XGBClassifier\n",
    "from sklearn import metrics"
   ]
  },
  {
   "cell_type": "code",
   "execution_count": 28,
   "id": "14419bda",
   "metadata": {
    "execution": {
     "iopub.execute_input": "2025-09-07T07:02:59.651454Z",
     "iopub.status.busy": "2025-09-07T07:02:59.651118Z",
     "iopub.status.idle": "2025-09-07T07:03:04.333421Z",
     "shell.execute_reply": "2025-09-07T07:03:04.332724Z"
    },
    "papermill": {
     "duration": 4.699922,
     "end_time": "2025-09-07T07:03:04.336541",
     "exception": false,
     "start_time": "2025-09-07T07:02:59.636619",
     "status": "completed"
    },
    "tags": []
   },
   "outputs": [
    {
     "name": "stdout",
     "output_type": "stream",
     "text": [
      "LogisticRegression() : \n",
      "Training Accuracy :  0.529203766574851\n",
      "Test Accuracy :  0.5020782867209865\n",
      "\n",
      "SVC(kernel='poly', probability=True) : \n",
      "Training Accuracy :  0.4678333653620311\n",
      "Test Accuracy :  0.4702433384717022\n",
      "\n",
      "XGBClassifier(base_score=None, booster=None, callbacks=None,\n",
      "              colsample_bylevel=None, colsample_bynode=None,\n",
      "              colsample_bytree=0.6, device=None, early_stopping_rounds=None,\n",
      "              enable_categorical=False, eval_metric='logloss',\n",
      "              feature_types=None, gamma=1, grow_policy=None,\n",
      "              importance_type=None, interaction_constraints=None,\n",
      "              learning_rate=0.05, max_bin=None, max_cat_threshold=None,\n",
      "              max_cat_to_onehot=None, max_delta_step=None, max_depth=3,\n",
      "              max_leaves=None, min_child_weight=5, missing=nan,\n",
      "              monotone_constraints=None, multi_strategy=None, n_estimators=100,\n",
      "              n_jobs=None, num_parallel_tree=None, random_state=42, ...) : \n",
      "Training Accuracy :  0.6383532978882412\n",
      "Test Accuracy :  0.5017135542831975\n",
      "\n"
     ]
    }
   ],
   "source": [
    "models = [LogisticRegression(),SVC(kernel='poly',probability=True),XGBClassifier(\n",
    "    n_estimators=100,           # Number of boosting rounds\n",
    "    max_depth=3,                # Shallower trees to reduce complexity\n",
    "    learning_rate=0.05,         # Slower learning to avoid overfitting\n",
    "    subsample=0.7,              # Use 70% of rows per tree\n",
    "    colsample_bytree=0.6,       # Use 60% of features per tree\n",
    "    gamma=1,                    # Require minimum loss reduction to split\n",
    "    min_child_weight=5,         # Minimum weight in leaf node\n",
    "    scale_pos_weight=1,         # Class imbalance not severe\n",
    "    objective='binary:logistic',\n",
    "    eval_metric='logloss',\n",
    "    use_label_encoder=False,\n",
    "    random_state=42\n",
    ")]\n",
    "\n",
    "for i in range(3):\n",
    "    models[i].fit(xtrain,ytrain)\n",
    "    print(f'{models[i]} : ')\n",
    "    print('Training Accuracy : ',metrics.roc_auc_score(ytrain,models[i].predict_proba(xtrain)[:,1]))\n",
    "    print('Test Accuracy : ',metrics.roc_auc_score(ytest,models[i].predict_proba(xtest)[:,1]))\n",
    "    print()\n",
    "    "
   ]
  },
  {
   "cell_type": "markdown",
   "id": "4cfa3fca",
   "metadata": {
    "papermill": {
     "duration": 0.013535,
     "end_time": "2025-09-07T07:03:04.365896",
     "exception": false,
     "start_time": "2025-09-07T07:03:04.352361",
     "status": "completed"
    },
    "tags": []
   },
   "source": [
    "### Out of the three models we trained, XGBClassifier delivered the best performance on the training data. However, its significantly lower validation accuracy suggests overfitting — the model has learned the training data too well but struggles to generalize. In contrast, Logistic Regression shows more balanced performance across both training and validation sets, indicating better generalization."
   ]
  },
  {
   "cell_type": "code",
   "execution_count": 29,
   "id": "d24d7c4a",
   "metadata": {
    "execution": {
     "iopub.execute_input": "2025-09-07T07:03:04.393789Z",
     "iopub.status.busy": "2025-09-07T07:03:04.393399Z",
     "iopub.status.idle": "2025-09-07T07:03:04.571376Z",
     "shell.execute_reply": "2025-09-07T07:03:04.570545Z"
    },
    "papermill": {
     "duration": 0.193645,
     "end_time": "2025-09-07T07:03:04.572896",
     "exception": false,
     "start_time": "2025-09-07T07:03:04.379251",
     "status": "completed"
    },
    "tags": []
   },
   "outputs": [
    {
     "data": {
      "image/png": "[encoded data removed]",
      "text/plain": [
       "<Figure size 640x480 with 2 Axes>"
      ]
     },
     "metadata": {},
     "output_type": "display_data"
    }
   ],
   "source": [
    "# Let's plot a confusion metrics\n",
    "from sklearn.metrics import ConfusionMatrixDisplay\n",
    "\n",
    "ConfusionMatrixDisplay.from_estimator(models[0], xtest,ytest , cmap='Blues')\n",
    "plt.show()"
   ]
  },
  {
   "cell_type": "code",
   "execution_count": 30,
   "id": "db9c8037",
   "metadata": {
    "execution": {
     "iopub.execute_input": "2025-09-07T07:03:04.601924Z",
     "iopub.status.busy": "2025-09-07T07:03:04.601589Z",
     "iopub.status.idle": "2025-09-07T07:03:04.775489Z",
     "shell.execute_reply": "2025-09-07T07:03:04.774476Z"
    },
    "papermill": {
     "duration": 0.190225,
     "end_time": "2025-09-07T07:03:04.777037",
     "exception": false,
     "start_time": "2025-09-07T07:03:04.586812",
     "status": "completed"
    },
    "tags": []
   },
   "outputs": [
    {
     "data": {
      "image/png": "[encoded data removed]",
      "text/plain": [
       "<Figure size 640x480 with 2 Axes>"
      ]
     },
     "metadata": {},
     "output_type": "display_data"
    }
   ],
   "source": [
    "# Let's plot a confusion metrics\n",
    "from sklearn.metrics import ConfusionMatrixDisplay\n",
    "\n",
    "ConfusionMatrixDisplay.from_estimator(models[2], xtest,ytest , cmap='Blues')\n",
    "plt.show()"
   ]
  },
  {
   "cell_type": "code",
   "execution_count": null,
   "id": "1e5284ab",
   "metadata": {
    "papermill": {
     "duration": 0.014676,
     "end_time": "2025-09-07T07:03:04.805883",
     "exception": false,
     "start_time": "2025-09-07T07:03:04.791207",
     "status": "completed"
    },
    "tags": []
   },
   "outputs": [],
   "source": []
  },
  {
   "cell_type": "code",
   "execution_count": null,
   "id": "99733db8",
   "metadata": {
    "papermill": {
     "duration": 0.014619,
     "end_time": "2025-09-07T07:03:04.835118",
     "exception": false,
     "start_time": "2025-09-07T07:03:04.820499",
     "status": "completed"
    },
    "tags": []
   },
   "outputs": [],
   "source": []
  },
  {
   "cell_type": "code",
   "execution_count": null,
   "id": "20662300",
   "metadata": {
    "papermill": {
     "duration": 0.014015,
     "end_time": "2025-09-07T07:03:04.863190",
     "exception": false,
     "start_time": "2025-09-07T07:03:04.849175",
     "status": "completed"
    },
    "tags": []
   },
   "outputs": [],
   "source": []
  },
  {
   "cell_type": "code",
   "execution_count": null,
   "id": "9297a20e",
   "metadata": {
    "papermill": {
     "duration": 0.014729,
     "end_time": "2025-09-07T07:03:04.892138",
     "exception": false,
     "start_time": "2025-09-07T07:03:04.877409",
     "status": "completed"
    },
    "tags": []
   },
   "outputs": [],
   "source": []
  }
 ],
 "metadata": {
  "kaggle": {
   "accelerator": "none",
   "dataSources": [
    {
     "datasetId": 8212337,
     "sourceId": 12975162,
     "sourceType": "datasetVersion"
    }
   ],
   "dockerImageVersionId": 31089,
   "isGpuEnabled": false,
   "isInternetEnabled": true,
   "language": "python",
   "sourceType": "notebook"
  },
  "kernelspec": {
   "display_name": "Python 3",
   "language": "python",
   "name": "python3"
  },
  "language_info": {
   "codemirror_mode": {
    "name": "ipython",
    "version": 3
   },
   "file_extension": ".py",
   "mimetype": "text/x-python",
   "name": "python",
   "nbconvert_exporter": "python",
   "pygments_lexer": "ipython3",
   "version": "3.11.13"
  },
  "papermill": {
   "default_parameters": {},
   "duration": 21.412104,
   "end_time": "2025-09-07T07:03:05.728257",
   "environment_variables": {},
   "exception": null,
   "input_path": "__notebook__.ipynb",
   "output_path": "__notebook__.ipynb",
   "parameters": {},
   "start_time": "2025-09-07T07:02:44.316153",
   "version": "2.6.0"
  }
 },
 "nbformat": 4,
 "nbformat_minor": 5
}
