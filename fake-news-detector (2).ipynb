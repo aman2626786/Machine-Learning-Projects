{
 "cells": [
  {
   "cell_type": "code",
   "execution_count": 1,
   "id": "96b76419",
   "metadata": {
    "_cell_guid": "b1076dfc-b9ad-4769-8c92-a6c4dae69d19",
    "_uuid": "8f2839f25d086af736a60e9eeb907d3b93b6e0e5",
    "execution": {
     "iopub.execute_input": "2025-03-30T07:40:16.976771Z",
     "iopub.status.busy": "2025-03-30T07:40:16.976404Z",
     "iopub.status.idle": "2025-03-30T07:40:17.876917Z",
     "shell.execute_reply": "2025-03-30T07:40:17.875570Z"
    },
    "papermill": {
     "duration": 0.913474,
     "end_time": "2025-03-30T07:40:17.878774",
     "exception": false,
     "start_time": "2025-03-30T07:40:16.965300",
     "status": "completed"
    },
    "tags": []
   },
   "outputs": [
    {
     "name": "stdout",
     "output_type": "stream",
     "text": [
      "/kaggle/input/fake-news-dataset/New Task.csv\n",
      "/kaggle/input/fake-news-dataset/True.csv\n",
      "/kaggle/input/fake-news-dataset/Fake.csv\n",
      "/kaggle/input/fake-news-dataset/news.csv\n"
     ]
    }
   ],
   "source": [
    "# This Python 3 environment comes with many helpful analytics libraries installed\n",
    "# It is defined by the kaggle/python Docker image: https://github.com/kaggle/docker-python\n",
    "# For example, here's several helpful packages to load\n",
    "\n",
    "import numpy as np # linear algebra\n",
    "import pandas as pd # data processing, CSV file I/O (e.g. pd.read_csv)\n",
    "\n",
    "# Input data files are available in the read-only \"../input/\" directory\n",
    "# For example, running this (by clicking run or pressing Shift+Enter) will list all files under the input directory\n",
    "\n",
    "import os\n",
    "for dirname, _, filenames in os.walk('/kaggle/input'):\n",
    "    for filename in filenames:\n",
    "        print(os.path.join(dirname, filename))\n",
    "\n",
    "# You can write up to 20GB to the current directory (/kaggle/working/) that gets preserved as output when you create a version using \"Save & Run All\" \n",
    "# You can also write temporary files to /kaggle/temp/, but they won't be saved outside of the current session"
   ]
  },
  {
   "cell_type": "code",
   "execution_count": 2,
   "id": "2ec69fd6",
   "metadata": {
    "execution": {
     "iopub.execute_input": "2025-03-30T07:40:17.899052Z",
     "iopub.status.busy": "2025-03-30T07:40:17.898522Z",
     "iopub.status.idle": "2025-03-30T07:40:19.957674Z",
     "shell.execute_reply": "2025-03-30T07:40:19.956689Z"
    },
    "papermill": {
     "duration": 2.071354,
     "end_time": "2025-03-30T07:40:19.959867",
     "exception": false,
     "start_time": "2025-03-30T07:40:17.888513",
     "status": "completed"
    },
    "tags": []
   },
   "outputs": [],
   "source": [
    "df1 = pd.read_csv(\"/kaggle/input/fake-news-dataset/Fake.csv\")"
   ]
  },
  {
   "cell_type": "code",
   "execution_count": 3,
   "id": "c69cd7c6",
   "metadata": {
    "execution": {
     "iopub.execute_input": "2025-03-30T07:40:19.980807Z",
     "iopub.status.busy": "2025-03-30T07:40:19.980412Z",
     "iopub.status.idle": "2025-03-30T07:40:21.671017Z",
     "shell.execute_reply": "2025-03-30T07:40:21.670107Z"
    },
    "papermill": {
     "duration": 1.703228,
     "end_time": "2025-03-30T07:40:21.672994",
     "exception": false,
     "start_time": "2025-03-30T07:40:19.969766",
     "status": "completed"
    },
    "tags": []
   },
   "outputs": [],
   "source": [
    "df2 = pd.read_csv(\"/kaggle/input/fake-news-dataset/True.csv\")"
   ]
  },
  {
   "cell_type": "code",
   "execution_count": 4,
   "id": "60c10573",
   "metadata": {
    "execution": {
     "iopub.execute_input": "2025-03-30T07:40:21.695215Z",
     "iopub.status.busy": "2025-03-30T07:40:21.694826Z",
     "iopub.status.idle": "2025-03-30T07:40:21.700291Z",
     "shell.execute_reply": "2025-03-30T07:40:21.699148Z"
    },
    "papermill": {
     "duration": 0.018821,
     "end_time": "2025-03-30T07:40:21.702086",
     "exception": false,
     "start_time": "2025-03-30T07:40:21.683265",
     "status": "completed"
    },
    "tags": []
   },
   "outputs": [
    {
     "name": "stdout",
     "output_type": "stream",
     "text": [
      "(23481, 4)\n",
      "(21417, 4)\n"
     ]
    }
   ],
   "source": [
    "print(df1.shape)\n",
    "print(df2.shape)"
   ]
  },
  {
   "cell_type": "code",
   "execution_count": 5,
   "id": "6c0c6130",
   "metadata": {
    "execution": {
     "iopub.execute_input": "2025-03-30T07:40:21.721909Z",
     "iopub.status.busy": "2025-03-30T07:40:21.721502Z",
     "iopub.status.idle": "2025-03-30T07:40:21.748641Z",
     "shell.execute_reply": "2025-03-30T07:40:21.747465Z"
    },
    "papermill": {
     "duration": 0.03921,
     "end_time": "2025-03-30T07:40:21.750597",
     "exception": false,
     "start_time": "2025-03-30T07:40:21.711387",
     "status": "completed"
    },
    "tags": []
   },
   "outputs": [
    {
     "data": {
      "text/html": [
       "<div>\n",
       "<style scoped>\n",
       "    .dataframe tbody tr th:only-of-type {\n",
       "        vertical-align: middle;\n",
       "    }\n",
       "\n",
       "    .dataframe tbody tr th {\n",
       "        vertical-align: top;\n",
       "    }\n",
       "\n",
       "    .dataframe thead th {\n",
       "        text-align: right;\n",
       "    }\n",
       "</style>\n",
       "<table border=\"1\" class=\"dataframe\">\n",
       "  <thead>\n",
       "    <tr style=\"text-align: right;\">\n",
       "      <th></th>\n",
       "      <th>title</th>\n",
       "      <th>text</th>\n",
       "      <th>subject</th>\n",
       "      <th>date</th>\n",
       "    </tr>\n",
       "  </thead>\n",
       "  <tbody>\n",
       "    <tr>\n",
       "      <th>0</th>\n",
       "      <td>Donald Trump Sends Out Embarrassing New Year’...</td>\n",
       "      <td>Donald Trump just couldn t wish all Americans ...</td>\n",
       "      <td>News</td>\n",
       "      <td>December 31, 2017</td>\n",
       "    </tr>\n",
       "    <tr>\n",
       "      <th>1</th>\n",
       "      <td>Drunk Bragging Trump Staffer Started Russian ...</td>\n",
       "      <td>House Intelligence Committee Chairman Devin Nu...</td>\n",
       "      <td>News</td>\n",
       "      <td>December 31, 2017</td>\n",
       "    </tr>\n",
       "    <tr>\n",
       "      <th>2</th>\n",
       "      <td>Sheriff David Clarke Becomes An Internet Joke...</td>\n",
       "      <td>On Friday, it was revealed that former Milwauk...</td>\n",
       "      <td>News</td>\n",
       "      <td>December 30, 2017</td>\n",
       "    </tr>\n",
       "    <tr>\n",
       "      <th>3</th>\n",
       "      <td>Trump Is So Obsessed He Even Has Obama’s Name...</td>\n",
       "      <td>On Christmas day, Donald Trump announced that ...</td>\n",
       "      <td>News</td>\n",
       "      <td>December 29, 2017</td>\n",
       "    </tr>\n",
       "    <tr>\n",
       "      <th>4</th>\n",
       "      <td>Pope Francis Just Called Out Donald Trump Dur...</td>\n",
       "      <td>Pope Francis used his annual Christmas Day mes...</td>\n",
       "      <td>News</td>\n",
       "      <td>December 25, 2017</td>\n",
       "    </tr>\n",
       "  </tbody>\n",
       "</table>\n",
       "</div>"
      ],
      "text/plain": [
       "                                               title  \\\n",
       "0   Donald Trump Sends Out Embarrassing New Year’...   \n",
       "1   Drunk Bragging Trump Staffer Started Russian ...   \n",
       "2   Sheriff David Clarke Becomes An Internet Joke...   \n",
       "3   Trump Is So Obsessed He Even Has Obama’s Name...   \n",
       "4   Pope Francis Just Called Out Donald Trump Dur...   \n",
       "\n",
       "                                                text subject  \\\n",
       "0  Donald Trump just couldn t wish all Americans ...    News   \n",
       "1  House Intelligence Committee Chairman Devin Nu...    News   \n",
       "2  On Friday, it was revealed that former Milwauk...    News   \n",
       "3  On Christmas day, Donald Trump announced that ...    News   \n",
       "4  Pope Francis used his annual Christmas Day mes...    News   \n",
       "\n",
       "                date  \n",
       "0  December 31, 2017  \n",
       "1  December 31, 2017  \n",
       "2  December 30, 2017  \n",
       "3  December 29, 2017  \n",
       "4  December 25, 2017  "
      ]
     },
     "execution_count": 5,
     "metadata": {},
     "output_type": "execute_result"
    }
   ],
   "source": [
    "df1.head(5)"
   ]
  },
  {
   "cell_type": "markdown",
   "id": "750105db",
   "metadata": {
    "papermill": {
     "duration": 0.009127,
     "end_time": "2025-03-30T07:40:21.769549",
     "exception": false,
     "start_time": "2025-03-30T07:40:21.760422",
     "status": "completed"
    },
    "tags": []
   },
   "source": [
    "# Assign Labels ( Fake = 0 or True = 1)"
   ]
  },
  {
   "cell_type": "code",
   "execution_count": 6,
   "id": "1318978f",
   "metadata": {
    "execution": {
     "iopub.execute_input": "2025-03-30T07:40:21.789715Z",
     "iopub.status.busy": "2025-03-30T07:40:21.789373Z",
     "iopub.status.idle": "2025-03-30T07:40:21.795632Z",
     "shell.execute_reply": "2025-03-30T07:40:21.794433Z"
    },
    "papermill": {
     "duration": 0.018565,
     "end_time": "2025-03-30T07:40:21.797593",
     "exception": false,
     "start_time": "2025-03-30T07:40:21.779028",
     "status": "completed"
    },
    "tags": []
   },
   "outputs": [],
   "source": [
    "df1[\"label\"] = 0   # Add 0 for the fake dataset as a target column\n",
    "df2[\"label\"] = 1   # Add 1 for the true dataset again a target column"
   ]
  },
  {
   "cell_type": "code",
   "execution_count": 7,
   "id": "38fe9a15",
   "metadata": {
    "execution": {
     "iopub.execute_input": "2025-03-30T07:40:21.818296Z",
     "iopub.status.busy": "2025-03-30T07:40:21.817877Z",
     "iopub.status.idle": "2025-03-30T07:40:21.821892Z",
     "shell.execute_reply": "2025-03-30T07:40:21.820788Z"
    },
    "papermill": {
     "duration": 0.016527,
     "end_time": "2025-03-30T07:40:21.823823",
     "exception": false,
     "start_time": "2025-03-30T07:40:21.807296",
     "status": "completed"
    },
    "tags": []
   },
   "outputs": [],
   "source": [
    "# df2.sample(10)"
   ]
  },
  {
   "cell_type": "markdown",
   "id": "060e2c2f",
   "metadata": {
    "papermill": {
     "duration": 0.009155,
     "end_time": "2025-03-30T07:40:21.842922",
     "exception": false,
     "start_time": "2025-03-30T07:40:21.833767",
     "status": "completed"
    },
    "tags": []
   },
   "source": [
    "# Combine All Dataset \n",
    "**Now our dataset is in valid formate so combine the dataset using concat function**"
   ]
  },
  {
   "cell_type": "code",
   "execution_count": 8,
   "id": "5e8704c8",
   "metadata": {
    "execution": {
     "iopub.execute_input": "2025-03-30T07:40:21.863335Z",
     "iopub.status.busy": "2025-03-30T07:40:21.862930Z",
     "iopub.status.idle": "2025-03-30T07:40:21.872428Z",
     "shell.execute_reply": "2025-03-30T07:40:21.871349Z"
    },
    "papermill": {
     "duration": 0.021734,
     "end_time": "2025-03-30T07:40:21.874180",
     "exception": false,
     "start_time": "2025-03-30T07:40:21.852446",
     "status": "completed"
    },
    "tags": []
   },
   "outputs": [],
   "source": [
    "df = pd.concat([df1,df2],ignore_index=True)"
   ]
  },
  {
   "cell_type": "code",
   "execution_count": 9,
   "id": "29d53cb8",
   "metadata": {
    "execution": {
     "iopub.execute_input": "2025-03-30T07:40:21.894634Z",
     "iopub.status.busy": "2025-03-30T07:40:21.894249Z",
     "iopub.status.idle": "2025-03-30T07:40:21.912906Z",
     "shell.execute_reply": "2025-03-30T07:40:21.911852Z"
    },
    "papermill": {
     "duration": 0.030639,
     "end_time": "2025-03-30T07:40:21.914542",
     "exception": false,
     "start_time": "2025-03-30T07:40:21.883903",
     "status": "completed"
    },
    "tags": []
   },
   "outputs": [
    {
     "data": {
      "text/html": [
       "<div>\n",
       "<style scoped>\n",
       "    .dataframe tbody tr th:only-of-type {\n",
       "        vertical-align: middle;\n",
       "    }\n",
       "\n",
       "    .dataframe tbody tr th {\n",
       "        vertical-align: top;\n",
       "    }\n",
       "\n",
       "    .dataframe thead th {\n",
       "        text-align: right;\n",
       "    }\n",
       "</style>\n",
       "<table border=\"1\" class=\"dataframe\">\n",
       "  <thead>\n",
       "    <tr style=\"text-align: right;\">\n",
       "      <th></th>\n",
       "      <th>title</th>\n",
       "      <th>text</th>\n",
       "      <th>subject</th>\n",
       "      <th>date</th>\n",
       "      <th>label</th>\n",
       "    </tr>\n",
       "  </thead>\n",
       "  <tbody>\n",
       "    <tr>\n",
       "      <th>36786</th>\n",
       "      <td>Israeli missiles hit military post near Damasc...</td>\n",
       "      <td>BEIRUT (Reuters) - Israeli missiles struck a m...</td>\n",
       "      <td>worldnews</td>\n",
       "      <td>December 2, 2017</td>\n",
       "      <td>1</td>\n",
       "    </tr>\n",
       "    <tr>\n",
       "      <th>14729</th>\n",
       "      <td>EVERY U.S. CITIZEN TAKEN HOSTAGE IN IRAN To Be...</td>\n",
       "      <td>Just another slap in the face to US citizens. ...</td>\n",
       "      <td>politics</td>\n",
       "      <td>Dec 31, 2015</td>\n",
       "      <td>0</td>\n",
       "    </tr>\n",
       "    <tr>\n",
       "      <th>9214</th>\n",
       "      <td>JUST RELEASED: Texts Between Anti-Trump Muelle...</td>\n",
       "      <td>Fox News just revealed what we knew but it s o...</td>\n",
       "      <td>politics</td>\n",
       "      <td>Dec 12, 2017</td>\n",
       "      <td>0</td>\n",
       "    </tr>\n",
       "    <tr>\n",
       "      <th>15820</th>\n",
       "      <td>HIGH SCHOOL TEACHER ASKS STUDENTS TO “Pretend ...</td>\n",
       "      <td>Umm Yeah Okay Would it be acceptable to the sc...</td>\n",
       "      <td>politics</td>\n",
       "      <td>Apr 15, 2015</td>\n",
       "      <td>0</td>\n",
       "    </tr>\n",
       "    <tr>\n",
       "      <th>28554</th>\n",
       "      <td>Trump to nominate Francisco as U.S. solicitor ...</td>\n",
       "      <td>WASHINGTON (Reuters) - President Donald Trump ...</td>\n",
       "      <td>politicsNews</td>\n",
       "      <td>March 7, 2017</td>\n",
       "      <td>1</td>\n",
       "    </tr>\n",
       "    <tr>\n",
       "      <th>41132</th>\n",
       "      <td>Somalia's top military chiefs resign, no reaso...</td>\n",
       "      <td>MOGADISHU (Reuters) - Two of Somalia s highest...</td>\n",
       "      <td>worldnews</td>\n",
       "      <td>October 12, 2017</td>\n",
       "      <td>1</td>\n",
       "    </tr>\n",
       "    <tr>\n",
       "      <th>28165</th>\n",
       "      <td>Instant View: Republicans pull Obamacare repea...</td>\n",
       "      <td>(Reuters) - Republican leaders of the House of...</td>\n",
       "      <td>politicsNews</td>\n",
       "      <td>March 24, 2017</td>\n",
       "      <td>1</td>\n",
       "    </tr>\n",
       "    <tr>\n",
       "      <th>21473</th>\n",
       "      <td>TED CRUZ: Vilification of Law Enforcement Comi...</td>\n",
       "      <td>Ferguson was the a launching pad for Obama s w...</td>\n",
       "      <td>left-news</td>\n",
       "      <td>Sep 1, 2015</td>\n",
       "      <td>0</td>\n",
       "    </tr>\n",
       "    <tr>\n",
       "      <th>36967</th>\n",
       "      <td>At least 800 civilians killed by coalition str...</td>\n",
       "      <td>BAGHDAD (Reuters) - At least 800 civilians hav...</td>\n",
       "      <td>worldnews</td>\n",
       "      <td>November 30, 2017</td>\n",
       "      <td>1</td>\n",
       "    </tr>\n",
       "    <tr>\n",
       "      <th>16499</th>\n",
       "      <td>BRITISH ACTRESS NAILS IT: Do you think ISIS ca...</td>\n",
       "      <td>Pathetic Predictably impotent. We are not unit...</td>\n",
       "      <td>Government News</td>\n",
       "      <td>Jul 15, 2016</td>\n",
       "      <td>0</td>\n",
       "    </tr>\n",
       "  </tbody>\n",
       "</table>\n",
       "</div>"
      ],
      "text/plain": [
       "                                                   title  \\\n",
       "36786  Israeli missiles hit military post near Damasc...   \n",
       "14729  EVERY U.S. CITIZEN TAKEN HOSTAGE IN IRAN To Be...   \n",
       "9214   JUST RELEASED: Texts Between Anti-Trump Muelle...   \n",
       "15820  HIGH SCHOOL TEACHER ASKS STUDENTS TO “Pretend ...   \n",
       "28554  Trump to nominate Francisco as U.S. solicitor ...   \n",
       "41132  Somalia's top military chiefs resign, no reaso...   \n",
       "28165  Instant View: Republicans pull Obamacare repea...   \n",
       "21473  TED CRUZ: Vilification of Law Enforcement Comi...   \n",
       "36967  At least 800 civilians killed by coalition str...   \n",
       "16499  BRITISH ACTRESS NAILS IT: Do you think ISIS ca...   \n",
       "\n",
       "                                                    text          subject  \\\n",
       "36786  BEIRUT (Reuters) - Israeli missiles struck a m...        worldnews   \n",
       "14729  Just another slap in the face to US citizens. ...         politics   \n",
       "9214   Fox News just revealed what we knew but it s o...         politics   \n",
       "15820  Umm Yeah Okay Would it be acceptable to the sc...         politics   \n",
       "28554  WASHINGTON (Reuters) - President Donald Trump ...     politicsNews   \n",
       "41132  MOGADISHU (Reuters) - Two of Somalia s highest...        worldnews   \n",
       "28165  (Reuters) - Republican leaders of the House of...     politicsNews   \n",
       "21473  Ferguson was the a launching pad for Obama s w...        left-news   \n",
       "36967  BAGHDAD (Reuters) - At least 800 civilians hav...        worldnews   \n",
       "16499  Pathetic Predictably impotent. We are not unit...  Government News   \n",
       "\n",
       "                     date  label  \n",
       "36786   December 2, 2017       1  \n",
       "14729        Dec 31, 2015      0  \n",
       "9214         Dec 12, 2017      0  \n",
       "15820        Apr 15, 2015      0  \n",
       "28554      March 7, 2017       1  \n",
       "41132   October 12, 2017       1  \n",
       "28165     March 24, 2017       1  \n",
       "21473         Sep 1, 2015      0  \n",
       "36967  November 30, 2017       1  \n",
       "16499        Jul 15, 2016      0  "
      ]
     },
     "execution_count": 9,
     "metadata": {},
     "output_type": "execute_result"
    }
   ],
   "source": [
    "df.sample(10)"
   ]
  },
  {
   "cell_type": "code",
   "execution_count": 10,
   "id": "ec8f7ce4",
   "metadata": {
    "execution": {
     "iopub.execute_input": "2025-03-30T07:40:21.935611Z",
     "iopub.status.busy": "2025-03-30T07:40:21.935220Z",
     "iopub.status.idle": "2025-03-30T07:40:21.958284Z",
     "shell.execute_reply": "2025-03-30T07:40:21.957195Z"
    },
    "papermill": {
     "duration": 0.035774,
     "end_time": "2025-03-30T07:40:21.960245",
     "exception": false,
     "start_time": "2025-03-30T07:40:21.924471",
     "status": "completed"
    },
    "tags": []
   },
   "outputs": [
    {
     "data": {
      "text/plain": [
       "title      0\n",
       "text       0\n",
       "subject    0\n",
       "date       0\n",
       "label      0\n",
       "dtype: int64"
      ]
     },
     "execution_count": 10,
     "metadata": {},
     "output_type": "execute_result"
    }
   ],
   "source": [
    "df.isnull().sum()  # Here is no missing value"
   ]
  },
  {
   "cell_type": "code",
   "execution_count": 11,
   "id": "34ffe391",
   "metadata": {
    "execution": {
     "iopub.execute_input": "2025-03-30T07:40:21.981660Z",
     "iopub.status.busy": "2025-03-30T07:40:21.981288Z",
     "iopub.status.idle": "2025-03-30T07:40:21.992961Z",
     "shell.execute_reply": "2025-03-30T07:40:21.991897Z"
    },
    "papermill": {
     "duration": 0.02437,
     "end_time": "2025-03-30T07:40:21.994647",
     "exception": false,
     "start_time": "2025-03-30T07:40:21.970277",
     "status": "completed"
    },
    "tags": []
   },
   "outputs": [
    {
     "name": "stdout",
     "output_type": "stream",
     "text": [
      "label\n",
      "0    23481\n",
      "1    21417\n",
      "Name: count, dtype: int64\n"
     ]
    }
   ],
   "source": [
    "print(df[\"label\"].value_counts())"
   ]
  },
  {
   "cell_type": "code",
   "execution_count": 12,
   "id": "bf8a79e7",
   "metadata": {
    "execution": {
     "iopub.execute_input": "2025-03-30T07:40:22.016449Z",
     "iopub.status.busy": "2025-03-30T07:40:22.016044Z",
     "iopub.status.idle": "2025-03-30T07:40:22.021742Z",
     "shell.execute_reply": "2025-03-30T07:40:22.020676Z"
    },
    "papermill": {
     "duration": 0.018468,
     "end_time": "2025-03-30T07:40:22.023614",
     "exception": false,
     "start_time": "2025-03-30T07:40:22.005146",
     "status": "completed"
    },
    "tags": []
   },
   "outputs": [
    {
     "data": {
      "text/plain": [
       "(44898, 5)"
      ]
     },
     "execution_count": 12,
     "metadata": {},
     "output_type": "execute_result"
    }
   ],
   "source": [
    "df.shape"
   ]
  },
  {
   "cell_type": "code",
   "execution_count": 13,
   "id": "ca9d7a78",
   "metadata": {
    "execution": {
     "iopub.execute_input": "2025-03-30T07:40:22.045356Z",
     "iopub.status.busy": "2025-03-30T07:40:22.044936Z",
     "iopub.status.idle": "2025-03-30T07:40:24.497348Z",
     "shell.execute_reply": "2025-03-30T07:40:24.495951Z"
    },
    "papermill": {
     "duration": 2.465611,
     "end_time": "2025-03-30T07:40:24.499485",
     "exception": false,
     "start_time": "2025-03-30T07:40:22.033874",
     "status": "completed"
    },
    "tags": []
   },
   "outputs": [],
   "source": [
    "df.to_csv(\"Clear_TrueOrFake_news_001.csv\")"
   ]
  },
  {
   "cell_type": "markdown",
   "id": "daf61bfc",
   "metadata": {
    "papermill": {
     "duration": 0.009761,
     "end_time": "2025-03-30T07:40:24.519593",
     "exception": false,
     "start_time": "2025-03-30T07:40:24.509832",
     "status": "completed"
    },
    "tags": []
   },
   "source": [
    "# Now train the dataset using train_test_split"
   ]
  },
  {
   "cell_type": "code",
   "execution_count": 14,
   "id": "4c9335d2",
   "metadata": {
    "execution": {
     "iopub.execute_input": "2025-03-30T07:40:24.540950Z",
     "iopub.status.busy": "2025-03-30T07:40:24.540558Z",
     "iopub.status.idle": "2025-03-30T07:40:25.945885Z",
     "shell.execute_reply": "2025-03-30T07:40:25.944840Z"
    },
    "papermill": {
     "duration": 1.41834,
     "end_time": "2025-03-30T07:40:25.947904",
     "exception": false,
     "start_time": "2025-03-30T07:40:24.529564",
     "status": "completed"
    },
    "tags": []
   },
   "outputs": [],
   "source": [
    "from sklearn.model_selection import train_test_split"
   ]
  },
  {
   "cell_type": "code",
   "execution_count": 15,
   "id": "0abdd2a5",
   "metadata": {
    "execution": {
     "iopub.execute_input": "2025-03-30T07:40:25.969767Z",
     "iopub.status.busy": "2025-03-30T07:40:25.969237Z",
     "iopub.status.idle": "2025-03-30T07:40:25.973934Z",
     "shell.execute_reply": "2025-03-30T07:40:25.972834Z"
    },
    "papermill": {
     "duration": 0.017373,
     "end_time": "2025-03-30T07:40:25.975637",
     "exception": false,
     "start_time": "2025-03-30T07:40:25.958264",
     "status": "completed"
    },
    "tags": []
   },
   "outputs": [],
   "source": [
    "x = df['text']\n",
    "y = df['label']"
   ]
  },
  {
   "cell_type": "code",
   "execution_count": 16,
   "id": "b873e253",
   "metadata": {
    "execution": {
     "iopub.execute_input": "2025-03-30T07:40:25.997311Z",
     "iopub.status.busy": "2025-03-30T07:40:25.996963Z",
     "iopub.status.idle": "2025-03-30T07:40:26.004469Z",
     "shell.execute_reply": "2025-03-30T07:40:26.003398Z"
    },
    "papermill": {
     "duration": 0.020312,
     "end_time": "2025-03-30T07:40:26.006336",
     "exception": false,
     "start_time": "2025-03-30T07:40:25.986024",
     "status": "completed"
    },
    "tags": []
   },
   "outputs": [
    {
     "data": {
      "text/plain": [
       "0        Donald Trump just couldn t wish all Americans ...\n",
       "1        House Intelligence Committee Chairman Devin Nu...\n",
       "2        On Friday, it was revealed that former Milwauk...\n",
       "3        On Christmas day, Donald Trump announced that ...\n",
       "4        Pope Francis used his annual Christmas Day mes...\n",
       "                               ...                        \n",
       "44893    BRUSSELS (Reuters) - NATO allies on Tuesday we...\n",
       "44894    LONDON (Reuters) - LexisNexis, a provider of l...\n",
       "44895    MINSK (Reuters) - In the shadow of disused Sov...\n",
       "44896    MOSCOW (Reuters) - Vatican Secretary of State ...\n",
       "44897    JAKARTA (Reuters) - Indonesia will buy 11 Sukh...\n",
       "Name: text, Length: 44898, dtype: object"
      ]
     },
     "execution_count": 16,
     "metadata": {},
     "output_type": "execute_result"
    }
   ],
   "source": [
    "x"
   ]
  },
  {
   "cell_type": "code",
   "execution_count": 17,
   "id": "33f03b3c",
   "metadata": {
    "execution": {
     "iopub.execute_input": "2025-03-30T07:40:26.028169Z",
     "iopub.status.busy": "2025-03-30T07:40:26.027832Z",
     "iopub.status.idle": "2025-03-30T07:40:26.035483Z",
     "shell.execute_reply": "2025-03-30T07:40:26.034359Z"
    },
    "papermill": {
     "duration": 0.020526,
     "end_time": "2025-03-30T07:40:26.037302",
     "exception": false,
     "start_time": "2025-03-30T07:40:26.016776",
     "status": "completed"
    },
    "tags": []
   },
   "outputs": [
    {
     "data": {
      "text/plain": [
       "0        0\n",
       "1        0\n",
       "2        0\n",
       "3        0\n",
       "4        0\n",
       "        ..\n",
       "44893    1\n",
       "44894    1\n",
       "44895    1\n",
       "44896    1\n",
       "44897    1\n",
       "Name: label, Length: 44898, dtype: int64"
      ]
     },
     "execution_count": 17,
     "metadata": {},
     "output_type": "execute_result"
    }
   ],
   "source": [
    "y  # Here y is our target variable"
   ]
  },
  {
   "cell_type": "code",
   "execution_count": 18,
   "id": "e26754a5",
   "metadata": {
    "execution": {
     "iopub.execute_input": "2025-03-30T07:40:26.059173Z",
     "iopub.status.busy": "2025-03-30T07:40:26.058821Z",
     "iopub.status.idle": "2025-03-30T07:40:26.087926Z",
     "shell.execute_reply": "2025-03-30T07:40:26.086677Z"
    },
    "papermill": {
     "duration": 0.042369,
     "end_time": "2025-03-30T07:40:26.089953",
     "exception": false,
     "start_time": "2025-03-30T07:40:26.047584",
     "status": "completed"
    },
    "tags": []
   },
   "outputs": [],
   "source": [
    "x_train,x_test,y_train,y_test = train_test_split(x,y,test_size=0.2,random_state=42, shuffle=True, stratify=y)"
   ]
  },
  {
   "cell_type": "code",
   "execution_count": 19,
   "id": "320bd3aa",
   "metadata": {
    "execution": {
     "iopub.execute_input": "2025-03-30T07:40:26.112214Z",
     "iopub.status.busy": "2025-03-30T07:40:26.111820Z",
     "iopub.status.idle": "2025-03-30T07:40:26.117846Z",
     "shell.execute_reply": "2025-03-30T07:40:26.116163Z"
    },
    "papermill": {
     "duration": 0.019337,
     "end_time": "2025-03-30T07:40:26.119839",
     "exception": false,
     "start_time": "2025-03-30T07:40:26.100502",
     "status": "completed"
    },
    "tags": []
   },
   "outputs": [
    {
     "name": "stdout",
     "output_type": "stream",
     "text": [
      "(35918,)\n",
      "(8980,)\n",
      "(35918,)\n",
      "(8980,)\n"
     ]
    }
   ],
   "source": [
    "print(x_train.shape)\n",
    "print(x_test.shape)\n",
    "print(y_train.shape)\n",
    "print(y_test.shape)"
   ]
  },
  {
   "cell_type": "code",
   "execution_count": 20,
   "id": "c84d0029",
   "metadata": {
    "execution": {
     "iopub.execute_input": "2025-03-30T07:40:26.142313Z",
     "iopub.status.busy": "2025-03-30T07:40:26.141888Z",
     "iopub.status.idle": "2025-03-30T07:40:26.149330Z",
     "shell.execute_reply": "2025-03-30T07:40:26.148327Z"
    },
    "papermill": {
     "duration": 0.020607,
     "end_time": "2025-03-30T07:40:26.151018",
     "exception": false,
     "start_time": "2025-03-30T07:40:26.130411",
     "status": "completed"
    },
    "tags": []
   },
   "outputs": [
    {
     "data": {
      "text/plain": [
       "37645    PARIS (Reuters) - French bank Societe Generale...\n",
       "30390    WINSTON-SALEM, N.C. (Reuters) - North Carolina...\n",
       "18191    Civil political discourse took a beating in We...\n",
       "25384    (Reuters) - New York and Washington state on M...\n",
       "32622    ORLANDO, Fla. (Reuters) - Orlando nightclub ki...\n",
       "                               ...                        \n",
       "9967     WFB  North Korea for the first time this week ...\n",
       "26591    WASHINGTON (Reuters) - U.S. President Donald T...\n",
       "8895     President Obama got real and raw with CNN s An...\n",
       "18855    A producer at the Women in the World event had...\n",
       "41192    BEIJING (Reuters) - China s top newspaper warn...\n",
       "Name: text, Length: 35918, dtype: object"
      ]
     },
     "execution_count": 20,
     "metadata": {},
     "output_type": "execute_result"
    }
   ],
   "source": [
    "x_train"
   ]
  },
  {
   "cell_type": "code",
   "execution_count": 21,
   "id": "5fd8f7d0",
   "metadata": {
    "execution": {
     "iopub.execute_input": "2025-03-30T07:40:26.173651Z",
     "iopub.status.busy": "2025-03-30T07:40:26.173284Z",
     "iopub.status.idle": "2025-03-30T07:40:26.179989Z",
     "shell.execute_reply": "2025-03-30T07:40:26.178991Z"
    },
    "papermill": {
     "duration": 0.019823,
     "end_time": "2025-03-30T07:40:26.181595",
     "exception": false,
     "start_time": "2025-03-30T07:40:26.161772",
     "status": "completed"
    },
    "tags": []
   },
   "outputs": [
    {
     "data": {
      "text/plain": [
       "30540    1\n",
       "27229    1\n",
       "8770     0\n",
       "37574    1\n",
       "44895    1\n",
       "        ..\n",
       "33772    1\n",
       "33910    1\n",
       "44028    1\n",
       "38179    1\n",
       "16910    0\n",
       "Name: label, Length: 8980, dtype: int64"
      ]
     },
     "execution_count": 21,
     "metadata": {},
     "output_type": "execute_result"
    }
   ],
   "source": [
    "y_test"
   ]
  },
  {
   "cell_type": "markdown",
   "id": "cead25ec",
   "metadata": {
    "papermill": {
     "duration": 0.010178,
     "end_time": "2025-03-30T07:40:26.202432",
     "exception": false,
     "start_time": "2025-03-30T07:40:26.192254",
     "status": "completed"
    },
    "tags": []
   },
   "source": [
    "# Step 4: TF-IDF Vectorization (Convert Text to Numeric)\n",
    "Column 'x' contains our primary data, but it's in textual format. The challenge is that machine learning algorithms are not inherently equipped to process textual data efficiently. But still understand numerical data."
   ]
  },
  {
   "cell_type": "code",
   "execution_count": 22,
   "id": "57569fbf",
   "metadata": {
    "execution": {
     "iopub.execute_input": "2025-03-30T07:40:26.225029Z",
     "iopub.status.busy": "2025-03-30T07:40:26.224608Z",
     "iopub.status.idle": "2025-03-30T07:40:26.241762Z",
     "shell.execute_reply": "2025-03-30T07:40:26.240531Z"
    },
    "papermill": {
     "duration": 0.030799,
     "end_time": "2025-03-30T07:40:26.243710",
     "exception": false,
     "start_time": "2025-03-30T07:40:26.212911",
     "status": "completed"
    },
    "tags": []
   },
   "outputs": [],
   "source": [
    "from sklearn.feature_extraction.text import TfidfVectorizer"
   ]
  },
  {
   "cell_type": "code",
   "execution_count": 23,
   "id": "ec8bf088",
   "metadata": {
    "execution": {
     "iopub.execute_input": "2025-03-30T07:40:26.266127Z",
     "iopub.status.busy": "2025-03-30T07:40:26.265756Z",
     "iopub.status.idle": "2025-03-30T07:40:26.269776Z",
     "shell.execute_reply": "2025-03-30T07:40:26.268828Z"
    },
    "papermill": {
     "duration": 0.017051,
     "end_time": "2025-03-30T07:40:26.271424",
     "exception": false,
     "start_time": "2025-03-30T07:40:26.254373",
     "status": "completed"
    },
    "tags": []
   },
   "outputs": [],
   "source": [
    "tv = TfidfVectorizer()"
   ]
  },
  {
   "cell_type": "code",
   "execution_count": 24,
   "id": "b5884ea2",
   "metadata": {
    "execution": {
     "iopub.execute_input": "2025-03-30T07:40:26.293511Z",
     "iopub.status.busy": "2025-03-30T07:40:26.293159Z",
     "iopub.status.idle": "2025-03-30T07:40:40.788479Z",
     "shell.execute_reply": "2025-03-30T07:40:40.787308Z"
    },
    "papermill": {
     "duration": 14.508467,
     "end_time": "2025-03-30T07:40:40.790392",
     "exception": false,
     "start_time": "2025-03-30T07:40:26.281925",
     "status": "completed"
    },
    "tags": []
   },
   "outputs": [],
   "source": [
    "tfidf = TfidfVectorizer(max_features=10000, stop_words=\"english\")\n",
    "x_train_tfidf = tfidf.fit_transform(x_train)\n",
    "x_test_tfidf = tfidf.transform(x_test)"
   ]
  },
  {
   "cell_type": "code",
   "execution_count": 25,
   "id": "4031e48d",
   "metadata": {
    "execution": {
     "iopub.execute_input": "2025-03-30T07:40:40.813135Z",
     "iopub.status.busy": "2025-03-30T07:40:40.812695Z",
     "iopub.status.idle": "2025-03-30T07:40:40.818563Z",
     "shell.execute_reply": "2025-03-30T07:40:40.817574Z"
    },
    "papermill": {
     "duration": 0.018944,
     "end_time": "2025-03-30T07:40:40.820064",
     "exception": false,
     "start_time": "2025-03-30T07:40:40.801120",
     "status": "completed"
    },
    "tags": []
   },
   "outputs": [
    {
     "data": {
      "text/plain": [
       "(35918, 10000)"
      ]
     },
     "execution_count": 25,
     "metadata": {},
     "output_type": "execute_result"
    }
   ],
   "source": [
    "x_train_tfidf.shape"
   ]
  },
  {
   "cell_type": "code",
   "execution_count": 26,
   "id": "6690b516",
   "metadata": {
    "execution": {
     "iopub.execute_input": "2025-03-30T07:40:40.842789Z",
     "iopub.status.busy": "2025-03-30T07:40:40.842395Z",
     "iopub.status.idle": "2025-03-30T07:41:58.047269Z",
     "shell.execute_reply": "2025-03-30T07:41:58.046123Z"
    },
    "papermill": {
     "duration": 77.228749,
     "end_time": "2025-03-30T07:41:58.059638",
     "exception": false,
     "start_time": "2025-03-30T07:40:40.830889",
     "status": "completed"
    },
    "tags": []
   },
   "outputs": [
    {
     "data": {
      "text/html": [
       "<style>#sk-container-id-1 {color: black;background-color: white;}#sk-container-id-1 pre{padding: 0;}#sk-container-id-1 div.sk-toggleable {background-color: white;}#sk-container-id-1 label.sk-toggleable__label {cursor: pointer;display: block;width: 100%;margin-bottom: 0;padding: 0.3em;box-sizing: border-box;text-align: center;}#sk-container-id-1 label.sk-toggleable__label-arrow:before {content: \"▸\";float: left;margin-right: 0.25em;color: #696969;}#sk-container-id-1 label.sk-toggleable__label-arrow:hover:before {color: black;}#sk-container-id-1 div.sk-estimator:hover label.sk-toggleable__label-arrow:before {color: black;}#sk-container-id-1 div.sk-toggleable__content {max-height: 0;max-width: 0;overflow: hidden;text-align: left;background-color: #f0f8ff;}#sk-container-id-1 div.sk-toggleable__content pre {margin: 0.2em;color: black;border-radius: 0.25em;background-color: #f0f8ff;}#sk-container-id-1 input.sk-toggleable__control:checked~div.sk-toggleable__content {max-height: 200px;max-width: 100%;overflow: auto;}#sk-container-id-1 input.sk-toggleable__control:checked~label.sk-toggleable__label-arrow:before {content: \"▾\";}#sk-container-id-1 div.sk-estimator input.sk-toggleable__control:checked~label.sk-toggleable__label {background-color: #d4ebff;}#sk-container-id-1 div.sk-label input.sk-toggleable__control:checked~label.sk-toggleable__label {background-color: #d4ebff;}#sk-container-id-1 input.sk-hidden--visually {border: 0;clip: rect(1px 1px 1px 1px);clip: rect(1px, 1px, 1px, 1px);height: 1px;margin: -1px;overflow: hidden;padding: 0;position: absolute;width: 1px;}#sk-container-id-1 div.sk-estimator {font-family: monospace;background-color: #f0f8ff;border: 1px dotted black;border-radius: 0.25em;box-sizing: border-box;margin-bottom: 0.5em;}#sk-container-id-1 div.sk-estimator:hover {background-color: #d4ebff;}#sk-container-id-1 div.sk-parallel-item::after {content: \"\";width: 100%;border-bottom: 1px solid gray;flex-grow: 1;}#sk-container-id-1 div.sk-label:hover label.sk-toggleable__label {background-color: #d4ebff;}#sk-container-id-1 div.sk-serial::before {content: \"\";position: absolute;border-left: 1px solid gray;box-sizing: border-box;top: 0;bottom: 0;left: 50%;z-index: 0;}#sk-container-id-1 div.sk-serial {display: flex;flex-direction: column;align-items: center;background-color: white;padding-right: 0.2em;padding-left: 0.2em;position: relative;}#sk-container-id-1 div.sk-item {position: relative;z-index: 1;}#sk-container-id-1 div.sk-parallel {display: flex;align-items: stretch;justify-content: center;background-color: white;position: relative;}#sk-container-id-1 div.sk-item::before, #sk-container-id-1 div.sk-parallel-item::before {content: \"\";position: absolute;border-left: 1px solid gray;box-sizing: border-box;top: 0;bottom: 0;left: 50%;z-index: -1;}#sk-container-id-1 div.sk-parallel-item {display: flex;flex-direction: column;z-index: 1;position: relative;background-color: white;}#sk-container-id-1 div.sk-parallel-item:first-child::after {align-self: flex-end;width: 50%;}#sk-container-id-1 div.sk-parallel-item:last-child::after {align-self: flex-start;width: 50%;}#sk-container-id-1 div.sk-parallel-item:only-child::after {width: 0;}#sk-container-id-1 div.sk-dashed-wrapped {border: 1px dashed gray;margin: 0 0.4em 0.5em 0.4em;box-sizing: border-box;padding-bottom: 0.4em;background-color: white;}#sk-container-id-1 div.sk-label label {font-family: monospace;font-weight: bold;display: inline-block;line-height: 1.2em;}#sk-container-id-1 div.sk-label-container {text-align: center;}#sk-container-id-1 div.sk-container {/* jupyter's `normalize.less` sets `[hidden] { display: none; }` but bootstrap.min.css set `[hidden] { display: none !important; }` so we also need the `!important` here to be able to override the default hidden behavior on the sphinx rendered scikit-learn.org. See: https://github.com/scikit-learn/scikit-learn/issues/21755 */display: inline-block !important;position: relative;}#sk-container-id-1 div.sk-text-repr-fallback {display: none;}</style><div id=\"sk-container-id-1\" class=\"sk-top-container\"><div class=\"sk-text-repr-fallback\"><pre>RandomForestClassifier(random_state=42)</pre><b>In a Jupyter environment, please rerun this cell to show the HTML representation or trust the notebook. <br />On GitHub, the HTML representation is unable to render, please try loading this page with nbviewer.org.</b></div><div class=\"sk-container\" hidden><div class=\"sk-item\"><div class=\"sk-estimator sk-toggleable\"><input class=\"sk-toggleable__control sk-hidden--visually\" id=\"sk-estimator-id-1\" type=\"checkbox\" checked><label for=\"sk-estimator-id-1\" class=\"sk-toggleable__label sk-toggleable__label-arrow\">RandomForestClassifier</label><div class=\"sk-toggleable__content\"><pre>RandomForestClassifier(random_state=42)</pre></div></div></div></div></div>"
      ],
      "text/plain": [
       "RandomForestClassifier(random_state=42)"
      ]
     },
     "execution_count": 26,
     "metadata": {},
     "output_type": "execute_result"
    }
   ],
   "source": [
    "from sklearn.ensemble import RandomForestClassifier\n",
    "model = RandomForestClassifier(n_estimators=100, random_state=42)\n",
    "model.fit(x_train_tfidf, y_train)\n"
   ]
  },
  {
   "cell_type": "markdown",
   "id": "f8ed963e",
   "metadata": {
    "papermill": {
     "duration": 0.010898,
     "end_time": "2025-03-30T07:41:58.082356",
     "exception": false,
     "start_time": "2025-03-30T07:41:58.071458",
     "status": "completed"
    },
    "tags": []
   },
   "source": [
    "# Step 5: Train Logistic Regression Model"
   ]
  },
  {
   "cell_type": "code",
   "execution_count": 27,
   "id": "8d836be1",
   "metadata": {
    "execution": {
     "iopub.execute_input": "2025-03-30T07:41:58.105673Z",
     "iopub.status.busy": "2025-03-30T07:41:58.105306Z",
     "iopub.status.idle": "2025-03-30T07:41:58.109828Z",
     "shell.execute_reply": "2025-03-30T07:41:58.108811Z"
    },
    "papermill": {
     "duration": 0.017858,
     "end_time": "2025-03-30T07:41:58.111385",
     "exception": false,
     "start_time": "2025-03-30T07:41:58.093527",
     "status": "completed"
    },
    "tags": []
   },
   "outputs": [],
   "source": [
    "from sklearn.linear_model import LogisticRegression"
   ]
  },
  {
   "cell_type": "code",
   "execution_count": 28,
   "id": "50f2138c",
   "metadata": {
    "execution": {
     "iopub.execute_input": "2025-03-30T07:41:58.134681Z",
     "iopub.status.busy": "2025-03-30T07:41:58.134321Z",
     "iopub.status.idle": "2025-03-30T07:41:58.139400Z",
     "shell.execute_reply": "2025-03-30T07:41:58.138237Z"
    },
    "papermill": {
     "duration": 0.018883,
     "end_time": "2025-03-30T07:41:58.141255",
     "exception": false,
     "start_time": "2025-03-30T07:41:58.122372",
     "status": "completed"
    },
    "tags": []
   },
   "outputs": [],
   "source": [
    "LR = LogisticRegression(C=0.1, class_weight={0: 1.2, 1: 0.8})"
   ]
  },
  {
   "cell_type": "code",
   "execution_count": 29,
   "id": "7bb0942c",
   "metadata": {
    "execution": {
     "iopub.execute_input": "2025-03-30T07:41:58.164818Z",
     "iopub.status.busy": "2025-03-30T07:41:58.164409Z",
     "iopub.status.idle": "2025-03-30T07:41:59.531124Z",
     "shell.execute_reply": "2025-03-30T07:41:59.530191Z"
    },
    "papermill": {
     "duration": 1.380482,
     "end_time": "2025-03-30T07:41:59.532992",
     "exception": false,
     "start_time": "2025-03-30T07:41:58.152510",
     "status": "completed"
    },
    "tags": []
   },
   "outputs": [
    {
     "data": {
      "text/html": [
       "<style>#sk-container-id-2 {color: black;background-color: white;}#sk-container-id-2 pre{padding: 0;}#sk-container-id-2 div.sk-toggleable {background-color: white;}#sk-container-id-2 label.sk-toggleable__label {cursor: pointer;display: block;width: 100%;margin-bottom: 0;padding: 0.3em;box-sizing: border-box;text-align: center;}#sk-container-id-2 label.sk-toggleable__label-arrow:before {content: \"▸\";float: left;margin-right: 0.25em;color: #696969;}#sk-container-id-2 label.sk-toggleable__label-arrow:hover:before {color: black;}#sk-container-id-2 div.sk-estimator:hover label.sk-toggleable__label-arrow:before {color: black;}#sk-container-id-2 div.sk-toggleable__content {max-height: 0;max-width: 0;overflow: hidden;text-align: left;background-color: #f0f8ff;}#sk-container-id-2 div.sk-toggleable__content pre {margin: 0.2em;color: black;border-radius: 0.25em;background-color: #f0f8ff;}#sk-container-id-2 input.sk-toggleable__control:checked~div.sk-toggleable__content {max-height: 200px;max-width: 100%;overflow: auto;}#sk-container-id-2 input.sk-toggleable__control:checked~label.sk-toggleable__label-arrow:before {content: \"▾\";}#sk-container-id-2 div.sk-estimator input.sk-toggleable__control:checked~label.sk-toggleable__label {background-color: #d4ebff;}#sk-container-id-2 div.sk-label input.sk-toggleable__control:checked~label.sk-toggleable__label {background-color: #d4ebff;}#sk-container-id-2 input.sk-hidden--visually {border: 0;clip: rect(1px 1px 1px 1px);clip: rect(1px, 1px, 1px, 1px);height: 1px;margin: -1px;overflow: hidden;padding: 0;position: absolute;width: 1px;}#sk-container-id-2 div.sk-estimator {font-family: monospace;background-color: #f0f8ff;border: 1px dotted black;border-radius: 0.25em;box-sizing: border-box;margin-bottom: 0.5em;}#sk-container-id-2 div.sk-estimator:hover {background-color: #d4ebff;}#sk-container-id-2 div.sk-parallel-item::after {content: \"\";width: 100%;border-bottom: 1px solid gray;flex-grow: 1;}#sk-container-id-2 div.sk-label:hover label.sk-toggleable__label {background-color: #d4ebff;}#sk-container-id-2 div.sk-serial::before {content: \"\";position: absolute;border-left: 1px solid gray;box-sizing: border-box;top: 0;bottom: 0;left: 50%;z-index: 0;}#sk-container-id-2 div.sk-serial {display: flex;flex-direction: column;align-items: center;background-color: white;padding-right: 0.2em;padding-left: 0.2em;position: relative;}#sk-container-id-2 div.sk-item {position: relative;z-index: 1;}#sk-container-id-2 div.sk-parallel {display: flex;align-items: stretch;justify-content: center;background-color: white;position: relative;}#sk-container-id-2 div.sk-item::before, #sk-container-id-2 div.sk-parallel-item::before {content: \"\";position: absolute;border-left: 1px solid gray;box-sizing: border-box;top: 0;bottom: 0;left: 50%;z-index: -1;}#sk-container-id-2 div.sk-parallel-item {display: flex;flex-direction: column;z-index: 1;position: relative;background-color: white;}#sk-container-id-2 div.sk-parallel-item:first-child::after {align-self: flex-end;width: 50%;}#sk-container-id-2 div.sk-parallel-item:last-child::after {align-self: flex-start;width: 50%;}#sk-container-id-2 div.sk-parallel-item:only-child::after {width: 0;}#sk-container-id-2 div.sk-dashed-wrapped {border: 1px dashed gray;margin: 0 0.4em 0.5em 0.4em;box-sizing: border-box;padding-bottom: 0.4em;background-color: white;}#sk-container-id-2 div.sk-label label {font-family: monospace;font-weight: bold;display: inline-block;line-height: 1.2em;}#sk-container-id-2 div.sk-label-container {text-align: center;}#sk-container-id-2 div.sk-container {/* jupyter's `normalize.less` sets `[hidden] { display: none; }` but bootstrap.min.css set `[hidden] { display: none !important; }` so we also need the `!important` here to be able to override the default hidden behavior on the sphinx rendered scikit-learn.org. See: https://github.com/scikit-learn/scikit-learn/issues/21755 */display: inline-block !important;position: relative;}#sk-container-id-2 div.sk-text-repr-fallback {display: none;}</style><div id=\"sk-container-id-2\" class=\"sk-top-container\"><div class=\"sk-text-repr-fallback\"><pre>LogisticRegression(C=0.1, class_weight={0: 1.2, 1: 0.8})</pre><b>In a Jupyter environment, please rerun this cell to show the HTML representation or trust the notebook. <br />On GitHub, the HTML representation is unable to render, please try loading this page with nbviewer.org.</b></div><div class=\"sk-container\" hidden><div class=\"sk-item\"><div class=\"sk-estimator sk-toggleable\"><input class=\"sk-toggleable__control sk-hidden--visually\" id=\"sk-estimator-id-2\" type=\"checkbox\" checked><label for=\"sk-estimator-id-2\" class=\"sk-toggleable__label sk-toggleable__label-arrow\">LogisticRegression</label><div class=\"sk-toggleable__content\"><pre>LogisticRegression(C=0.1, class_weight={0: 1.2, 1: 0.8})</pre></div></div></div></div></div>"
      ],
      "text/plain": [
       "LogisticRegression(C=0.1, class_weight={0: 1.2, 1: 0.8})"
      ]
     },
     "execution_count": 29,
     "metadata": {},
     "output_type": "execute_result"
    }
   ],
   "source": [
    "LR.fit(x_train_tfidf,y_train)"
   ]
  },
  {
   "cell_type": "markdown",
   "id": "a2595505",
   "metadata": {
    "papermill": {
     "duration": 0.010854,
     "end_time": "2025-03-30T07:41:59.554975",
     "exception": false,
     "start_time": "2025-03-30T07:41:59.544121",
     "status": "completed"
    },
    "tags": []
   },
   "source": [
    "# Step 6: Make Predictions"
   ]
  },
  {
   "cell_type": "code",
   "execution_count": 30,
   "id": "c64db043",
   "metadata": {
    "execution": {
     "iopub.execute_input": "2025-03-30T07:41:59.578514Z",
     "iopub.status.busy": "2025-03-30T07:41:59.578105Z",
     "iopub.status.idle": "2025-03-30T07:41:59.586620Z",
     "shell.execute_reply": "2025-03-30T07:41:59.585515Z"
    },
    "papermill": {
     "duration": 0.022454,
     "end_time": "2025-03-30T07:41:59.588615",
     "exception": false,
     "start_time": "2025-03-30T07:41:59.566161",
     "status": "completed"
    },
    "tags": []
   },
   "outputs": [],
   "source": [
    "y_pred = LR.predict(x_test_tfidf)"
   ]
  },
  {
   "cell_type": "markdown",
   "id": "4d7e8030",
   "metadata": {
    "papermill": {
     "duration": 0.010614,
     "end_time": "2025-03-30T07:41:59.610372",
     "exception": false,
     "start_time": "2025-03-30T07:41:59.599758",
     "status": "completed"
    },
    "tags": []
   },
   "source": [
    "# Step 7: Evaluate Model Performance"
   ]
  },
  {
   "cell_type": "code",
   "execution_count": 31,
   "id": "1fe9a50a",
   "metadata": {
    "execution": {
     "iopub.execute_input": "2025-03-30T07:41:59.633530Z",
     "iopub.status.busy": "2025-03-30T07:41:59.633153Z",
     "iopub.status.idle": "2025-03-30T07:41:59.637312Z",
     "shell.execute_reply": "2025-03-30T07:41:59.636278Z"
    },
    "papermill": {
     "duration": 0.017862,
     "end_time": "2025-03-30T07:41:59.639128",
     "exception": false,
     "start_time": "2025-03-30T07:41:59.621266",
     "status": "completed"
    },
    "tags": []
   },
   "outputs": [],
   "source": [
    "from sklearn.metrics import accuracy_score, classification_report"
   ]
  },
  {
   "cell_type": "code",
   "execution_count": 32,
   "id": "09275a60",
   "metadata": {
    "execution": {
     "iopub.execute_input": "2025-03-30T07:41:59.662371Z",
     "iopub.status.busy": "2025-03-30T07:41:59.661995Z",
     "iopub.status.idle": "2025-03-30T07:41:59.670197Z",
     "shell.execute_reply": "2025-03-30T07:41:59.669184Z"
    },
    "papermill": {
     "duration": 0.021584,
     "end_time": "2025-03-30T07:41:59.671858",
     "exception": false,
     "start_time": "2025-03-30T07:41:59.650274",
     "status": "completed"
    },
    "tags": []
   },
   "outputs": [
    {
     "data": {
      "text/plain": [
       "0.9702672605790645"
      ]
     },
     "execution_count": 32,
     "metadata": {},
     "output_type": "execute_result"
    }
   ],
   "source": [
    "accuracy_score(y_pred,y_test)"
   ]
  },
  {
   "cell_type": "code",
   "execution_count": 33,
   "id": "e9c9fe69",
   "metadata": {
    "execution": {
     "iopub.execute_input": "2025-03-30T07:41:59.695344Z",
     "iopub.status.busy": "2025-03-30T07:41:59.694943Z",
     "iopub.status.idle": "2025-03-30T07:41:59.722790Z",
     "shell.execute_reply": "2025-03-30T07:41:59.721873Z"
    },
    "papermill": {
     "duration": 0.041756,
     "end_time": "2025-03-30T07:41:59.724748",
     "exception": false,
     "start_time": "2025-03-30T07:41:59.682992",
     "status": "completed"
    },
    "tags": []
   },
   "outputs": [],
   "source": [
    "report = classification_report(y_pred,y_test)"
   ]
  },
  {
   "cell_type": "code",
   "execution_count": 34,
   "id": "12320e47",
   "metadata": {
    "execution": {
     "iopub.execute_input": "2025-03-30T07:41:59.748307Z",
     "iopub.status.busy": "2025-03-30T07:41:59.747933Z",
     "iopub.status.idle": "2025-03-30T07:41:59.752778Z",
     "shell.execute_reply": "2025-03-30T07:41:59.751680Z"
    },
    "papermill": {
     "duration": 0.018526,
     "end_time": "2025-03-30T07:41:59.754474",
     "exception": false,
     "start_time": "2025-03-30T07:41:59.735948",
     "status": "completed"
    },
    "tags": []
   },
   "outputs": [
    {
     "name": "stdout",
     "output_type": "stream",
     "text": [
      "              precision    recall  f1-score   support\n",
      "\n",
      "           0       0.98      0.96      0.97      4791\n",
      "           1       0.96      0.98      0.97      4189\n",
      "\n",
      "    accuracy                           0.97      8980\n",
      "   macro avg       0.97      0.97      0.97      8980\n",
      "weighted avg       0.97      0.97      0.97      8980\n",
      "\n"
     ]
    }
   ],
   "source": [
    "print(report)"
   ]
  },
  {
   "cell_type": "markdown",
   "id": "c2813e44",
   "metadata": {
    "papermill": {
     "duration": 0.010673,
     "end_time": "2025-03-30T07:41:59.776276",
     "exception": false,
     "start_time": "2025-03-30T07:41:59.765603",
     "status": "completed"
    },
    "tags": []
   },
   "source": [
    "# Finally test the model"
   ]
  },
  {
   "cell_type": "code",
   "execution_count": 35,
   "id": "ce4304f6",
   "metadata": {
    "execution": {
     "iopub.execute_input": "2025-03-30T07:41:59.848198Z",
     "iopub.status.busy": "2025-03-30T07:41:59.847835Z",
     "iopub.status.idle": "2025-03-30T07:41:59.853006Z",
     "shell.execute_reply": "2025-03-30T07:41:59.851984Z"
    },
    "papermill": {
     "duration": 0.019094,
     "end_time": "2025-03-30T07:41:59.854687",
     "exception": false,
     "start_time": "2025-03-30T07:41:59.835593",
     "status": "completed"
    },
    "tags": []
   },
   "outputs": [],
   "source": [
    "def predict_news(news_text):\n",
    "    text_tfidf = tfidf.transform([news_text])  # Convert text to TF-IDF \n",
    "    prediction = LR.predict(text_tfidf)[0]  \n",
    "    return \"Real News\" if prediction == 1 else \"Fake News\""
   ]
  },
  {
   "cell_type": "code",
   "execution_count": 36,
   "id": "14e71b0d",
   "metadata": {
    "execution": {
     "iopub.execute_input": "2025-03-30T07:41:59.878571Z",
     "iopub.status.busy": "2025-03-30T07:41:59.878193Z",
     "iopub.status.idle": "2025-03-30T07:41:59.885676Z",
     "shell.execute_reply": "2025-03-30T07:41:59.884591Z"
    },
    "papermill": {
     "duration": 0.021287,
     "end_time": "2025-03-30T07:41:59.887410",
     "exception": false,
     "start_time": "2025-03-30T07:41:59.866123",
     "status": "completed"
    },
    "tags": []
   },
   "outputs": [
    {
     "name": "stdout",
     "output_type": "stream",
     "text": [
      "Prediction: Real News\n"
     ]
    }
   ],
   "source": [
    "# Example Usage\n",
    "news = \"MEXICO CITY (Reuters) - Mexicoâ€™s foreign minister Luis Videgaray will travel to Washington on Tuesday to meet with senior U.S. officials and to attend a meeting at the Organisation of American States (OAS), his ministry said in a statement. The meetings with Secretary of State Rex Tillerson and Secretary of Homeland Security John Kelly are aimed at furthering the bilateral and regional agenda between Mexico and the United States, the Mexican foreign ministry said.  In recent weeks, Mexico has taken an assertive role in the OAS in relation to the political and economic crisis in Venezuela. \"\n",
    "print(\"Prediction:\",predict_news(news))"
   ]
  },
  {
   "cell_type": "code",
   "execution_count": 37,
   "id": "98ebd283",
   "metadata": {
    "execution": {
     "iopub.execute_input": "2025-03-30T07:41:59.911449Z",
     "iopub.status.busy": "2025-03-30T07:41:59.911036Z",
     "iopub.status.idle": "2025-03-30T07:42:00.035505Z",
     "shell.execute_reply": "2025-03-30T07:42:00.034384Z"
    },
    "jupyter": {
     "source_hidden": true
    },
    "papermill": {
     "duration": 0.13835,
     "end_time": "2025-03-30T07:42:00.037181",
     "exception": false,
     "start_time": "2025-03-30T07:41:59.898831",
     "status": "completed"
    },
    "tags": []
   },
   "outputs": [
    {
     "name": "stdout",
     "output_type": "stream",
     "text": [
      "1734\n"
     ]
    }
   ],
   "source": [
    "train_texts = set(x_train)  \n",
    "test_texts = set(x_test)  \n",
    "print(len(train_texts.intersection(test_texts)))  # Kitne common rows hain?\n"
   ]
  },
  {
   "cell_type": "code",
   "execution_count": 38,
   "id": "5d1ed556",
   "metadata": {
    "execution": {
     "iopub.execute_input": "2025-03-30T07:42:00.061984Z",
     "iopub.status.busy": "2025-03-30T07:42:00.061581Z",
     "iopub.status.idle": "2025-03-30T07:42:04.015840Z",
     "shell.execute_reply": "2025-03-30T07:42:04.014448Z"
    },
    "papermill": {
     "duration": 3.968778,
     "end_time": "2025-03-30T07:42:04.017840",
     "exception": false,
     "start_time": "2025-03-30T07:42:00.049062",
     "status": "completed"
    },
    "tags": []
   },
   "outputs": [
    {
     "name": "stdout",
     "output_type": "stream",
     "text": [
      "0.9641405390790616\n"
     ]
    }
   ],
   "source": [
    "from sklearn.model_selection import cross_val_score  \n",
    "scores = cross_val_score(LR, x_train_tfidf, y_train, cv=5)  \n",
    "print(scores.mean())  # Yeh 99% ke paas nahi hona chahiye\n"
   ]
  },
  {
   "cell_type": "code",
   "execution_count": 39,
   "id": "70fc1dd9",
   "metadata": {
    "execution": {
     "iopub.execute_input": "2025-03-30T07:42:04.042155Z",
     "iopub.status.busy": "2025-03-30T07:42:04.041772Z",
     "iopub.status.idle": "2025-03-30T07:42:04.050040Z",
     "shell.execute_reply": "2025-03-30T07:42:04.048991Z"
    },
    "papermill": {
     "duration": 0.022303,
     "end_time": "2025-03-30T07:42:04.051757",
     "exception": false,
     "start_time": "2025-03-30T07:42:04.029454",
     "status": "completed"
    },
    "tags": []
   },
   "outputs": [
    {
     "name": "stdout",
     "output_type": "stream",
     "text": [
      "[[4610   86]\n",
      " [ 181 4103]]\n"
     ]
    }
   ],
   "source": [
    "from sklearn.metrics import confusion_matrix\n",
    "cm = confusion_matrix(y_test, y_pred)\n",
    "print(cm)\n"
   ]
  }
 ],
 "metadata": {
  "kaggle": {
   "accelerator": "none",
   "dataSources": [
    {
     "datasetId": 6991214,
     "sourceId": 11197776,
     "sourceType": "datasetVersion"
    }
   ],
   "dockerImageVersionId": 30918,
   "isGpuEnabled": false,
   "isInternetEnabled": true,
   "language": "python",
   "sourceType": "notebook"
  },
  "kernelspec": {
   "display_name": "Python 3",
   "language": "python",
   "name": "python3"
  },
  "language_info": {
   "codemirror_mode": {
    "name": "ipython",
    "version": 3
   },
   "file_extension": ".py",
   "mimetype": "text/x-python",
   "name": "python",
   "nbconvert_exporter": "python",
   "pygments_lexer": "ipython3",
   "version": "3.10.12"
  },
  "papermill": {
   "default_parameters": {},
   "duration": 110.738149,
   "end_time": "2025-03-30T07:42:04.784163",
   "environment_variables": {},
   "exception": null,
   "input_path": "__notebook__.ipynb",
   "output_path": "__notebook__.ipynb",
   "parameters": {},
   "start_time": "2025-03-30T07:40:14.046014",
   "version": "2.6.0"
  }
 },
 "nbformat": 4,
 "nbformat_minor": 5
}
