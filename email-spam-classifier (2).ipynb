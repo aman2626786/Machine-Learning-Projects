{
 "cells": [
  {
   "cell_type": "code",
   "execution_count": 1,
   "id": "9bb4c1ec",
   "metadata": {
    "execution": {
     "iopub.execute_input": "2025-06-19T14:43:40.363250Z",
     "iopub.status.busy": "2025-06-19T14:43:40.362935Z",
     "iopub.status.idle": "2025-06-19T14:43:42.187232Z",
     "shell.execute_reply": "2025-06-19T14:43:42.186200Z"
    },
    "papermill": {
     "duration": 1.844031,
     "end_time": "2025-06-19T14:43:42.189214",
     "exception": false,
     "start_time": "2025-06-19T14:43:40.345183",
     "status": "completed"
    },
    "tags": []
   },
   "outputs": [
    {
     "name": "stdout",
     "output_type": "stream",
     "text": [
      "/kaggle/input/spam.csv\n"
     ]
    }
   ],
   "source": [
    "# This Python 3 environment comes with many helpful analytics libraries installed\n",
    "# It is defined by the kaggle/python Docker image: https://github.com/kaggle/docker-python\n",
    "# For example, here's several helpful packages to load\n",
    "\n",
    "import numpy as np # linear algebra\n",
    "import pandas as pd # data processing, CSV file I/O (e.g. pd.read_csv)\n",
    "\n",
    "# Input data files are available in the read-only \"../input/\" directory\n",
    "# For example, running this (by clicking run or pressing Shift+Enter) will list all files under the input directory\n",
    "\n",
    "import os\n",
    "for dirname, _, filenames in os.walk('/kaggle/input'):\n",
    "    for filename in filenames:\n",
    "        print(os.path.join(dirname, filename))\n",
    "\n",
    "# You can write up to 20GB to the current directory (/kaggle/working/) that gets preserved as output when you create a version using \"Save & Run All\" \n",
    "# You can also write temporary files to /kaggle/temp/, but they won't be saved outside of the current session"
   ]
  },
  {
   "cell_type": "code",
   "execution_count": 2,
   "id": "d5d3b65b",
   "metadata": {
    "execution": {
     "iopub.execute_input": "2025-06-19T14:43:42.220306Z",
     "iopub.status.busy": "2025-06-19T14:43:42.219885Z",
     "iopub.status.idle": "2025-06-19T14:43:42.263756Z",
     "shell.execute_reply": "2025-06-19T14:43:42.262824Z"
    },
    "papermill": {
     "duration": 0.060524,
     "end_time": "2025-06-19T14:43:42.265295",
     "exception": false,
     "start_time": "2025-06-19T14:43:42.204771",
     "status": "completed"
    },
    "tags": []
   },
   "outputs": [],
   "source": [
    "df = pd.read_csv(\"/kaggle/input/spam.csv\", encoding=\"latin1\")  # Alternative: encoding=\"ISO-8859-1\"\n"
   ]
  },
  {
   "cell_type": "code",
   "execution_count": 3,
   "id": "d0a52715",
   "metadata": {
    "execution": {
     "iopub.execute_input": "2025-06-19T14:43:42.294411Z",
     "iopub.status.busy": "2025-06-19T14:43:42.293560Z",
     "iopub.status.idle": "2025-06-19T14:43:42.322744Z",
     "shell.execute_reply": "2025-06-19T14:43:42.321733Z"
    },
    "papermill": {
     "duration": 0.04548,
     "end_time": "2025-06-19T14:43:42.324411",
     "exception": false,
     "start_time": "2025-06-19T14:43:42.278931",
     "status": "completed"
    },
    "tags": []
   },
   "outputs": [
    {
     "data": {
      "text/html": [
       "<div>\n",
       "<style scoped>\n",
       "    .dataframe tbody tr th:only-of-type {\n",
       "        vertical-align: middle;\n",
       "    }\n",
       "\n",
       "    .dataframe tbody tr th {\n",
       "        vertical-align: top;\n",
       "    }\n",
       "\n",
       "    .dataframe thead th {\n",
       "        text-align: right;\n",
       "    }\n",
       "</style>\n",
       "<table border=\"1\" class=\"dataframe\">\n",
       "  <thead>\n",
       "    <tr style=\"text-align: right;\">\n",
       "      <th></th>\n",
       "      <th>v1</th>\n",
       "      <th>v2</th>\n",
       "      <th>Unnamed: 2</th>\n",
       "      <th>Unnamed: 3</th>\n",
       "      <th>Unnamed: 4</th>\n",
       "    </tr>\n",
       "  </thead>\n",
       "  <tbody>\n",
       "    <tr>\n",
       "      <th>261</th>\n",
       "      <td>ham</td>\n",
       "      <td>Anyway i'm going shopping on my own now. Cos m...</td>\n",
       "      <td>NaN</td>\n",
       "      <td>NaN</td>\n",
       "      <td>NaN</td>\n",
       "    </tr>\n",
       "    <tr>\n",
       "      <th>4570</th>\n",
       "      <td>ham</td>\n",
       "      <td>\\CHA QUITEAMUZING THATåÕSCOOL BABE</td>\n",
       "      <td>PROBPOP IN &amp; CU SATTHEN HUNNY 4BREKKIE! LOVE J...</td>\n",
       "      <td>NaN</td>\n",
       "      <td>NaN</td>\n",
       "    </tr>\n",
       "    <tr>\n",
       "      <th>3917</th>\n",
       "      <td>ham</td>\n",
       "      <td>No need to ke qi... ÌÏ too bored izzit y sudde...</td>\n",
       "      <td>NaN</td>\n",
       "      <td>NaN</td>\n",
       "      <td>NaN</td>\n",
       "    </tr>\n",
       "    <tr>\n",
       "      <th>2632</th>\n",
       "      <td>ham</td>\n",
       "      <td>I WILL CAL YOU SIR. In meeting</td>\n",
       "      <td>NaN</td>\n",
       "      <td>NaN</td>\n",
       "      <td>NaN</td>\n",
       "    </tr>\n",
       "    <tr>\n",
       "      <th>811</th>\n",
       "      <td>ham</td>\n",
       "      <td>So there's a ring that comes with the guys cos...</td>\n",
       "      <td>NaN</td>\n",
       "      <td>NaN</td>\n",
       "      <td>NaN</td>\n",
       "    </tr>\n",
       "  </tbody>\n",
       "</table>\n",
       "</div>"
      ],
      "text/plain": [
       "       v1                                                 v2  \\\n",
       "261   ham  Anyway i'm going shopping on my own now. Cos m...   \n",
       "4570  ham                 \\CHA QUITEAMUZING THATåÕSCOOL BABE   \n",
       "3917  ham  No need to ke qi... ÌÏ too bored izzit y sudde...   \n",
       "2632  ham                     I WILL CAL YOU SIR. In meeting   \n",
       "811   ham  So there's a ring that comes with the guys cos...   \n",
       "\n",
       "                                             Unnamed: 2 Unnamed: 3 Unnamed: 4  \n",
       "261                                                 NaN        NaN        NaN  \n",
       "4570  PROBPOP IN & CU SATTHEN HUNNY 4BREKKIE! LOVE J...        NaN        NaN  \n",
       "3917                                                NaN        NaN        NaN  \n",
       "2632                                                NaN        NaN        NaN  \n",
       "811                                                 NaN        NaN        NaN  "
      ]
     },
     "execution_count": 3,
     "metadata": {},
     "output_type": "execute_result"
    }
   ],
   "source": [
    "df.sample(5)"
   ]
  },
  {
   "cell_type": "code",
   "execution_count": 4,
   "id": "7664d548",
   "metadata": {
    "execution": {
     "iopub.execute_input": "2025-06-19T14:43:42.353600Z",
     "iopub.status.busy": "2025-06-19T14:43:42.353291Z",
     "iopub.status.idle": "2025-06-19T14:43:42.359280Z",
     "shell.execute_reply": "2025-06-19T14:43:42.358380Z"
    },
    "papermill": {
     "duration": 0.02236,
     "end_time": "2025-06-19T14:43:42.360732",
     "exception": false,
     "start_time": "2025-06-19T14:43:42.338372",
     "status": "completed"
    },
    "tags": []
   },
   "outputs": [
    {
     "data": {
      "text/plain": [
       "(5572, 5)"
      ]
     },
     "execution_count": 4,
     "metadata": {},
     "output_type": "execute_result"
    }
   ],
   "source": [
    "df.shape"
   ]
  },
  {
   "cell_type": "code",
   "execution_count": 5,
   "id": "8de952de",
   "metadata": {
    "execution": {
     "iopub.execute_input": "2025-06-19T14:43:42.390093Z",
     "iopub.status.busy": "2025-06-19T14:43:42.389767Z",
     "iopub.status.idle": "2025-06-19T14:43:42.393821Z",
     "shell.execute_reply": "2025-06-19T14:43:42.393072Z"
    },
    "papermill": {
     "duration": 0.020241,
     "end_time": "2025-06-19T14:43:42.395233",
     "exception": false,
     "start_time": "2025-06-19T14:43:42.374992",
     "status": "completed"
    },
    "tags": []
   },
   "outputs": [],
   "source": [
    "# 1. Data cleaning\n",
    "# 2. EDA\n",
    "# 3. Text Preprocessing\n",
    "# 4. Model building\n",
    "# 5. Evaluation\n",
    "# 6. Improvement\n",
    "# 7. Website\n",
    "# 8. Deploy"
   ]
  },
  {
   "cell_type": "markdown",
   "id": "761ac890",
   "metadata": {
    "papermill": {
     "duration": 0.013668,
     "end_time": "2025-06-19T14:43:42.422790",
     "exception": false,
     "start_time": "2025-06-19T14:43:42.409122",
     "status": "completed"
    },
    "tags": []
   },
   "source": [
    "## 1. Data Cleaning"
   ]
  },
  {
   "cell_type": "code",
   "execution_count": 6,
   "id": "a6f99c2b",
   "metadata": {
    "execution": {
     "iopub.execute_input": "2025-06-19T14:43:42.452558Z",
     "iopub.status.busy": "2025-06-19T14:43:42.451856Z",
     "iopub.status.idle": "2025-06-19T14:43:42.474478Z",
     "shell.execute_reply": "2025-06-19T14:43:42.473094Z"
    },
    "papermill": {
     "duration": 0.039453,
     "end_time": "2025-06-19T14:43:42.476282",
     "exception": false,
     "start_time": "2025-06-19T14:43:42.436829",
     "status": "completed"
    },
    "tags": []
   },
   "outputs": [
    {
     "name": "stdout",
     "output_type": "stream",
     "text": [
      "<class 'pandas.core.frame.DataFrame'>\n",
      "RangeIndex: 5572 entries, 0 to 5571\n",
      "Data columns (total 5 columns):\n",
      " #   Column      Non-Null Count  Dtype \n",
      "---  ------      --------------  ----- \n",
      " 0   v1          5572 non-null   object\n",
      " 1   v2          5572 non-null   object\n",
      " 2   Unnamed: 2  50 non-null     object\n",
      " 3   Unnamed: 3  12 non-null     object\n",
      " 4   Unnamed: 4  6 non-null      object\n",
      "dtypes: object(5)\n",
      "memory usage: 217.8+ KB\n"
     ]
    }
   ],
   "source": [
    "df.info()"
   ]
  },
  {
   "cell_type": "code",
   "execution_count": 7,
   "id": "ba2526e9",
   "metadata": {
    "execution": {
     "iopub.execute_input": "2025-06-19T14:43:42.573758Z",
     "iopub.status.busy": "2025-06-19T14:43:42.573414Z",
     "iopub.status.idle": "2025-06-19T14:43:42.578841Z",
     "shell.execute_reply": "2025-06-19T14:43:42.578084Z"
    },
    "papermill": {
     "duration": 0.0864,
     "end_time": "2025-06-19T14:43:42.580269",
     "exception": false,
     "start_time": "2025-06-19T14:43:42.493869",
     "status": "completed"
    },
    "tags": []
   },
   "outputs": [],
   "source": [
    "# drop last 3 cols\n",
    "df.drop(columns=['Unnamed: 2','Unnamed: 3','Unnamed: 4'],inplace=True)"
   ]
  },
  {
   "cell_type": "code",
   "execution_count": 8,
   "id": "4e24acd8",
   "metadata": {
    "execution": {
     "iopub.execute_input": "2025-06-19T14:43:42.609521Z",
     "iopub.status.busy": "2025-06-19T14:43:42.609252Z",
     "iopub.status.idle": "2025-06-19T14:43:42.618073Z",
     "shell.execute_reply": "2025-06-19T14:43:42.617217Z"
    },
    "papermill": {
     "duration": 0.025169,
     "end_time": "2025-06-19T14:43:42.619476",
     "exception": false,
     "start_time": "2025-06-19T14:43:42.594307",
     "status": "completed"
    },
    "tags": []
   },
   "outputs": [
    {
     "data": {
      "text/html": [
       "<div>\n",
       "<style scoped>\n",
       "    .dataframe tbody tr th:only-of-type {\n",
       "        vertical-align: middle;\n",
       "    }\n",
       "\n",
       "    .dataframe tbody tr th {\n",
       "        vertical-align: top;\n",
       "    }\n",
       "\n",
       "    .dataframe thead th {\n",
       "        text-align: right;\n",
       "    }\n",
       "</style>\n",
       "<table border=\"1\" class=\"dataframe\">\n",
       "  <thead>\n",
       "    <tr style=\"text-align: right;\">\n",
       "      <th></th>\n",
       "      <th>v1</th>\n",
       "      <th>v2</th>\n",
       "    </tr>\n",
       "  </thead>\n",
       "  <tbody>\n",
       "    <tr>\n",
       "      <th>1873</th>\n",
       "      <td>spam</td>\n",
       "      <td>You have WON a guaranteed å£1000 cash or a å£2...</td>\n",
       "    </tr>\n",
       "    <tr>\n",
       "      <th>4569</th>\n",
       "      <td>spam</td>\n",
       "      <td>Wanna have a laugh? Try CHIT-CHAT on your mobi...</td>\n",
       "    </tr>\n",
       "    <tr>\n",
       "      <th>2728</th>\n",
       "      <td>spam</td>\n",
       "      <td>Urgent Please call 09066612661 from landline. ...</td>\n",
       "    </tr>\n",
       "    <tr>\n",
       "      <th>4080</th>\n",
       "      <td>ham</td>\n",
       "      <td>Hurry home. Soup is DONE!</td>\n",
       "    </tr>\n",
       "    <tr>\n",
       "      <th>1073</th>\n",
       "      <td>ham</td>\n",
       "      <td>Lul im gettin some juicy gossip at the hospita...</td>\n",
       "    </tr>\n",
       "  </tbody>\n",
       "</table>\n",
       "</div>"
      ],
      "text/plain": [
       "        v1                                                 v2\n",
       "1873  spam  You have WON a guaranteed å£1000 cash or a å£2...\n",
       "4569  spam  Wanna have a laugh? Try CHIT-CHAT on your mobi...\n",
       "2728  spam  Urgent Please call 09066612661 from landline. ...\n",
       "4080   ham                          Hurry home. Soup is DONE!\n",
       "1073   ham  Lul im gettin some juicy gossip at the hospita..."
      ]
     },
     "execution_count": 8,
     "metadata": {},
     "output_type": "execute_result"
    }
   ],
   "source": [
    "df.sample(5)"
   ]
  },
  {
   "cell_type": "code",
   "execution_count": 9,
   "id": "8e9d5ecf",
   "metadata": {
    "execution": {
     "iopub.execute_input": "2025-06-19T14:43:42.649269Z",
     "iopub.status.busy": "2025-06-19T14:43:42.648579Z",
     "iopub.status.idle": "2025-06-19T14:43:42.658040Z",
     "shell.execute_reply": "2025-06-19T14:43:42.656911Z"
    },
    "papermill": {
     "duration": 0.025562,
     "end_time": "2025-06-19T14:43:42.659325",
     "exception": false,
     "start_time": "2025-06-19T14:43:42.633763",
     "status": "completed"
    },
    "tags": []
   },
   "outputs": [
    {
     "data": {
      "text/html": [
       "<div>\n",
       "<style scoped>\n",
       "    .dataframe tbody tr th:only-of-type {\n",
       "        vertical-align: middle;\n",
       "    }\n",
       "\n",
       "    .dataframe tbody tr th {\n",
       "        vertical-align: top;\n",
       "    }\n",
       "\n",
       "    .dataframe thead th {\n",
       "        text-align: right;\n",
       "    }\n",
       "</style>\n",
       "<table border=\"1\" class=\"dataframe\">\n",
       "  <thead>\n",
       "    <tr style=\"text-align: right;\">\n",
       "      <th></th>\n",
       "      <th>target</th>\n",
       "      <th>text</th>\n",
       "    </tr>\n",
       "  </thead>\n",
       "  <tbody>\n",
       "    <tr>\n",
       "      <th>1999</th>\n",
       "      <td>ham</td>\n",
       "      <td>LMAO where's your fish memory when I need it?</td>\n",
       "    </tr>\n",
       "    <tr>\n",
       "      <th>5127</th>\n",
       "      <td>ham</td>\n",
       "      <td>Cuz ibored. And don wanna study</td>\n",
       "    </tr>\n",
       "    <tr>\n",
       "      <th>5529</th>\n",
       "      <td>ham</td>\n",
       "      <td>What about this one then.</td>\n",
       "    </tr>\n",
       "    <tr>\n",
       "      <th>5031</th>\n",
       "      <td>ham</td>\n",
       "      <td>Ok i vl..do u know i got adsense approved..</td>\n",
       "    </tr>\n",
       "    <tr>\n",
       "      <th>4344</th>\n",
       "      <td>ham</td>\n",
       "      <td>Enjoy urself tmr...</td>\n",
       "    </tr>\n",
       "  </tbody>\n",
       "</table>\n",
       "</div>"
      ],
      "text/plain": [
       "     target                                           text\n",
       "1999    ham  LMAO where's your fish memory when I need it?\n",
       "5127    ham                Cuz ibored. And don wanna study\n",
       "5529    ham                      What about this one then.\n",
       "5031    ham    Ok i vl..do u know i got adsense approved..\n",
       "4344    ham                            Enjoy urself tmr..."
      ]
     },
     "execution_count": 9,
     "metadata": {},
     "output_type": "execute_result"
    }
   ],
   "source": [
    "# renaming the cols\n",
    "df.rename(columns={'v1':'target','v2':'text'},inplace=True)\n",
    "df.sample(5)"
   ]
  },
  {
   "cell_type": "code",
   "execution_count": 10,
   "id": "5ca58cf4",
   "metadata": {
    "execution": {
     "iopub.execute_input": "2025-06-19T14:43:42.689312Z",
     "iopub.status.busy": "2025-06-19T14:43:42.688686Z",
     "iopub.status.idle": "2025-06-19T14:43:43.978497Z",
     "shell.execute_reply": "2025-06-19T14:43:43.977317Z"
    },
    "papermill": {
     "duration": 1.307242,
     "end_time": "2025-06-19T14:43:43.980684",
     "exception": false,
     "start_time": "2025-06-19T14:43:42.673442",
     "status": "completed"
    },
    "tags": []
   },
   "outputs": [],
   "source": [
    "from sklearn.preprocessing import LabelEncoder\n",
    "encoder = LabelEncoder()"
   ]
  },
  {
   "cell_type": "code",
   "execution_count": 11,
   "id": "643a03fa",
   "metadata": {
    "execution": {
     "iopub.execute_input": "2025-06-19T14:43:44.029344Z",
     "iopub.status.busy": "2025-06-19T14:43:44.028431Z",
     "iopub.status.idle": "2025-06-19T14:43:44.037004Z",
     "shell.execute_reply": "2025-06-19T14:43:44.035797Z"
    },
    "papermill": {
     "duration": 0.030936,
     "end_time": "2025-06-19T14:43:44.038520",
     "exception": false,
     "start_time": "2025-06-19T14:43:44.007584",
     "status": "completed"
    },
    "tags": []
   },
   "outputs": [],
   "source": [
    "df['target'] = encoder.fit_transform(df['target'])"
   ]
  },
  {
   "cell_type": "code",
   "execution_count": 12,
   "id": "a3b82f2e",
   "metadata": {
    "execution": {
     "iopub.execute_input": "2025-06-19T14:43:44.070438Z",
     "iopub.status.busy": "2025-06-19T14:43:44.070127Z",
     "iopub.status.idle": "2025-06-19T14:43:44.078358Z",
     "shell.execute_reply": "2025-06-19T14:43:44.077517Z"
    },
    "papermill": {
     "duration": 0.024665,
     "end_time": "2025-06-19T14:43:44.079873",
     "exception": false,
     "start_time": "2025-06-19T14:43:44.055208",
     "status": "completed"
    },
    "tags": []
   },
   "outputs": [
    {
     "data": {
      "text/html": [
       "<div>\n",
       "<style scoped>\n",
       "    .dataframe tbody tr th:only-of-type {\n",
       "        vertical-align: middle;\n",
       "    }\n",
       "\n",
       "    .dataframe tbody tr th {\n",
       "        vertical-align: top;\n",
       "    }\n",
       "\n",
       "    .dataframe thead th {\n",
       "        text-align: right;\n",
       "    }\n",
       "</style>\n",
       "<table border=\"1\" class=\"dataframe\">\n",
       "  <thead>\n",
       "    <tr style=\"text-align: right;\">\n",
       "      <th></th>\n",
       "      <th>target</th>\n",
       "      <th>text</th>\n",
       "    </tr>\n",
       "  </thead>\n",
       "  <tbody>\n",
       "    <tr>\n",
       "      <th>0</th>\n",
       "      <td>0</td>\n",
       "      <td>Go until jurong point, crazy.. Available only ...</td>\n",
       "    </tr>\n",
       "    <tr>\n",
       "      <th>1</th>\n",
       "      <td>0</td>\n",
       "      <td>Ok lar... Joking wif u oni...</td>\n",
       "    </tr>\n",
       "    <tr>\n",
       "      <th>2</th>\n",
       "      <td>1</td>\n",
       "      <td>Free entry in 2 a wkly comp to win FA Cup fina...</td>\n",
       "    </tr>\n",
       "    <tr>\n",
       "      <th>3</th>\n",
       "      <td>0</td>\n",
       "      <td>U dun say so early hor... U c already then say...</td>\n",
       "    </tr>\n",
       "    <tr>\n",
       "      <th>4</th>\n",
       "      <td>0</td>\n",
       "      <td>Nah I don't think he goes to usf, he lives aro...</td>\n",
       "    </tr>\n",
       "  </tbody>\n",
       "</table>\n",
       "</div>"
      ],
      "text/plain": [
       "   target                                               text\n",
       "0       0  Go until jurong point, crazy.. Available only ...\n",
       "1       0                      Ok lar... Joking wif u oni...\n",
       "2       1  Free entry in 2 a wkly comp to win FA Cup fina...\n",
       "3       0  U dun say so early hor... U c already then say...\n",
       "4       0  Nah I don't think he goes to usf, he lives aro..."
      ]
     },
     "execution_count": 12,
     "metadata": {},
     "output_type": "execute_result"
    }
   ],
   "source": [
    "df.head()"
   ]
  },
  {
   "cell_type": "code",
   "execution_count": 13,
   "id": "d96bf350",
   "metadata": {
    "execution": {
     "iopub.execute_input": "2025-06-19T14:43:44.110031Z",
     "iopub.status.busy": "2025-06-19T14:43:44.109680Z",
     "iopub.status.idle": "2025-06-19T14:43:44.117449Z",
     "shell.execute_reply": "2025-06-19T14:43:44.116507Z"
    },
    "papermill": {
     "duration": 0.024184,
     "end_time": "2025-06-19T14:43:44.118885",
     "exception": false,
     "start_time": "2025-06-19T14:43:44.094701",
     "status": "completed"
    },
    "tags": []
   },
   "outputs": [
    {
     "data": {
      "text/plain": [
       "target    0\n",
       "text      0\n",
       "dtype: int64"
      ]
     },
     "execution_count": 13,
     "metadata": {},
     "output_type": "execute_result"
    }
   ],
   "source": [
    "# missing values\n",
    "df.isnull().sum()"
   ]
  },
  {
   "cell_type": "code",
   "execution_count": 14,
   "id": "17706d99",
   "metadata": {
    "execution": {
     "iopub.execute_input": "2025-06-19T14:43:44.150873Z",
     "iopub.status.busy": "2025-06-19T14:43:44.150256Z",
     "iopub.status.idle": "2025-06-19T14:43:44.160903Z",
     "shell.execute_reply": "2025-06-19T14:43:44.159649Z"
    },
    "papermill": {
     "duration": 0.029105,
     "end_time": "2025-06-19T14:43:44.162803",
     "exception": false,
     "start_time": "2025-06-19T14:43:44.133698",
     "status": "completed"
    },
    "tags": []
   },
   "outputs": [
    {
     "data": {
      "text/plain": [
       "403"
      ]
     },
     "execution_count": 14,
     "metadata": {},
     "output_type": "execute_result"
    }
   ],
   "source": [
    "# check for duplicate values\n",
    "df.duplicated().sum()"
   ]
  },
  {
   "cell_type": "code",
   "execution_count": 15,
   "id": "8ee3b72a",
   "metadata": {
    "execution": {
     "iopub.execute_input": "2025-06-19T14:43:44.200236Z",
     "iopub.status.busy": "2025-06-19T14:43:44.199805Z",
     "iopub.status.idle": "2025-06-19T14:43:44.207750Z",
     "shell.execute_reply": "2025-06-19T14:43:44.207031Z"
    },
    "papermill": {
     "duration": 0.026818,
     "end_time": "2025-06-19T14:43:44.209294",
     "exception": false,
     "start_time": "2025-06-19T14:43:44.182476",
     "status": "completed"
    },
    "tags": []
   },
   "outputs": [],
   "source": [
    "# remove duplicates\n",
    "df = df.drop_duplicates(keep='first')"
   ]
  },
  {
   "cell_type": "code",
   "execution_count": 16,
   "id": "b11e453f",
   "metadata": {
    "execution": {
     "iopub.execute_input": "2025-06-19T14:43:44.239439Z",
     "iopub.status.busy": "2025-06-19T14:43:44.239147Z",
     "iopub.status.idle": "2025-06-19T14:43:44.247056Z",
     "shell.execute_reply": "2025-06-19T14:43:44.246322Z"
    },
    "papermill": {
     "duration": 0.024501,
     "end_time": "2025-06-19T14:43:44.248449",
     "exception": false,
     "start_time": "2025-06-19T14:43:44.223948",
     "status": "completed"
    },
    "tags": []
   },
   "outputs": [
    {
     "data": {
      "text/plain": [
       "0"
      ]
     },
     "execution_count": 16,
     "metadata": {},
     "output_type": "execute_result"
    }
   ],
   "source": [
    "df.duplicated().sum()"
   ]
  },
  {
   "cell_type": "code",
   "execution_count": 17,
   "id": "4af0ca0f",
   "metadata": {
    "execution": {
     "iopub.execute_input": "2025-06-19T14:43:44.280036Z",
     "iopub.status.busy": "2025-06-19T14:43:44.279722Z",
     "iopub.status.idle": "2025-06-19T14:43:44.285519Z",
     "shell.execute_reply": "2025-06-19T14:43:44.284673Z"
    },
    "papermill": {
     "duration": 0.023763,
     "end_time": "2025-06-19T14:43:44.287286",
     "exception": false,
     "start_time": "2025-06-19T14:43:44.263523",
     "status": "completed"
    },
    "tags": []
   },
   "outputs": [
    {
     "data": {
      "text/plain": [
       "(5169, 2)"
      ]
     },
     "execution_count": 17,
     "metadata": {},
     "output_type": "execute_result"
    }
   ],
   "source": [
    "df.shape"
   ]
  },
  {
   "cell_type": "markdown",
   "id": "69a18599",
   "metadata": {
    "papermill": {
     "duration": 0.014645,
     "end_time": "2025-06-19T14:43:44.316939",
     "exception": false,
     "start_time": "2025-06-19T14:43:44.302294",
     "status": "completed"
    },
    "tags": []
   },
   "source": [
    "## 2.EDA"
   ]
  },
  {
   "cell_type": "code",
   "execution_count": 18,
   "id": "5b7b271f",
   "metadata": {
    "execution": {
     "iopub.execute_input": "2025-06-19T14:43:44.348350Z",
     "iopub.status.busy": "2025-06-19T14:43:44.347603Z",
     "iopub.status.idle": "2025-06-19T14:43:44.355589Z",
     "shell.execute_reply": "2025-06-19T14:43:44.354713Z"
    },
    "papermill": {
     "duration": 0.025373,
     "end_time": "2025-06-19T14:43:44.357146",
     "exception": false,
     "start_time": "2025-06-19T14:43:44.331773",
     "status": "completed"
    },
    "tags": []
   },
   "outputs": [
    {
     "data": {
      "text/html": [
       "<div>\n",
       "<style scoped>\n",
       "    .dataframe tbody tr th:only-of-type {\n",
       "        vertical-align: middle;\n",
       "    }\n",
       "\n",
       "    .dataframe tbody tr th {\n",
       "        vertical-align: top;\n",
       "    }\n",
       "\n",
       "    .dataframe thead th {\n",
       "        text-align: right;\n",
       "    }\n",
       "</style>\n",
       "<table border=\"1\" class=\"dataframe\">\n",
       "  <thead>\n",
       "    <tr style=\"text-align: right;\">\n",
       "      <th></th>\n",
       "      <th>target</th>\n",
       "      <th>text</th>\n",
       "    </tr>\n",
       "  </thead>\n",
       "  <tbody>\n",
       "    <tr>\n",
       "      <th>0</th>\n",
       "      <td>0</td>\n",
       "      <td>Go until jurong point, crazy.. Available only ...</td>\n",
       "    </tr>\n",
       "    <tr>\n",
       "      <th>1</th>\n",
       "      <td>0</td>\n",
       "      <td>Ok lar... Joking wif u oni...</td>\n",
       "    </tr>\n",
       "    <tr>\n",
       "      <th>2</th>\n",
       "      <td>1</td>\n",
       "      <td>Free entry in 2 a wkly comp to win FA Cup fina...</td>\n",
       "    </tr>\n",
       "    <tr>\n",
       "      <th>3</th>\n",
       "      <td>0</td>\n",
       "      <td>U dun say so early hor... U c already then say...</td>\n",
       "    </tr>\n",
       "    <tr>\n",
       "      <th>4</th>\n",
       "      <td>0</td>\n",
       "      <td>Nah I don't think he goes to usf, he lives aro...</td>\n",
       "    </tr>\n",
       "  </tbody>\n",
       "</table>\n",
       "</div>"
      ],
      "text/plain": [
       "   target                                               text\n",
       "0       0  Go until jurong point, crazy.. Available only ...\n",
       "1       0                      Ok lar... Joking wif u oni...\n",
       "2       1  Free entry in 2 a wkly comp to win FA Cup fina...\n",
       "3       0  U dun say so early hor... U c already then say...\n",
       "4       0  Nah I don't think he goes to usf, he lives aro..."
      ]
     },
     "execution_count": 18,
     "metadata": {},
     "output_type": "execute_result"
    }
   ],
   "source": [
    "df.head()"
   ]
  },
  {
   "cell_type": "code",
   "execution_count": 19,
   "id": "8b5348a4",
   "metadata": {
    "execution": {
     "iopub.execute_input": "2025-06-19T14:43:44.388303Z",
     "iopub.status.busy": "2025-06-19T14:43:44.387996Z",
     "iopub.status.idle": "2025-06-19T14:43:44.396582Z",
     "shell.execute_reply": "2025-06-19T14:43:44.395650Z"
    },
    "papermill": {
     "duration": 0.025912,
     "end_time": "2025-06-19T14:43:44.398107",
     "exception": false,
     "start_time": "2025-06-19T14:43:44.372195",
     "status": "completed"
    },
    "tags": []
   },
   "outputs": [
    {
     "data": {
      "text/plain": [
       "target\n",
       "0    4516\n",
       "1     653\n",
       "Name: count, dtype: int64"
      ]
     },
     "execution_count": 19,
     "metadata": {},
     "output_type": "execute_result"
    }
   ],
   "source": [
    "df['target'].value_counts()"
   ]
  },
  {
   "cell_type": "code",
   "execution_count": 20,
   "id": "9ff12aaa",
   "metadata": {
    "execution": {
     "iopub.execute_input": "2025-06-19T14:43:44.429372Z",
     "iopub.status.busy": "2025-06-19T14:43:44.429082Z",
     "iopub.status.idle": "2025-06-19T14:43:44.608846Z",
     "shell.execute_reply": "2025-06-19T14:43:44.607605Z"
    },
    "papermill": {
     "duration": 0.197456,
     "end_time": "2025-06-19T14:43:44.610590",
     "exception": false,
     "start_time": "2025-06-19T14:43:44.413134",
     "status": "completed"
    },
    "tags": []
   },
   "outputs": [
    {
     "data": {
      "image/png": "[encoded data removed]",
      "text/plain": [
       "<Figure size 640x480 with 1 Axes>"
      ]
     },
     "metadata": {},
     "output_type": "display_data"
    }
   ],
   "source": [
    "import matplotlib.pyplot as plt\n",
    "plt.pie(df['target'].value_counts(), labels=['ham','spam'],autopct=\"%0.2f\")\n",
    "plt.show()"
   ]
  },
  {
   "cell_type": "code",
   "execution_count": 21,
   "id": "0c69c6c6",
   "metadata": {
    "execution": {
     "iopub.execute_input": "2025-06-19T14:43:44.642845Z",
     "iopub.status.busy": "2025-06-19T14:43:44.642516Z",
     "iopub.status.idle": "2025-06-19T14:43:44.646791Z",
     "shell.execute_reply": "2025-06-19T14:43:44.645845Z"
    },
    "papermill": {
     "duration": 0.021857,
     "end_time": "2025-06-19T14:43:44.648301",
     "exception": false,
     "start_time": "2025-06-19T14:43:44.626444",
     "status": "completed"
    },
    "tags": []
   },
   "outputs": [],
   "source": [
    "# Data is imbalanced"
   ]
  },
  {
   "cell_type": "code",
   "execution_count": 22,
   "id": "72cf2b3a",
   "metadata": {
    "execution": {
     "iopub.execute_input": "2025-06-19T14:43:44.679741Z",
     "iopub.status.busy": "2025-06-19T14:43:44.679388Z",
     "iopub.status.idle": "2025-06-19T14:43:45.477866Z",
     "shell.execute_reply": "2025-06-19T14:43:45.476899Z"
    },
    "papermill": {
     "duration": 0.815965,
     "end_time": "2025-06-19T14:43:45.479516",
     "exception": false,
     "start_time": "2025-06-19T14:43:44.663551",
     "status": "completed"
    },
    "tags": []
   },
   "outputs": [],
   "source": [
    "import nltk"
   ]
  },
  {
   "cell_type": "code",
   "execution_count": 23,
   "id": "accdcb93",
   "metadata": {
    "execution": {
     "iopub.execute_input": "2025-06-19T14:43:45.513790Z",
     "iopub.status.busy": "2025-06-19T14:43:45.513445Z",
     "iopub.status.idle": "2025-06-19T14:43:50.080513Z",
     "shell.execute_reply": "2025-06-19T14:43:50.079243Z"
    },
    "papermill": {
     "duration": 4.586538,
     "end_time": "2025-06-19T14:43:50.082296",
     "exception": false,
     "start_time": "2025-06-19T14:43:45.495758",
     "status": "completed"
    },
    "tags": []
   },
   "outputs": [
    {
     "name": "stdout",
     "output_type": "stream",
     "text": [
      "Requirement already satisfied: nltk in /usr/local/lib/python3.11/dist-packages (3.9.1)\r\n",
      "Requirement already satisfied: click in /usr/local/lib/python3.11/dist-packages (from nltk) (8.1.8)\r\n",
      "Requirement already satisfied: joblib in /usr/local/lib/python3.11/dist-packages (from nltk) (1.5.0)\r\n",
      "Requirement already satisfied: regex>=2021.8.3 in /usr/local/lib/python3.11/dist-packages (from nltk) (2024.11.6)\r\n",
      "Requirement already satisfied: tqdm in /usr/local/lib/python3.11/dist-packages (from nltk) (4.67.1)\r\n"
     ]
    }
   ],
   "source": [
    "!pip install nltk"
   ]
  },
  {
   "cell_type": "code",
   "execution_count": 24,
   "id": "d5f40fe3",
   "metadata": {
    "execution": {
     "iopub.execute_input": "2025-06-19T14:43:50.115924Z",
     "iopub.status.busy": "2025-06-19T14:43:50.115551Z",
     "iopub.status.idle": "2025-06-19T14:43:50.253371Z",
     "shell.execute_reply": "2025-06-19T14:43:50.252532Z"
    },
    "papermill": {
     "duration": 0.156282,
     "end_time": "2025-06-19T14:43:50.254854",
     "exception": false,
     "start_time": "2025-06-19T14:43:50.098572",
     "status": "completed"
    },
    "tags": []
   },
   "outputs": [
    {
     "name": "stderr",
     "output_type": "stream",
     "text": [
      "[nltk_data] Downloading package punkt to /usr/share/nltk_data...\n",
      "[nltk_data]   Package punkt is already up-to-date!\n"
     ]
    },
    {
     "data": {
      "text/plain": [
       "True"
      ]
     },
     "execution_count": 24,
     "metadata": {},
     "output_type": "execute_result"
    }
   ],
   "source": [
    "nltk.download('punkt')"
   ]
  },
  {
   "cell_type": "code",
   "execution_count": 25,
   "id": "c9b80cf2",
   "metadata": {
    "execution": {
     "iopub.execute_input": "2025-06-19T14:43:50.287104Z",
     "iopub.status.busy": "2025-06-19T14:43:50.286793Z",
     "iopub.status.idle": "2025-06-19T14:43:50.295451Z",
     "shell.execute_reply": "2025-06-19T14:43:50.294574Z"
    },
    "papermill": {
     "duration": 0.026445,
     "end_time": "2025-06-19T14:43:50.296961",
     "exception": false,
     "start_time": "2025-06-19T14:43:50.270516",
     "status": "completed"
    },
    "tags": []
   },
   "outputs": [],
   "source": [
    "df['num_characters'] = df['text'].apply(len)"
   ]
  },
  {
   "cell_type": "code",
   "execution_count": 26,
   "id": "677ec2bf",
   "metadata": {
    "execution": {
     "iopub.execute_input": "2025-06-19T14:43:50.330456Z",
     "iopub.status.busy": "2025-06-19T14:43:50.329617Z",
     "iopub.status.idle": "2025-06-19T14:43:50.338768Z",
     "shell.execute_reply": "2025-06-19T14:43:50.338004Z"
    },
    "papermill": {
     "duration": 0.026777,
     "end_time": "2025-06-19T14:43:50.340152",
     "exception": false,
     "start_time": "2025-06-19T14:43:50.313375",
     "status": "completed"
    },
    "tags": []
   },
   "outputs": [
    {
     "data": {
      "text/html": [
       "<div>\n",
       "<style scoped>\n",
       "    .dataframe tbody tr th:only-of-type {\n",
       "        vertical-align: middle;\n",
       "    }\n",
       "\n",
       "    .dataframe tbody tr th {\n",
       "        vertical-align: top;\n",
       "    }\n",
       "\n",
       "    .dataframe thead th {\n",
       "        text-align: right;\n",
       "    }\n",
       "</style>\n",
       "<table border=\"1\" class=\"dataframe\">\n",
       "  <thead>\n",
       "    <tr style=\"text-align: right;\">\n",
       "      <th></th>\n",
       "      <th>target</th>\n",
       "      <th>text</th>\n",
       "      <th>num_characters</th>\n",
       "    </tr>\n",
       "  </thead>\n",
       "  <tbody>\n",
       "    <tr>\n",
       "      <th>0</th>\n",
       "      <td>0</td>\n",
       "      <td>Go until jurong point, crazy.. Available only ...</td>\n",
       "      <td>111</td>\n",
       "    </tr>\n",
       "    <tr>\n",
       "      <th>1</th>\n",
       "      <td>0</td>\n",
       "      <td>Ok lar... Joking wif u oni...</td>\n",
       "      <td>29</td>\n",
       "    </tr>\n",
       "    <tr>\n",
       "      <th>2</th>\n",
       "      <td>1</td>\n",
       "      <td>Free entry in 2 a wkly comp to win FA Cup fina...</td>\n",
       "      <td>155</td>\n",
       "    </tr>\n",
       "    <tr>\n",
       "      <th>3</th>\n",
       "      <td>0</td>\n",
       "      <td>U dun say so early hor... U c already then say...</td>\n",
       "      <td>49</td>\n",
       "    </tr>\n",
       "    <tr>\n",
       "      <th>4</th>\n",
       "      <td>0</td>\n",
       "      <td>Nah I don't think he goes to usf, he lives aro...</td>\n",
       "      <td>61</td>\n",
       "    </tr>\n",
       "  </tbody>\n",
       "</table>\n",
       "</div>"
      ],
      "text/plain": [
       "   target                                               text  num_characters\n",
       "0       0  Go until jurong point, crazy.. Available only ...             111\n",
       "1       0                      Ok lar... Joking wif u oni...              29\n",
       "2       1  Free entry in 2 a wkly comp to win FA Cup fina...             155\n",
       "3       0  U dun say so early hor... U c already then say...              49\n",
       "4       0  Nah I don't think he goes to usf, he lives aro...              61"
      ]
     },
     "execution_count": 26,
     "metadata": {},
     "output_type": "execute_result"
    }
   ],
   "source": [
    "df.head()"
   ]
  },
  {
   "cell_type": "code",
   "execution_count": 27,
   "id": "55b5c970",
   "metadata": {
    "execution": {
     "iopub.execute_input": "2025-06-19T14:43:50.373138Z",
     "iopub.status.busy": "2025-06-19T14:43:50.372817Z",
     "iopub.status.idle": "2025-06-19T14:43:51.223514Z",
     "shell.execute_reply": "2025-06-19T14:43:51.222841Z"
    },
    "papermill": {
     "duration": 0.869109,
     "end_time": "2025-06-19T14:43:51.225255",
     "exception": false,
     "start_time": "2025-06-19T14:43:50.356146",
     "status": "completed"
    },
    "tags": []
   },
   "outputs": [],
   "source": [
    "# num of words\n",
    "df['num_words'] = df['text'].apply(lambda x:len(nltk.word_tokenize(x)))"
   ]
  },
  {
   "cell_type": "code",
   "execution_count": 28,
   "id": "3f1f45ae",
   "metadata": {
    "execution": {
     "iopub.execute_input": "2025-06-19T14:43:51.258504Z",
     "iopub.status.busy": "2025-06-19T14:43:51.258205Z",
     "iopub.status.idle": "2025-06-19T14:43:51.266857Z",
     "shell.execute_reply": "2025-06-19T14:43:51.266061Z"
    },
    "papermill": {
     "duration": 0.026775,
     "end_time": "2025-06-19T14:43:51.268198",
     "exception": false,
     "start_time": "2025-06-19T14:43:51.241423",
     "status": "completed"
    },
    "tags": []
   },
   "outputs": [
    {
     "data": {
      "text/html": [
       "<div>\n",
       "<style scoped>\n",
       "    .dataframe tbody tr th:only-of-type {\n",
       "        vertical-align: middle;\n",
       "    }\n",
       "\n",
       "    .dataframe tbody tr th {\n",
       "        vertical-align: top;\n",
       "    }\n",
       "\n",
       "    .dataframe thead th {\n",
       "        text-align: right;\n",
       "    }\n",
       "</style>\n",
       "<table border=\"1\" class=\"dataframe\">\n",
       "  <thead>\n",
       "    <tr style=\"text-align: right;\">\n",
       "      <th></th>\n",
       "      <th>target</th>\n",
       "      <th>text</th>\n",
       "      <th>num_characters</th>\n",
       "      <th>num_words</th>\n",
       "    </tr>\n",
       "  </thead>\n",
       "  <tbody>\n",
       "    <tr>\n",
       "      <th>0</th>\n",
       "      <td>0</td>\n",
       "      <td>Go until jurong point, crazy.. Available only ...</td>\n",
       "      <td>111</td>\n",
       "      <td>24</td>\n",
       "    </tr>\n",
       "    <tr>\n",
       "      <th>1</th>\n",
       "      <td>0</td>\n",
       "      <td>Ok lar... Joking wif u oni...</td>\n",
       "      <td>29</td>\n",
       "      <td>8</td>\n",
       "    </tr>\n",
       "    <tr>\n",
       "      <th>2</th>\n",
       "      <td>1</td>\n",
       "      <td>Free entry in 2 a wkly comp to win FA Cup fina...</td>\n",
       "      <td>155</td>\n",
       "      <td>37</td>\n",
       "    </tr>\n",
       "    <tr>\n",
       "      <th>3</th>\n",
       "      <td>0</td>\n",
       "      <td>U dun say so early hor... U c already then say...</td>\n",
       "      <td>49</td>\n",
       "      <td>13</td>\n",
       "    </tr>\n",
       "    <tr>\n",
       "      <th>4</th>\n",
       "      <td>0</td>\n",
       "      <td>Nah I don't think he goes to usf, he lives aro...</td>\n",
       "      <td>61</td>\n",
       "      <td>15</td>\n",
       "    </tr>\n",
       "  </tbody>\n",
       "</table>\n",
       "</div>"
      ],
      "text/plain": [
       "   target                                               text  num_characters  \\\n",
       "0       0  Go until jurong point, crazy.. Available only ...             111   \n",
       "1       0                      Ok lar... Joking wif u oni...              29   \n",
       "2       1  Free entry in 2 a wkly comp to win FA Cup fina...             155   \n",
       "3       0  U dun say so early hor... U c already then say...              49   \n",
       "4       0  Nah I don't think he goes to usf, he lives aro...              61   \n",
       "\n",
       "   num_words  \n",
       "0         24  \n",
       "1          8  \n",
       "2         37  \n",
       "3         13  \n",
       "4         15  "
      ]
     },
     "execution_count": 28,
     "metadata": {},
     "output_type": "execute_result"
    }
   ],
   "source": [
    "df.head()\n"
   ]
  },
  {
   "cell_type": "code",
   "execution_count": 29,
   "id": "6bb546d3",
   "metadata": {
    "execution": {
     "iopub.execute_input": "2025-06-19T14:43:51.301064Z",
     "iopub.status.busy": "2025-06-19T14:43:51.300733Z",
     "iopub.status.idle": "2025-06-19T14:43:51.439948Z",
     "shell.execute_reply": "2025-06-19T14:43:51.439220Z"
    },
    "papermill": {
     "duration": 0.157693,
     "end_time": "2025-06-19T14:43:51.441596",
     "exception": false,
     "start_time": "2025-06-19T14:43:51.283903",
     "status": "completed"
    },
    "tags": []
   },
   "outputs": [],
   "source": [
    "df['num_sentences'] = df['text'].apply(lambda x:len(nltk.sent_tokenize(x)))"
   ]
  },
  {
   "cell_type": "code",
   "execution_count": 30,
   "id": "6fc0cac0",
   "metadata": {
    "execution": {
     "iopub.execute_input": "2025-06-19T14:43:51.475918Z",
     "iopub.status.busy": "2025-06-19T14:43:51.475542Z",
     "iopub.status.idle": "2025-06-19T14:43:51.484871Z",
     "shell.execute_reply": "2025-06-19T14:43:51.484002Z"
    },
    "papermill": {
     "duration": 0.027418,
     "end_time": "2025-06-19T14:43:51.486216",
     "exception": false,
     "start_time": "2025-06-19T14:43:51.458798",
     "status": "completed"
    },
    "tags": []
   },
   "outputs": [
    {
     "data": {
      "text/html": [
       "<div>\n",
       "<style scoped>\n",
       "    .dataframe tbody tr th:only-of-type {\n",
       "        vertical-align: middle;\n",
       "    }\n",
       "\n",
       "    .dataframe tbody tr th {\n",
       "        vertical-align: top;\n",
       "    }\n",
       "\n",
       "    .dataframe thead th {\n",
       "        text-align: right;\n",
       "    }\n",
       "</style>\n",
       "<table border=\"1\" class=\"dataframe\">\n",
       "  <thead>\n",
       "    <tr style=\"text-align: right;\">\n",
       "      <th></th>\n",
       "      <th>target</th>\n",
       "      <th>text</th>\n",
       "      <th>num_characters</th>\n",
       "      <th>num_words</th>\n",
       "      <th>num_sentences</th>\n",
       "    </tr>\n",
       "  </thead>\n",
       "  <tbody>\n",
       "    <tr>\n",
       "      <th>0</th>\n",
       "      <td>0</td>\n",
       "      <td>Go until jurong point, crazy.. Available only ...</td>\n",
       "      <td>111</td>\n",
       "      <td>24</td>\n",
       "      <td>2</td>\n",
       "    </tr>\n",
       "    <tr>\n",
       "      <th>1</th>\n",
       "      <td>0</td>\n",
       "      <td>Ok lar... Joking wif u oni...</td>\n",
       "      <td>29</td>\n",
       "      <td>8</td>\n",
       "      <td>2</td>\n",
       "    </tr>\n",
       "    <tr>\n",
       "      <th>2</th>\n",
       "      <td>1</td>\n",
       "      <td>Free entry in 2 a wkly comp to win FA Cup fina...</td>\n",
       "      <td>155</td>\n",
       "      <td>37</td>\n",
       "      <td>2</td>\n",
       "    </tr>\n",
       "    <tr>\n",
       "      <th>3</th>\n",
       "      <td>0</td>\n",
       "      <td>U dun say so early hor... U c already then say...</td>\n",
       "      <td>49</td>\n",
       "      <td>13</td>\n",
       "      <td>1</td>\n",
       "    </tr>\n",
       "    <tr>\n",
       "      <th>4</th>\n",
       "      <td>0</td>\n",
       "      <td>Nah I don't think he goes to usf, he lives aro...</td>\n",
       "      <td>61</td>\n",
       "      <td>15</td>\n",
       "      <td>1</td>\n",
       "    </tr>\n",
       "  </tbody>\n",
       "</table>\n",
       "</div>"
      ],
      "text/plain": [
       "   target                                               text  num_characters  \\\n",
       "0       0  Go until jurong point, crazy.. Available only ...             111   \n",
       "1       0                      Ok lar... Joking wif u oni...              29   \n",
       "2       1  Free entry in 2 a wkly comp to win FA Cup fina...             155   \n",
       "3       0  U dun say so early hor... U c already then say...              49   \n",
       "4       0  Nah I don't think he goes to usf, he lives aro...              61   \n",
       "\n",
       "   num_words  num_sentences  \n",
       "0         24              2  \n",
       "1          8              2  \n",
       "2         37              2  \n",
       "3         13              1  \n",
       "4         15              1  "
      ]
     },
     "execution_count": 30,
     "metadata": {},
     "output_type": "execute_result"
    }
   ],
   "source": [
    "df.head()"
   ]
  },
  {
   "cell_type": "code",
   "execution_count": 31,
   "id": "90eac345",
   "metadata": {
    "execution": {
     "iopub.execute_input": "2025-06-19T14:43:51.520018Z",
     "iopub.status.busy": "2025-06-19T14:43:51.519330Z",
     "iopub.status.idle": "2025-06-19T14:43:51.539547Z",
     "shell.execute_reply": "2025-06-19T14:43:51.538692Z"
    },
    "papermill": {
     "duration": 0.038415,
     "end_time": "2025-06-19T14:43:51.541149",
     "exception": false,
     "start_time": "2025-06-19T14:43:51.502734",
     "status": "completed"
    },
    "tags": []
   },
   "outputs": [
    {
     "data": {
      "text/html": [
       "<div>\n",
       "<style scoped>\n",
       "    .dataframe tbody tr th:only-of-type {\n",
       "        vertical-align: middle;\n",
       "    }\n",
       "\n",
       "    .dataframe tbody tr th {\n",
       "        vertical-align: top;\n",
       "    }\n",
       "\n",
       "    .dataframe thead th {\n",
       "        text-align: right;\n",
       "    }\n",
       "</style>\n",
       "<table border=\"1\" class=\"dataframe\">\n",
       "  <thead>\n",
       "    <tr style=\"text-align: right;\">\n",
       "      <th></th>\n",
       "      <th>num_characters</th>\n",
       "      <th>num_words</th>\n",
       "      <th>num_sentences</th>\n",
       "    </tr>\n",
       "  </thead>\n",
       "  <tbody>\n",
       "    <tr>\n",
       "      <th>count</th>\n",
       "      <td>5169.000000</td>\n",
       "      <td>5169.000000</td>\n",
       "      <td>5169.000000</td>\n",
       "    </tr>\n",
       "    <tr>\n",
       "      <th>mean</th>\n",
       "      <td>78.977945</td>\n",
       "      <td>18.455794</td>\n",
       "      <td>1.965564</td>\n",
       "    </tr>\n",
       "    <tr>\n",
       "      <th>std</th>\n",
       "      <td>58.236293</td>\n",
       "      <td>13.324758</td>\n",
       "      <td>1.448541</td>\n",
       "    </tr>\n",
       "    <tr>\n",
       "      <th>min</th>\n",
       "      <td>2.000000</td>\n",
       "      <td>1.000000</td>\n",
       "      <td>1.000000</td>\n",
       "    </tr>\n",
       "    <tr>\n",
       "      <th>25%</th>\n",
       "      <td>36.000000</td>\n",
       "      <td>9.000000</td>\n",
       "      <td>1.000000</td>\n",
       "    </tr>\n",
       "    <tr>\n",
       "      <th>50%</th>\n",
       "      <td>60.000000</td>\n",
       "      <td>15.000000</td>\n",
       "      <td>1.000000</td>\n",
       "    </tr>\n",
       "    <tr>\n",
       "      <th>75%</th>\n",
       "      <td>117.000000</td>\n",
       "      <td>26.000000</td>\n",
       "      <td>2.000000</td>\n",
       "    </tr>\n",
       "    <tr>\n",
       "      <th>max</th>\n",
       "      <td>910.000000</td>\n",
       "      <td>220.000000</td>\n",
       "      <td>38.000000</td>\n",
       "    </tr>\n",
       "  </tbody>\n",
       "</table>\n",
       "</div>"
      ],
      "text/plain": [
       "       num_characters    num_words  num_sentences\n",
       "count     5169.000000  5169.000000    5169.000000\n",
       "mean        78.977945    18.455794       1.965564\n",
       "std         58.236293    13.324758       1.448541\n",
       "min          2.000000     1.000000       1.000000\n",
       "25%         36.000000     9.000000       1.000000\n",
       "50%         60.000000    15.000000       1.000000\n",
       "75%        117.000000    26.000000       2.000000\n",
       "max        910.000000   220.000000      38.000000"
      ]
     },
     "execution_count": 31,
     "metadata": {},
     "output_type": "execute_result"
    }
   ],
   "source": [
    "df[['num_characters','num_words','num_sentences']].describe()"
   ]
  },
  {
   "cell_type": "code",
   "execution_count": 32,
   "id": "2b03c3f2",
   "metadata": {
    "execution": {
     "iopub.execute_input": "2025-06-19T14:43:51.574836Z",
     "iopub.status.busy": "2025-06-19T14:43:51.574278Z",
     "iopub.status.idle": "2025-06-19T14:43:51.591427Z",
     "shell.execute_reply": "2025-06-19T14:43:51.590491Z"
    },
    "papermill": {
     "duration": 0.035577,
     "end_time": "2025-06-19T14:43:51.592881",
     "exception": false,
     "start_time": "2025-06-19T14:43:51.557304",
     "status": "completed"
    },
    "tags": []
   },
   "outputs": [
    {
     "data": {
      "text/html": [
       "<div>\n",
       "<style scoped>\n",
       "    .dataframe tbody tr th:only-of-type {\n",
       "        vertical-align: middle;\n",
       "    }\n",
       "\n",
       "    .dataframe tbody tr th {\n",
       "        vertical-align: top;\n",
       "    }\n",
       "\n",
       "    .dataframe thead th {\n",
       "        text-align: right;\n",
       "    }\n",
       "</style>\n",
       "<table border=\"1\" class=\"dataframe\">\n",
       "  <thead>\n",
       "    <tr style=\"text-align: right;\">\n",
       "      <th></th>\n",
       "      <th>num_characters</th>\n",
       "      <th>num_words</th>\n",
       "      <th>num_sentences</th>\n",
       "    </tr>\n",
       "  </thead>\n",
       "  <tbody>\n",
       "    <tr>\n",
       "      <th>count</th>\n",
       "      <td>4516.000000</td>\n",
       "      <td>4516.000000</td>\n",
       "      <td>4516.000000</td>\n",
       "    </tr>\n",
       "    <tr>\n",
       "      <th>mean</th>\n",
       "      <td>70.459256</td>\n",
       "      <td>17.123782</td>\n",
       "      <td>1.820195</td>\n",
       "    </tr>\n",
       "    <tr>\n",
       "      <th>std</th>\n",
       "      <td>56.358207</td>\n",
       "      <td>13.493970</td>\n",
       "      <td>1.383657</td>\n",
       "    </tr>\n",
       "    <tr>\n",
       "      <th>min</th>\n",
       "      <td>2.000000</td>\n",
       "      <td>1.000000</td>\n",
       "      <td>1.000000</td>\n",
       "    </tr>\n",
       "    <tr>\n",
       "      <th>25%</th>\n",
       "      <td>34.000000</td>\n",
       "      <td>8.000000</td>\n",
       "      <td>1.000000</td>\n",
       "    </tr>\n",
       "    <tr>\n",
       "      <th>50%</th>\n",
       "      <td>52.000000</td>\n",
       "      <td>13.000000</td>\n",
       "      <td>1.000000</td>\n",
       "    </tr>\n",
       "    <tr>\n",
       "      <th>75%</th>\n",
       "      <td>90.000000</td>\n",
       "      <td>22.000000</td>\n",
       "      <td>2.000000</td>\n",
       "    </tr>\n",
       "    <tr>\n",
       "      <th>max</th>\n",
       "      <td>910.000000</td>\n",
       "      <td>220.000000</td>\n",
       "      <td>38.000000</td>\n",
       "    </tr>\n",
       "  </tbody>\n",
       "</table>\n",
       "</div>"
      ],
      "text/plain": [
       "       num_characters    num_words  num_sentences\n",
       "count     4516.000000  4516.000000    4516.000000\n",
       "mean        70.459256    17.123782       1.820195\n",
       "std         56.358207    13.493970       1.383657\n",
       "min          2.000000     1.000000       1.000000\n",
       "25%         34.000000     8.000000       1.000000\n",
       "50%         52.000000    13.000000       1.000000\n",
       "75%         90.000000    22.000000       2.000000\n",
       "max        910.000000   220.000000      38.000000"
      ]
     },
     "execution_count": 32,
     "metadata": {},
     "output_type": "execute_result"
    }
   ],
   "source": [
    "# ham\n",
    "df[df['target'] == 0][['num_characters','num_words','num_sentences']].describe()"
   ]
  },
  {
   "cell_type": "code",
   "execution_count": 33,
   "id": "2c8223cc",
   "metadata": {
    "execution": {
     "iopub.execute_input": "2025-06-19T14:43:51.626732Z",
     "iopub.status.busy": "2025-06-19T14:43:51.626375Z",
     "iopub.status.idle": "2025-06-19T14:43:51.642557Z",
     "shell.execute_reply": "2025-06-19T14:43:51.641703Z"
    },
    "papermill": {
     "duration": 0.034723,
     "end_time": "2025-06-19T14:43:51.643941",
     "exception": false,
     "start_time": "2025-06-19T14:43:51.609218",
     "status": "completed"
    },
    "tags": []
   },
   "outputs": [
    {
     "data": {
      "text/html": [
       "<div>\n",
       "<style scoped>\n",
       "    .dataframe tbody tr th:only-of-type {\n",
       "        vertical-align: middle;\n",
       "    }\n",
       "\n",
       "    .dataframe tbody tr th {\n",
       "        vertical-align: top;\n",
       "    }\n",
       "\n",
       "    .dataframe thead th {\n",
       "        text-align: right;\n",
       "    }\n",
       "</style>\n",
       "<table border=\"1\" class=\"dataframe\">\n",
       "  <thead>\n",
       "    <tr style=\"text-align: right;\">\n",
       "      <th></th>\n",
       "      <th>num_characters</th>\n",
       "      <th>num_words</th>\n",
       "      <th>num_sentences</th>\n",
       "    </tr>\n",
       "  </thead>\n",
       "  <tbody>\n",
       "    <tr>\n",
       "      <th>count</th>\n",
       "      <td>653.000000</td>\n",
       "      <td>653.000000</td>\n",
       "      <td>653.000000</td>\n",
       "    </tr>\n",
       "    <tr>\n",
       "      <th>mean</th>\n",
       "      <td>137.891271</td>\n",
       "      <td>27.667688</td>\n",
       "      <td>2.970904</td>\n",
       "    </tr>\n",
       "    <tr>\n",
       "      <th>std</th>\n",
       "      <td>30.137753</td>\n",
       "      <td>7.008418</td>\n",
       "      <td>1.488425</td>\n",
       "    </tr>\n",
       "    <tr>\n",
       "      <th>min</th>\n",
       "      <td>13.000000</td>\n",
       "      <td>2.000000</td>\n",
       "      <td>1.000000</td>\n",
       "    </tr>\n",
       "    <tr>\n",
       "      <th>25%</th>\n",
       "      <td>132.000000</td>\n",
       "      <td>25.000000</td>\n",
       "      <td>2.000000</td>\n",
       "    </tr>\n",
       "    <tr>\n",
       "      <th>50%</th>\n",
       "      <td>149.000000</td>\n",
       "      <td>29.000000</td>\n",
       "      <td>3.000000</td>\n",
       "    </tr>\n",
       "    <tr>\n",
       "      <th>75%</th>\n",
       "      <td>157.000000</td>\n",
       "      <td>32.000000</td>\n",
       "      <td>4.000000</td>\n",
       "    </tr>\n",
       "    <tr>\n",
       "      <th>max</th>\n",
       "      <td>224.000000</td>\n",
       "      <td>46.000000</td>\n",
       "      <td>9.000000</td>\n",
       "    </tr>\n",
       "  </tbody>\n",
       "</table>\n",
       "</div>"
      ],
      "text/plain": [
       "       num_characters   num_words  num_sentences\n",
       "count      653.000000  653.000000     653.000000\n",
       "mean       137.891271   27.667688       2.970904\n",
       "std         30.137753    7.008418       1.488425\n",
       "min         13.000000    2.000000       1.000000\n",
       "25%        132.000000   25.000000       2.000000\n",
       "50%        149.000000   29.000000       3.000000\n",
       "75%        157.000000   32.000000       4.000000\n",
       "max        224.000000   46.000000       9.000000"
      ]
     },
     "execution_count": 33,
     "metadata": {},
     "output_type": "execute_result"
    }
   ],
   "source": [
    "#spam\n",
    "df[df['target'] == 1][['num_characters','num_words','num_sentences']].describe()"
   ]
  },
  {
   "cell_type": "code",
   "execution_count": 34,
   "id": "f6f7cec1",
   "metadata": {
    "execution": {
     "iopub.execute_input": "2025-06-19T14:43:51.678112Z",
     "iopub.status.busy": "2025-06-19T14:43:51.677795Z",
     "iopub.status.idle": "2025-06-19T14:43:52.167183Z",
     "shell.execute_reply": "2025-06-19T14:43:52.166269Z"
    },
    "papermill": {
     "duration": 0.508417,
     "end_time": "2025-06-19T14:43:52.168918",
     "exception": false,
     "start_time": "2025-06-19T14:43:51.660501",
     "status": "completed"
    },
    "tags": []
   },
   "outputs": [],
   "source": [
    "import seaborn as sns"
   ]
  },
  {
   "cell_type": "code",
   "execution_count": 35,
   "id": "714f9fb4",
   "metadata": {
    "execution": {
     "iopub.execute_input": "2025-06-19T14:43:52.202493Z",
     "iopub.status.busy": "2025-06-19T14:43:52.202071Z",
     "iopub.status.idle": "2025-06-19T14:43:52.617003Z",
     "shell.execute_reply": "2025-06-19T14:43:52.616078Z"
    },
    "papermill": {
     "duration": 0.433286,
     "end_time": "2025-06-19T14:43:52.618482",
     "exception": false,
     "start_time": "2025-06-19T14:43:52.185196",
     "status": "completed"
    },
    "tags": []
   },
   "outputs": [
    {
     "name": "stderr",
     "output_type": "stream",
     "text": [
      "/usr/local/lib/python3.11/dist-packages/seaborn/_oldcore.py:1119: FutureWarning: use_inf_as_na option is deprecated and will be removed in a future version. Convert inf values to NaN before operating instead.\n",
      "  with pd.option_context('mode.use_inf_as_na', True):\n",
      "/usr/local/lib/python3.11/dist-packages/seaborn/_oldcore.py:1119: FutureWarning: use_inf_as_na option is deprecated and will be removed in a future version. Convert inf values to NaN before operating instead.\n",
      "  with pd.option_context('mode.use_inf_as_na', True):\n"
     ]
    },
    {
     "data": {
      "text/plain": [
       "<Axes: xlabel='num_characters', ylabel='Count'>"
      ]
     },
     "execution_count": 35,
     "metadata": {},
     "output_type": "execute_result"
    },
    {
     "data": {
      "image/png": "[encoded data removed]",
      "text/plain": [
       "<Figure size 1200x600 with 1 Axes>"
      ]
     },
     "metadata": {},
     "output_type": "display_data"
    }
   ],
   "source": [
    "plt.figure(figsize=(12,6))\n",
    "sns.histplot(df[df['target'] == 0]['num_characters'])\n",
    "sns.histplot(df[df['target'] == 1]['num_characters'],color='red')"
   ]
  },
  {
   "cell_type": "code",
   "execution_count": 36,
   "id": "96b41e89",
   "metadata": {
    "execution": {
     "iopub.execute_input": "2025-06-19T14:43:52.653379Z",
     "iopub.status.busy": "2025-06-19T14:43:52.653055Z",
     "iopub.status.idle": "2025-06-19T14:43:53.185859Z",
     "shell.execute_reply": "2025-06-19T14:43:53.184980Z"
    },
    "papermill": {
     "duration": 0.551911,
     "end_time": "2025-06-19T14:43:53.187524",
     "exception": false,
     "start_time": "2025-06-19T14:43:52.635613",
     "status": "completed"
    },
    "tags": []
   },
   "outputs": [
    {
     "name": "stderr",
     "output_type": "stream",
     "text": [
      "/usr/local/lib/python3.11/dist-packages/seaborn/_oldcore.py:1119: FutureWarning: use_inf_as_na option is deprecated and will be removed in a future version. Convert inf values to NaN before operating instead.\n",
      "  with pd.option_context('mode.use_inf_as_na', True):\n",
      "/usr/local/lib/python3.11/dist-packages/seaborn/_oldcore.py:1119: FutureWarning: use_inf_as_na option is deprecated and will be removed in a future version. Convert inf values to NaN before operating instead.\n",
      "  with pd.option_context('mode.use_inf_as_na', True):\n"
     ]
    },
    {
     "data": {
      "text/plain": [
       "<Axes: xlabel='num_words', ylabel='Count'>"
      ]
     },
     "execution_count": 36,
     "metadata": {},
     "output_type": "execute_result"
    },
    {
     "data": {
      "image/png": "[encoded data removed]",
      "text/plain": [
       "<Figure size 1200x600 with 1 Axes>"
      ]
     },
     "metadata": {},
     "output_type": "display_data"
    }
   ],
   "source": [
    "plt.figure(figsize=(12,6))\n",
    "sns.histplot(df[df['target'] == 0]['num_words'])\n",
    "sns.histplot(df[df['target'] == 1]['num_words'],color='red')"
   ]
  },
  {
   "cell_type": "code",
   "execution_count": 37,
   "id": "c47d9878",
   "metadata": {
    "execution": {
     "iopub.execute_input": "2025-06-19T14:43:53.223612Z",
     "iopub.status.busy": "2025-06-19T14:43:53.223302Z",
     "iopub.status.idle": "2025-06-19T14:43:58.266218Z",
     "shell.execute_reply": "2025-06-19T14:43:58.265320Z"
    },
    "papermill": {
     "duration": 5.064373,
     "end_time": "2025-06-19T14:43:58.269451",
     "exception": false,
     "start_time": "2025-06-19T14:43:53.205078",
     "status": "completed"
    },
    "tags": []
   },
   "outputs": [
    {
     "name": "stderr",
     "output_type": "stream",
     "text": [
      "/usr/local/lib/python3.11/dist-packages/seaborn/_oldcore.py:1119: FutureWarning: use_inf_as_na option is deprecated and will be removed in a future version. Convert inf values to NaN before operating instead.\n",
      "  with pd.option_context('mode.use_inf_as_na', True):\n",
      "/usr/local/lib/python3.11/dist-packages/seaborn/_oldcore.py:1075: FutureWarning: When grouping with a length-1 list-like, you will need to pass a length-1 tuple to get_group in a future version of pandas. Pass `(name,)` instead of `name` to silence this warning.\n",
      "  data_subset = grouped_data.get_group(pd_key)\n",
      "/usr/local/lib/python3.11/dist-packages/seaborn/_oldcore.py:1075: FutureWarning: When grouping with a length-1 list-like, you will need to pass a length-1 tuple to get_group in a future version of pandas. Pass `(name,)` instead of `name` to silence this warning.\n",
      "  data_subset = grouped_data.get_group(pd_key)\n",
      "/usr/local/lib/python3.11/dist-packages/seaborn/_oldcore.py:1119: FutureWarning: use_inf_as_na option is deprecated and will be removed in a future version. Convert inf values to NaN before operating instead.\n",
      "  with pd.option_context('mode.use_inf_as_na', True):\n",
      "/usr/local/lib/python3.11/dist-packages/seaborn/_oldcore.py:1075: FutureWarning: When grouping with a length-1 list-like, you will need to pass a length-1 tuple to get_group in a future version of pandas. Pass `(name,)` instead of `name` to silence this warning.\n",
      "  data_subset = grouped_data.get_group(pd_key)\n",
      "/usr/local/lib/python3.11/dist-packages/seaborn/_oldcore.py:1075: FutureWarning: When grouping with a length-1 list-like, you will need to pass a length-1 tuple to get_group in a future version of pandas. Pass `(name,)` instead of `name` to silence this warning.\n",
      "  data_subset = grouped_data.get_group(pd_key)\n",
      "/usr/local/lib/python3.11/dist-packages/seaborn/_oldcore.py:1119: FutureWarning: use_inf_as_na option is deprecated and will be removed in a future version. Convert inf values to NaN before operating instead.\n",
      "  with pd.option_context('mode.use_inf_as_na', True):\n",
      "/usr/local/lib/python3.11/dist-packages/seaborn/_oldcore.py:1075: FutureWarning: When grouping with a length-1 list-like, you will need to pass a length-1 tuple to get_group in a future version of pandas. Pass `(name,)` instead of `name` to silence this warning.\n",
      "  data_subset = grouped_data.get_group(pd_key)\n",
      "/usr/local/lib/python3.11/dist-packages/seaborn/_oldcore.py:1075: FutureWarning: When grouping with a length-1 list-like, you will need to pass a length-1 tuple to get_group in a future version of pandas. Pass `(name,)` instead of `name` to silence this warning.\n",
      "  data_subset = grouped_data.get_group(pd_key)\n",
      "/usr/local/lib/python3.11/dist-packages/seaborn/axisgrid.py:118: UserWarning: The figure layout has changed to tight\n",
      "  self._figure.tight_layout(*args, **kwargs)\n"
     ]
    },
    {
     "data": {
      "text/plain": [
       "<seaborn.axisgrid.PairGrid at 0x7b0bc46f4f90>"
      ]
     },
     "execution_count": 37,
     "metadata": {},
     "output_type": "execute_result"
    },
    {
     "data": {
      "image/png": "[encoded data removed]",
      "text/plain": [
       "<Figure size 808.875x750 with 12 Axes>"
      ]
     },
     "metadata": {},
     "output_type": "display_data"
    }
   ],
   "source": [
    "sns.pairplot(df,hue='target')"
   ]
  },
  {
   "cell_type": "code",
   "execution_count": 38,
   "id": "7b0d5f2e",
   "metadata": {
    "execution": {
     "iopub.execute_input": "2025-06-19T14:43:58.311101Z",
     "iopub.status.busy": "2025-06-19T14:43:58.310810Z",
     "iopub.status.idle": "2025-06-19T14:43:58.315286Z",
     "shell.execute_reply": "2025-06-19T14:43:58.314343Z"
    },
    "papermill": {
     "duration": 0.026573,
     "end_time": "2025-06-19T14:43:58.316759",
     "exception": false,
     "start_time": "2025-06-19T14:43:58.290186",
     "status": "completed"
    },
    "tags": []
   },
   "outputs": [],
   "source": [
    "# sns.heatmap(df.corr(),annot=True)"
   ]
  },
  {
   "cell_type": "markdown",
   "id": "1f2ab75a",
   "metadata": {
    "papermill": {
     "duration": 0.019414,
     "end_time": "2025-06-19T14:43:58.356551",
     "exception": false,
     "start_time": "2025-06-19T14:43:58.337137",
     "status": "completed"
    },
    "tags": []
   },
   "source": [
    "## 3. Data Preprocessing\n",
    "- Lower case\n",
    "- Tokenization\n",
    "- Removing special characters\n",
    "- Removing stop words and punctuation\n",
    "- Stemming"
   ]
  },
  {
   "cell_type": "code",
   "execution_count": 39,
   "id": "1a64fbc4",
   "metadata": {
    "execution": {
     "iopub.execute_input": "2025-06-19T14:43:58.397327Z",
     "iopub.status.busy": "2025-06-19T14:43:58.396988Z",
     "iopub.status.idle": "2025-06-19T14:43:58.402868Z",
     "shell.execute_reply": "2025-06-19T14:43:58.402008Z"
    },
    "papermill": {
     "duration": 0.028061,
     "end_time": "2025-06-19T14:43:58.404403",
     "exception": false,
     "start_time": "2025-06-19T14:43:58.376342",
     "status": "completed"
    },
    "tags": []
   },
   "outputs": [],
   "source": [
    "def transform_text(text):\n",
    "    text = text.lower()\n",
    "    text = nltk.word_tokenize(text)\n",
    "    \n",
    "    y = []\n",
    "    for i in text:\n",
    "        if i.isalnum():\n",
    "            y.append(i)\n",
    "    \n",
    "    text = y[:]\n",
    "    y.clear()\n",
    "    \n",
    "    for i in text:\n",
    "        if i not in stopwords.words('english') and i not in string.punctuation:\n",
    "            y.append(i)\n",
    "            \n",
    "    text = y[:]\n",
    "    y.clear()\n",
    "    \n",
    "    for i in text:\n",
    "        y.append(ps.stem(i))\n",
    "    \n",
    "            \n",
    "    return \" \".join(y)"
   ]
  },
  {
   "cell_type": "code",
   "execution_count": 40,
   "id": "b78eeb93",
   "metadata": {
    "execution": {
     "iopub.execute_input": "2025-06-19T14:43:58.446480Z",
     "iopub.status.busy": "2025-06-19T14:43:58.445419Z",
     "iopub.status.idle": "2025-06-19T14:43:58.449590Z",
     "shell.execute_reply": "2025-06-19T14:43:58.448976Z"
    },
    "papermill": {
     "duration": 0.02678,
     "end_time": "2025-06-19T14:43:58.451081",
     "exception": false,
     "start_time": "2025-06-19T14:43:58.424301",
     "status": "completed"
    },
    "tags": []
   },
   "outputs": [],
   "source": [
    "from nltk.corpus import stopwords\n",
    "import string\n"
   ]
  },
  {
   "cell_type": "code",
   "execution_count": 41,
   "id": "6fb6f158",
   "metadata": {
    "execution": {
     "iopub.execute_input": "2025-06-19T14:43:58.492041Z",
     "iopub.status.busy": "2025-06-19T14:43:58.491456Z",
     "iopub.status.idle": "2025-06-19T14:43:58.497254Z",
     "shell.execute_reply": "2025-06-19T14:43:58.496414Z"
    },
    "papermill": {
     "duration": 0.027456,
     "end_time": "2025-06-19T14:43:58.498534",
     "exception": false,
     "start_time": "2025-06-19T14:43:58.471078",
     "status": "completed"
    },
    "tags": []
   },
   "outputs": [
    {
     "data": {
      "text/plain": [
       "'love'"
      ]
     },
     "execution_count": 41,
     "metadata": {},
     "output_type": "execute_result"
    }
   ],
   "source": [
    "from nltk.stem.porter import PorterStemmer\n",
    "ps = PorterStemmer()\n",
    "ps.stem('loving')"
   ]
  },
  {
   "cell_type": "code",
   "execution_count": 42,
   "id": "0b544648",
   "metadata": {
    "execution": {
     "iopub.execute_input": "2025-06-19T14:43:58.540152Z",
     "iopub.status.busy": "2025-06-19T14:43:58.539332Z",
     "iopub.status.idle": "2025-06-19T14:43:58.552913Z",
     "shell.execute_reply": "2025-06-19T14:43:58.551928Z"
    },
    "papermill": {
     "duration": 0.036041,
     "end_time": "2025-06-19T14:43:58.554399",
     "exception": false,
     "start_time": "2025-06-19T14:43:58.518358",
     "status": "completed"
    },
    "tags": []
   },
   "outputs": [
    {
     "data": {
      "text/plain": [
       "'gon na home soon want talk stuff anymor tonight k cri enough today'"
      ]
     },
     "execution_count": 42,
     "metadata": {},
     "output_type": "execute_result"
    }
   ],
   "source": [
    "transform_text(\"I'm gonna be home soon and i don't want to talk about this stuff anymore tonight, k? I've cried enough today.\")"
   ]
  },
  {
   "cell_type": "code",
   "execution_count": 43,
   "id": "ce224bc2",
   "metadata": {
    "execution": {
     "iopub.execute_input": "2025-06-19T14:43:58.596246Z",
     "iopub.status.busy": "2025-06-19T14:43:58.595259Z",
     "iopub.status.idle": "2025-06-19T14:43:58.601298Z",
     "shell.execute_reply": "2025-06-19T14:43:58.600410Z"
    },
    "papermill": {
     "duration": 0.028027,
     "end_time": "2025-06-19T14:43:58.602585",
     "exception": false,
     "start_time": "2025-06-19T14:43:58.574558",
     "status": "completed"
    },
    "tags": []
   },
   "outputs": [
    {
     "data": {
      "text/plain": [
       "\"I'm gonna be home soon and i don't want to talk about this stuff anymore tonight, k? I've cried enough today.\""
      ]
     },
     "execution_count": 43,
     "metadata": {},
     "output_type": "execute_result"
    }
   ],
   "source": [
    "df['text'][10]"
   ]
  },
  {
   "cell_type": "code",
   "execution_count": 44,
   "id": "bf77d5d2",
   "metadata": {
    "execution": {
     "iopub.execute_input": "2025-06-19T14:43:58.643756Z",
     "iopub.status.busy": "2025-06-19T14:43:58.643414Z",
     "iopub.status.idle": "2025-06-19T14:44:07.627529Z",
     "shell.execute_reply": "2025-06-19T14:44:07.626550Z"
    },
    "papermill": {
     "duration": 9.006623,
     "end_time": "2025-06-19T14:44:07.629240",
     "exception": false,
     "start_time": "2025-06-19T14:43:58.622617",
     "status": "completed"
    },
    "tags": []
   },
   "outputs": [],
   "source": [
    "df['transformed_text'] = df['text'].apply(transform_text)"
   ]
  },
  {
   "cell_type": "code",
   "execution_count": 45,
   "id": "b96b714f",
   "metadata": {
    "execution": {
     "iopub.execute_input": "2025-06-19T14:44:07.671971Z",
     "iopub.status.busy": "2025-06-19T14:44:07.671192Z",
     "iopub.status.idle": "2025-06-19T14:44:07.680771Z",
     "shell.execute_reply": "2025-06-19T14:44:07.679824Z"
    },
    "papermill": {
     "duration": 0.032664,
     "end_time": "2025-06-19T14:44:07.682207",
     "exception": false,
     "start_time": "2025-06-19T14:44:07.649543",
     "status": "completed"
    },
    "tags": []
   },
   "outputs": [
    {
     "data": {
      "text/html": [
       "<div>\n",
       "<style scoped>\n",
       "    .dataframe tbody tr th:only-of-type {\n",
       "        vertical-align: middle;\n",
       "    }\n",
       "\n",
       "    .dataframe tbody tr th {\n",
       "        vertical-align: top;\n",
       "    }\n",
       "\n",
       "    .dataframe thead th {\n",
       "        text-align: right;\n",
       "    }\n",
       "</style>\n",
       "<table border=\"1\" class=\"dataframe\">\n",
       "  <thead>\n",
       "    <tr style=\"text-align: right;\">\n",
       "      <th></th>\n",
       "      <th>target</th>\n",
       "      <th>text</th>\n",
       "      <th>num_characters</th>\n",
       "      <th>num_words</th>\n",
       "      <th>num_sentences</th>\n",
       "      <th>transformed_text</th>\n",
       "    </tr>\n",
       "  </thead>\n",
       "  <tbody>\n",
       "    <tr>\n",
       "      <th>0</th>\n",
       "      <td>0</td>\n",
       "      <td>Go until jurong point, crazy.. Available only ...</td>\n",
       "      <td>111</td>\n",
       "      <td>24</td>\n",
       "      <td>2</td>\n",
       "      <td>go jurong point crazi avail bugi n great world...</td>\n",
       "    </tr>\n",
       "    <tr>\n",
       "      <th>1</th>\n",
       "      <td>0</td>\n",
       "      <td>Ok lar... Joking wif u oni...</td>\n",
       "      <td>29</td>\n",
       "      <td>8</td>\n",
       "      <td>2</td>\n",
       "      <td>ok lar joke wif u oni</td>\n",
       "    </tr>\n",
       "    <tr>\n",
       "      <th>2</th>\n",
       "      <td>1</td>\n",
       "      <td>Free entry in 2 a wkly comp to win FA Cup fina...</td>\n",
       "      <td>155</td>\n",
       "      <td>37</td>\n",
       "      <td>2</td>\n",
       "      <td>free entri 2 wkli comp win fa cup final tkt 21...</td>\n",
       "    </tr>\n",
       "    <tr>\n",
       "      <th>3</th>\n",
       "      <td>0</td>\n",
       "      <td>U dun say so early hor... U c already then say...</td>\n",
       "      <td>49</td>\n",
       "      <td>13</td>\n",
       "      <td>1</td>\n",
       "      <td>u dun say earli hor u c alreadi say</td>\n",
       "    </tr>\n",
       "    <tr>\n",
       "      <th>4</th>\n",
       "      <td>0</td>\n",
       "      <td>Nah I don't think he goes to usf, he lives aro...</td>\n",
       "      <td>61</td>\n",
       "      <td>15</td>\n",
       "      <td>1</td>\n",
       "      <td>nah think goe usf live around though</td>\n",
       "    </tr>\n",
       "  </tbody>\n",
       "</table>\n",
       "</div>"
      ],
      "text/plain": [
       "   target                                               text  num_characters  \\\n",
       "0       0  Go until jurong point, crazy.. Available only ...             111   \n",
       "1       0                      Ok lar... Joking wif u oni...              29   \n",
       "2       1  Free entry in 2 a wkly comp to win FA Cup fina...             155   \n",
       "3       0  U dun say so early hor... U c already then say...              49   \n",
       "4       0  Nah I don't think he goes to usf, he lives aro...              61   \n",
       "\n",
       "   num_words  num_sentences                                   transformed_text  \n",
       "0         24              2  go jurong point crazi avail bugi n great world...  \n",
       "1          8              2                              ok lar joke wif u oni  \n",
       "2         37              2  free entri 2 wkli comp win fa cup final tkt 21...  \n",
       "3         13              1                u dun say earli hor u c alreadi say  \n",
       "4         15              1               nah think goe usf live around though  "
      ]
     },
     "execution_count": 45,
     "metadata": {},
     "output_type": "execute_result"
    }
   ],
   "source": [
    "df.head()"
   ]
  },
  {
   "cell_type": "code",
   "execution_count": 46,
   "id": "f5c7feeb",
   "metadata": {
    "execution": {
     "iopub.execute_input": "2025-06-19T14:44:07.724417Z",
     "iopub.status.busy": "2025-06-19T14:44:07.723538Z",
     "iopub.status.idle": "2025-06-19T14:44:07.806596Z",
     "shell.execute_reply": "2025-06-19T14:44:07.805701Z"
    },
    "papermill": {
     "duration": 0.105885,
     "end_time": "2025-06-19T14:44:07.808311",
     "exception": false,
     "start_time": "2025-06-19T14:44:07.702426",
     "status": "completed"
    },
    "tags": []
   },
   "outputs": [],
   "source": [
    "from wordcloud import WordCloud\n",
    "wc = WordCloud(width=500,height=500,min_font_size=10,background_color='white')"
   ]
  },
  {
   "cell_type": "code",
   "execution_count": 47,
   "id": "e60c66d3",
   "metadata": {
    "execution": {
     "iopub.execute_input": "2025-06-19T14:44:07.850328Z",
     "iopub.status.busy": "2025-06-19T14:44:07.849770Z",
     "iopub.status.idle": "2025-06-19T14:44:08.283900Z",
     "shell.execute_reply": "2025-06-19T14:44:08.282538Z"
    },
    "papermill": {
     "duration": 0.456957,
     "end_time": "2025-06-19T14:44:08.285754",
     "exception": false,
     "start_time": "2025-06-19T14:44:07.828797",
     "status": "completed"
    },
    "tags": []
   },
   "outputs": [],
   "source": [
    "spam_wc = wc.generate(df[df['target'] == 1]['transformed_text'].str.cat(sep=\" \"))"
   ]
  },
  {
   "cell_type": "code",
   "execution_count": 48,
   "id": "5193bd84",
   "metadata": {
    "execution": {
     "iopub.execute_input": "2025-06-19T14:44:08.327712Z",
     "iopub.status.busy": "2025-06-19T14:44:08.327069Z",
     "iopub.status.idle": "2025-06-19T14:44:08.623051Z",
     "shell.execute_reply": "2025-06-19T14:44:08.622096Z"
    },
    "papermill": {
     "duration": 0.320542,
     "end_time": "2025-06-19T14:44:08.626563",
     "exception": false,
     "start_time": "2025-06-19T14:44:08.306021",
     "status": "completed"
    },
    "tags": []
   },
   "outputs": [
    {
     "data": {
      "text/plain": [
       "<matplotlib.image.AxesImage at 0x7b0bc00d8890>"
      ]
     },
     "execution_count": 48,
     "metadata": {},
     "output_type": "execute_result"
    },
    {
     "data": {
      "image/png": "[encoded data removed]",
      "text/plain": [
       "<Figure size 1500x600 with 1 Axes>"
      ]
     },
     "metadata": {},
     "output_type": "display_data"
    }
   ],
   "source": [
    "plt.figure(figsize=(15,6))\n",
    "plt.imshow(spam_wc)"
   ]
  },
  {
   "cell_type": "code",
   "execution_count": 49,
   "id": "0c150785",
   "metadata": {
    "execution": {
     "iopub.execute_input": "2025-06-19T14:44:08.674693Z",
     "iopub.status.busy": "2025-06-19T14:44:08.674350Z",
     "iopub.status.idle": "2025-06-19T14:44:09.467238Z",
     "shell.execute_reply": "2025-06-19T14:44:09.466473Z"
    },
    "papermill": {
     "duration": 0.818478,
     "end_time": "2025-06-19T14:44:09.468746",
     "exception": false,
     "start_time": "2025-06-19T14:44:08.650268",
     "status": "completed"
    },
    "tags": []
   },
   "outputs": [],
   "source": [
    "ham_wc = wc.generate(df[df['target'] == 0]['transformed_text'].str.cat(sep=\" \"))"
   ]
  },
  {
   "cell_type": "code",
   "execution_count": 50,
   "id": "1f3e3051",
   "metadata": {
    "execution": {
     "iopub.execute_input": "2025-06-19T14:44:09.517702Z",
     "iopub.status.busy": "2025-06-19T14:44:09.517359Z",
     "iopub.status.idle": "2025-06-19T14:44:09.861566Z",
     "shell.execute_reply": "2025-06-19T14:44:09.860656Z"
    },
    "papermill": {
     "duration": 0.375373,
     "end_time": "2025-06-19T14:44:09.867875",
     "exception": false,
     "start_time": "2025-06-19T14:44:09.492502",
     "status": "completed"
    },
    "tags": []
   },
   "outputs": [
    {
     "data": {
      "text/plain": [
       "<matplotlib.image.AxesImage at 0x7b0bc00fd010>"
      ]
     },
     "execution_count": 50,
     "metadata": {},
     "output_type": "execute_result"
    },
    {
     "data": {
      "image/png": "[encoded data removed]",
      "text/plain": [
       "<Figure size 1500x600 with 1 Axes>"
      ]
     },
     "metadata": {},
     "output_type": "display_data"
    }
   ],
   "source": [
    "plt.figure(figsize=(15,6))\n",
    "plt.imshow(ham_wc)"
   ]
  },
  {
   "cell_type": "code",
   "execution_count": 51,
   "id": "22b14dc0",
   "metadata": {
    "execution": {
     "iopub.execute_input": "2025-06-19T14:44:09.927052Z",
     "iopub.status.busy": "2025-06-19T14:44:09.926734Z",
     "iopub.status.idle": "2025-06-19T14:44:09.936156Z",
     "shell.execute_reply": "2025-06-19T14:44:09.935352Z"
    },
    "papermill": {
     "duration": 0.039899,
     "end_time": "2025-06-19T14:44:09.937512",
     "exception": false,
     "start_time": "2025-06-19T14:44:09.897613",
     "status": "completed"
    },
    "tags": []
   },
   "outputs": [
    {
     "data": {
      "text/html": [
       "<div>\n",
       "<style scoped>\n",
       "    .dataframe tbody tr th:only-of-type {\n",
       "        vertical-align: middle;\n",
       "    }\n",
       "\n",
       "    .dataframe tbody tr th {\n",
       "        vertical-align: top;\n",
       "    }\n",
       "\n",
       "    .dataframe thead th {\n",
       "        text-align: right;\n",
       "    }\n",
       "</style>\n",
       "<table border=\"1\" class=\"dataframe\">\n",
       "  <thead>\n",
       "    <tr style=\"text-align: right;\">\n",
       "      <th></th>\n",
       "      <th>target</th>\n",
       "      <th>text</th>\n",
       "      <th>num_characters</th>\n",
       "      <th>num_words</th>\n",
       "      <th>num_sentences</th>\n",
       "      <th>transformed_text</th>\n",
       "    </tr>\n",
       "  </thead>\n",
       "  <tbody>\n",
       "    <tr>\n",
       "      <th>0</th>\n",
       "      <td>0</td>\n",
       "      <td>Go until jurong point, crazy.. Available only ...</td>\n",
       "      <td>111</td>\n",
       "      <td>24</td>\n",
       "      <td>2</td>\n",
       "      <td>go jurong point crazi avail bugi n great world...</td>\n",
       "    </tr>\n",
       "    <tr>\n",
       "      <th>1</th>\n",
       "      <td>0</td>\n",
       "      <td>Ok lar... Joking wif u oni...</td>\n",
       "      <td>29</td>\n",
       "      <td>8</td>\n",
       "      <td>2</td>\n",
       "      <td>ok lar joke wif u oni</td>\n",
       "    </tr>\n",
       "    <tr>\n",
       "      <th>2</th>\n",
       "      <td>1</td>\n",
       "      <td>Free entry in 2 a wkly comp to win FA Cup fina...</td>\n",
       "      <td>155</td>\n",
       "      <td>37</td>\n",
       "      <td>2</td>\n",
       "      <td>free entri 2 wkli comp win fa cup final tkt 21...</td>\n",
       "    </tr>\n",
       "    <tr>\n",
       "      <th>3</th>\n",
       "      <td>0</td>\n",
       "      <td>U dun say so early hor... U c already then say...</td>\n",
       "      <td>49</td>\n",
       "      <td>13</td>\n",
       "      <td>1</td>\n",
       "      <td>u dun say earli hor u c alreadi say</td>\n",
       "    </tr>\n",
       "    <tr>\n",
       "      <th>4</th>\n",
       "      <td>0</td>\n",
       "      <td>Nah I don't think he goes to usf, he lives aro...</td>\n",
       "      <td>61</td>\n",
       "      <td>15</td>\n",
       "      <td>1</td>\n",
       "      <td>nah think goe usf live around though</td>\n",
       "    </tr>\n",
       "  </tbody>\n",
       "</table>\n",
       "</div>"
      ],
      "text/plain": [
       "   target                                               text  num_characters  \\\n",
       "0       0  Go until jurong point, crazy.. Available only ...             111   \n",
       "1       0                      Ok lar... Joking wif u oni...              29   \n",
       "2       1  Free entry in 2 a wkly comp to win FA Cup fina...             155   \n",
       "3       0  U dun say so early hor... U c already then say...              49   \n",
       "4       0  Nah I don't think he goes to usf, he lives aro...              61   \n",
       "\n",
       "   num_words  num_sentences                                   transformed_text  \n",
       "0         24              2  go jurong point crazi avail bugi n great world...  \n",
       "1          8              2                              ok lar joke wif u oni  \n",
       "2         37              2  free entri 2 wkli comp win fa cup final tkt 21...  \n",
       "3         13              1                u dun say earli hor u c alreadi say  \n",
       "4         15              1               nah think goe usf live around though  "
      ]
     },
     "execution_count": 51,
     "metadata": {},
     "output_type": "execute_result"
    }
   ],
   "source": [
    "df.head()"
   ]
  },
  {
   "cell_type": "code",
   "execution_count": 52,
   "id": "8d757f21",
   "metadata": {
    "execution": {
     "iopub.execute_input": "2025-06-19T14:44:09.997406Z",
     "iopub.status.busy": "2025-06-19T14:44:09.997081Z",
     "iopub.status.idle": "2025-06-19T14:44:10.005520Z",
     "shell.execute_reply": "2025-06-19T14:44:10.004390Z"
    },
    "papermill": {
     "duration": 0.039266,
     "end_time": "2025-06-19T14:44:10.007143",
     "exception": false,
     "start_time": "2025-06-19T14:44:09.967877",
     "status": "completed"
    },
    "tags": []
   },
   "outputs": [],
   "source": [
    "spam_corpus = []\n",
    "for msg in df[df['target'] == 1]['transformed_text'].tolist():\n",
    "    for word in msg.split():\n",
    "        spam_corpus.append(word)\n",
    "        "
   ]
  },
  {
   "cell_type": "code",
   "execution_count": 53,
   "id": "195c76e2",
   "metadata": {
    "execution": {
     "iopub.execute_input": "2025-06-19T14:44:10.064608Z",
     "iopub.status.busy": "2025-06-19T14:44:10.064299Z",
     "iopub.status.idle": "2025-06-19T14:44:10.069464Z",
     "shell.execute_reply": "2025-06-19T14:44:10.068779Z"
    },
    "papermill": {
     "duration": 0.035543,
     "end_time": "2025-06-19T14:44:10.070908",
     "exception": false,
     "start_time": "2025-06-19T14:44:10.035365",
     "status": "completed"
    },
    "tags": []
   },
   "outputs": [
    {
     "data": {
      "text/plain": [
       "9939"
      ]
     },
     "execution_count": 53,
     "metadata": {},
     "output_type": "execute_result"
    }
   ],
   "source": [
    "len(spam_corpus)"
   ]
  },
  {
   "cell_type": "code",
   "execution_count": 54,
   "id": "57132404",
   "metadata": {
    "execution": {
     "iopub.execute_input": "2025-06-19T14:44:10.129316Z",
     "iopub.status.busy": "2025-06-19T14:44:10.129009Z",
     "iopub.status.idle": "2025-06-19T14:44:10.133038Z",
     "shell.execute_reply": "2025-06-19T14:44:10.132166Z"
    },
    "papermill": {
     "duration": 0.03505,
     "end_time": "2025-06-19T14:44:10.134444",
     "exception": false,
     "start_time": "2025-06-19T14:44:10.099394",
     "status": "completed"
    },
    "tags": []
   },
   "outputs": [],
   "source": [
    "# from collections import Counter\n",
    "# sns.barplot(pd.DataFrame(Counter(spam_corpus).most_common(30))[0],pd.DataFrame(Counter(spam_corpus).most_common(30))[1])\n",
    "# plt.xticks(rotation='vertical')\n",
    "# plt.show()"
   ]
  },
  {
   "cell_type": "code",
   "execution_count": 55,
   "id": "caff085d",
   "metadata": {
    "execution": {
     "iopub.execute_input": "2025-06-19T14:44:10.192911Z",
     "iopub.status.busy": "2025-06-19T14:44:10.192555Z",
     "iopub.status.idle": "2025-06-19T14:44:10.196305Z",
     "shell.execute_reply": "2025-06-19T14:44:10.195462Z"
    },
    "papermill": {
     "duration": 0.03441,
     "end_time": "2025-06-19T14:44:10.197715",
     "exception": false,
     "start_time": "2025-06-19T14:44:10.163305",
     "status": "completed"
    },
    "tags": []
   },
   "outputs": [],
   "source": [
    "# ham_corpus = []\n",
    "# for msg in df[df['target'] == 0]['transformed_text'].tolist():\n",
    "#     for word in msg.split():\n",
    "#         ham_corpus.append(word)"
   ]
  },
  {
   "cell_type": "code",
   "execution_count": 56,
   "id": "97446673",
   "metadata": {
    "execution": {
     "iopub.execute_input": "2025-06-19T14:44:10.255414Z",
     "iopub.status.busy": "2025-06-19T14:44:10.255092Z",
     "iopub.status.idle": "2025-06-19T14:44:10.258647Z",
     "shell.execute_reply": "2025-06-19T14:44:10.257948Z"
    },
    "papermill": {
     "duration": 0.033973,
     "end_time": "2025-06-19T14:44:10.260059",
     "exception": false,
     "start_time": "2025-06-19T14:44:10.226086",
     "status": "completed"
    },
    "tags": []
   },
   "outputs": [],
   "source": [
    "# len(ham_corpus)"
   ]
  },
  {
   "cell_type": "code",
   "execution_count": 57,
   "id": "c3e0e409",
   "metadata": {
    "execution": {
     "iopub.execute_input": "2025-06-19T14:44:10.318092Z",
     "iopub.status.busy": "2025-06-19T14:44:10.317055Z",
     "iopub.status.idle": "2025-06-19T14:44:10.321271Z",
     "shell.execute_reply": "2025-06-19T14:44:10.320466Z"
    },
    "papermill": {
     "duration": 0.034643,
     "end_time": "2025-06-19T14:44:10.322684",
     "exception": false,
     "start_time": "2025-06-19T14:44:10.288041",
     "status": "completed"
    },
    "tags": []
   },
   "outputs": [],
   "source": [
    "# from collections import Counter\n",
    "# sns.barplot(pd.DataFrame(Counter(ham_corpus).most_common(30))[0],pd.DataFrame(Counter(ham_corpus).most_common(30))[1])\n",
    "# plt.xticks(rotation='vertical')\n",
    "# plt.show()"
   ]
  },
  {
   "cell_type": "code",
   "execution_count": 58,
   "id": "4cf596f0",
   "metadata": {
    "execution": {
     "iopub.execute_input": "2025-06-19T14:44:10.380866Z",
     "iopub.status.busy": "2025-06-19T14:44:10.379948Z",
     "iopub.status.idle": "2025-06-19T14:44:10.389703Z",
     "shell.execute_reply": "2025-06-19T14:44:10.388830Z"
    },
    "papermill": {
     "duration": 0.040186,
     "end_time": "2025-06-19T14:44:10.390952",
     "exception": false,
     "start_time": "2025-06-19T14:44:10.350766",
     "status": "completed"
    },
    "tags": []
   },
   "outputs": [
    {
     "data": {
      "text/html": [
       "<div>\n",
       "<style scoped>\n",
       "    .dataframe tbody tr th:only-of-type {\n",
       "        vertical-align: middle;\n",
       "    }\n",
       "\n",
       "    .dataframe tbody tr th {\n",
       "        vertical-align: top;\n",
       "    }\n",
       "\n",
       "    .dataframe thead th {\n",
       "        text-align: right;\n",
       "    }\n",
       "</style>\n",
       "<table border=\"1\" class=\"dataframe\">\n",
       "  <thead>\n",
       "    <tr style=\"text-align: right;\">\n",
       "      <th></th>\n",
       "      <th>target</th>\n",
       "      <th>text</th>\n",
       "      <th>num_characters</th>\n",
       "      <th>num_words</th>\n",
       "      <th>num_sentences</th>\n",
       "      <th>transformed_text</th>\n",
       "    </tr>\n",
       "  </thead>\n",
       "  <tbody>\n",
       "    <tr>\n",
       "      <th>0</th>\n",
       "      <td>0</td>\n",
       "      <td>Go until jurong point, crazy.. Available only ...</td>\n",
       "      <td>111</td>\n",
       "      <td>24</td>\n",
       "      <td>2</td>\n",
       "      <td>go jurong point crazi avail bugi n great world...</td>\n",
       "    </tr>\n",
       "    <tr>\n",
       "      <th>1</th>\n",
       "      <td>0</td>\n",
       "      <td>Ok lar... Joking wif u oni...</td>\n",
       "      <td>29</td>\n",
       "      <td>8</td>\n",
       "      <td>2</td>\n",
       "      <td>ok lar joke wif u oni</td>\n",
       "    </tr>\n",
       "    <tr>\n",
       "      <th>2</th>\n",
       "      <td>1</td>\n",
       "      <td>Free entry in 2 a wkly comp to win FA Cup fina...</td>\n",
       "      <td>155</td>\n",
       "      <td>37</td>\n",
       "      <td>2</td>\n",
       "      <td>free entri 2 wkli comp win fa cup final tkt 21...</td>\n",
       "    </tr>\n",
       "    <tr>\n",
       "      <th>3</th>\n",
       "      <td>0</td>\n",
       "      <td>U dun say so early hor... U c already then say...</td>\n",
       "      <td>49</td>\n",
       "      <td>13</td>\n",
       "      <td>1</td>\n",
       "      <td>u dun say earli hor u c alreadi say</td>\n",
       "    </tr>\n",
       "    <tr>\n",
       "      <th>4</th>\n",
       "      <td>0</td>\n",
       "      <td>Nah I don't think he goes to usf, he lives aro...</td>\n",
       "      <td>61</td>\n",
       "      <td>15</td>\n",
       "      <td>1</td>\n",
       "      <td>nah think goe usf live around though</td>\n",
       "    </tr>\n",
       "  </tbody>\n",
       "</table>\n",
       "</div>"
      ],
      "text/plain": [
       "   target                                               text  num_characters  \\\n",
       "0       0  Go until jurong point, crazy.. Available only ...             111   \n",
       "1       0                      Ok lar... Joking wif u oni...              29   \n",
       "2       1  Free entry in 2 a wkly comp to win FA Cup fina...             155   \n",
       "3       0  U dun say so early hor... U c already then say...              49   \n",
       "4       0  Nah I don't think he goes to usf, he lives aro...              61   \n",
       "\n",
       "   num_words  num_sentences                                   transformed_text  \n",
       "0         24              2  go jurong point crazi avail bugi n great world...  \n",
       "1          8              2                              ok lar joke wif u oni  \n",
       "2         37              2  free entri 2 wkli comp win fa cup final tkt 21...  \n",
       "3         13              1                u dun say earli hor u c alreadi say  \n",
       "4         15              1               nah think goe usf live around though  "
      ]
     },
     "execution_count": 58,
     "metadata": {},
     "output_type": "execute_result"
    }
   ],
   "source": [
    "# Text Vectorization\n",
    "# using Bag of Words\n",
    "df.head()"
   ]
  },
  {
   "cell_type": "markdown",
   "id": "2633d24b",
   "metadata": {
    "papermill": {
     "duration": 0.028338,
     "end_time": "2025-06-19T14:44:10.447906",
     "exception": false,
     "start_time": "2025-06-19T14:44:10.419568",
     "status": "completed"
    },
    "tags": []
   },
   "source": [
    "## 4. Model Building"
   ]
  },
  {
   "cell_type": "code",
   "execution_count": 59,
   "id": "a2d14e98",
   "metadata": {
    "execution": {
     "iopub.execute_input": "2025-06-19T14:44:10.506609Z",
     "iopub.status.busy": "2025-06-19T14:44:10.505816Z",
     "iopub.status.idle": "2025-06-19T14:44:10.510401Z",
     "shell.execute_reply": "2025-06-19T14:44:10.509554Z"
    },
    "papermill": {
     "duration": 0.035489,
     "end_time": "2025-06-19T14:44:10.511850",
     "exception": false,
     "start_time": "2025-06-19T14:44:10.476361",
     "status": "completed"
    },
    "tags": []
   },
   "outputs": [],
   "source": [
    "from sklearn.feature_extraction.text import CountVectorizer,TfidfVectorizer\n",
    "cv = CountVectorizer()\n",
    "tfidf = TfidfVectorizer(max_features=3000)"
   ]
  },
  {
   "cell_type": "code",
   "execution_count": 60,
   "id": "580dd851",
   "metadata": {
    "execution": {
     "iopub.execute_input": "2025-06-19T14:44:10.569474Z",
     "iopub.status.busy": "2025-06-19T14:44:10.569166Z",
     "iopub.status.idle": "2025-06-19T14:44:10.777751Z",
     "shell.execute_reply": "2025-06-19T14:44:10.776838Z"
    },
    "papermill": {
     "duration": 0.239497,
     "end_time": "2025-06-19T14:44:10.779455",
     "exception": false,
     "start_time": "2025-06-19T14:44:10.539958",
     "status": "completed"
    },
    "tags": []
   },
   "outputs": [],
   "source": [
    "x = tfidf.fit_transform(df['transformed_text']).toarray()"
   ]
  },
  {
   "cell_type": "code",
   "execution_count": 61,
   "id": "82cd432f",
   "metadata": {
    "execution": {
     "iopub.execute_input": "2025-06-19T14:44:10.839071Z",
     "iopub.status.busy": "2025-06-19T14:44:10.838740Z",
     "iopub.status.idle": "2025-06-19T14:44:10.844355Z",
     "shell.execute_reply": "2025-06-19T14:44:10.843320Z"
    },
    "papermill": {
     "duration": 0.037261,
     "end_time": "2025-06-19T14:44:10.845753",
     "exception": false,
     "start_time": "2025-06-19T14:44:10.808492",
     "status": "completed"
    },
    "tags": []
   },
   "outputs": [
    {
     "data": {
      "text/plain": [
       "(5169, 3000)"
      ]
     },
     "execution_count": 61,
     "metadata": {},
     "output_type": "execute_result"
    }
   ],
   "source": [
    "x.shape"
   ]
  },
  {
   "cell_type": "code",
   "execution_count": 62,
   "id": "9bb13373",
   "metadata": {
    "execution": {
     "iopub.execute_input": "2025-06-19T14:44:10.904254Z",
     "iopub.status.busy": "2025-06-19T14:44:10.903934Z",
     "iopub.status.idle": "2025-06-19T14:44:10.908521Z",
     "shell.execute_reply": "2025-06-19T14:44:10.907443Z"
    },
    "papermill": {
     "duration": 0.035399,
     "end_time": "2025-06-19T14:44:10.909965",
     "exception": false,
     "start_time": "2025-06-19T14:44:10.874566",
     "status": "completed"
    },
    "tags": []
   },
   "outputs": [],
   "source": [
    "y = df['target'].values"
   ]
  },
  {
   "cell_type": "code",
   "execution_count": 63,
   "id": "b69f261b",
   "metadata": {
    "execution": {
     "iopub.execute_input": "2025-06-19T14:44:10.970159Z",
     "iopub.status.busy": "2025-06-19T14:44:10.969835Z",
     "iopub.status.idle": "2025-06-19T14:44:10.975558Z",
     "shell.execute_reply": "2025-06-19T14:44:10.974820Z"
    },
    "papermill": {
     "duration": 0.038683,
     "end_time": "2025-06-19T14:44:10.976958",
     "exception": false,
     "start_time": "2025-06-19T14:44:10.938275",
     "status": "completed"
    },
    "tags": []
   },
   "outputs": [
    {
     "data": {
      "text/plain": [
       "array([0, 0, 1, ..., 0, 0, 0])"
      ]
     },
     "execution_count": 63,
     "metadata": {},
     "output_type": "execute_result"
    }
   ],
   "source": [
    "y"
   ]
  },
  {
   "cell_type": "code",
   "execution_count": 64,
   "id": "d48b07ff",
   "metadata": {
    "execution": {
     "iopub.execute_input": "2025-06-19T14:44:11.037120Z",
     "iopub.status.busy": "2025-06-19T14:44:11.036805Z",
     "iopub.status.idle": "2025-06-19T14:44:11.040798Z",
     "shell.execute_reply": "2025-06-19T14:44:11.040106Z"
    },
    "papermill": {
     "duration": 0.036601,
     "end_time": "2025-06-19T14:44:11.042141",
     "exception": false,
     "start_time": "2025-06-19T14:44:11.005540",
     "status": "completed"
    },
    "tags": []
   },
   "outputs": [],
   "source": [
    "from sklearn.model_selection import train_test_split"
   ]
  },
  {
   "cell_type": "code",
   "execution_count": 65,
   "id": "e5c37a27",
   "metadata": {
    "execution": {
     "iopub.execute_input": "2025-06-19T14:44:11.100687Z",
     "iopub.status.busy": "2025-06-19T14:44:11.100347Z",
     "iopub.status.idle": "2025-06-19T14:44:11.175955Z",
     "shell.execute_reply": "2025-06-19T14:44:11.174949Z"
    },
    "papermill": {
     "duration": 0.106834,
     "end_time": "2025-06-19T14:44:11.177549",
     "exception": false,
     "start_time": "2025-06-19T14:44:11.070715",
     "status": "completed"
    },
    "tags": []
   },
   "outputs": [],
   "source": [
    "x_train,x_test,y_train,y_test = train_test_split(x,y,test_size=0.2,random_state=2)"
   ]
  },
  {
   "cell_type": "code",
   "execution_count": 66,
   "id": "add0df4e",
   "metadata": {
    "execution": {
     "iopub.execute_input": "2025-06-19T14:44:11.236038Z",
     "iopub.status.busy": "2025-06-19T14:44:11.235738Z",
     "iopub.status.idle": "2025-06-19T14:44:11.249097Z",
     "shell.execute_reply": "2025-06-19T14:44:11.248149Z"
    },
    "papermill": {
     "duration": 0.044536,
     "end_time": "2025-06-19T14:44:11.250916",
     "exception": false,
     "start_time": "2025-06-19T14:44:11.206380",
     "status": "completed"
    },
    "tags": []
   },
   "outputs": [],
   "source": [
    "from sklearn.naive_bayes import GaussianNB,MultinomialNB,BernoulliNB\n",
    "from sklearn.metrics import accuracy_score,confusion_matrix,precision_score"
   ]
  },
  {
   "cell_type": "code",
   "execution_count": 67,
   "id": "7238140e",
   "metadata": {
    "execution": {
     "iopub.execute_input": "2025-06-19T14:44:11.310558Z",
     "iopub.status.busy": "2025-06-19T14:44:11.310277Z",
     "iopub.status.idle": "2025-06-19T14:44:11.314556Z",
     "shell.execute_reply": "2025-06-19T14:44:11.313725Z"
    },
    "papermill": {
     "duration": 0.036257,
     "end_time": "2025-06-19T14:44:11.316060",
     "exception": false,
     "start_time": "2025-06-19T14:44:11.279803",
     "status": "completed"
    },
    "tags": []
   },
   "outputs": [],
   "source": [
    "gnb = GaussianNB()\n",
    "mnb = MultinomialNB()\n",
    "bnb = BernoulliNB()"
   ]
  },
  {
   "cell_type": "code",
   "execution_count": 68,
   "id": "22f2f81f",
   "metadata": {
    "execution": {
     "iopub.execute_input": "2025-06-19T14:44:11.375511Z",
     "iopub.status.busy": "2025-06-19T14:44:11.375206Z",
     "iopub.status.idle": "2025-06-19T14:44:11.671860Z",
     "shell.execute_reply": "2025-06-19T14:44:11.670700Z"
    },
    "papermill": {
     "duration": 0.328482,
     "end_time": "2025-06-19T14:44:11.673302",
     "exception": false,
     "start_time": "2025-06-19T14:44:11.344820",
     "status": "completed"
    },
    "tags": []
   },
   "outputs": [
    {
     "name": "stdout",
     "output_type": "stream",
     "text": [
      "0.8694390715667312\n",
      "[[788 108]\n",
      " [ 27 111]]\n",
      "0.5068493150684932\n"
     ]
    }
   ],
   "source": [
    "gnb.fit(x_train,y_train)\n",
    "y_pred1 = gnb.predict(x_test)\n",
    "print(accuracy_score(y_test,y_pred1))\n",
    "print(confusion_matrix(y_test,y_pred1))\n",
    "print(precision_score(y_test,y_pred1))"
   ]
  },
  {
   "cell_type": "code",
   "execution_count": 69,
   "id": "21dbbbd8",
   "metadata": {
    "execution": {
     "iopub.execute_input": "2025-06-19T14:44:11.732296Z",
     "iopub.status.busy": "2025-06-19T14:44:11.732019Z",
     "iopub.status.idle": "2025-06-19T14:44:11.796620Z",
     "shell.execute_reply": "2025-06-19T14:44:11.795421Z"
    },
    "papermill": {
     "duration": 0.096089,
     "end_time": "2025-06-19T14:44:11.798078",
     "exception": false,
     "start_time": "2025-06-19T14:44:11.701989",
     "status": "completed"
    },
    "tags": []
   },
   "outputs": [
    {
     "name": "stdout",
     "output_type": "stream",
     "text": [
      "0.9709864603481625\n",
      "[[896   0]\n",
      " [ 30 108]]\n",
      "1.0\n"
     ]
    }
   ],
   "source": [
    "mnb.fit(x_train,y_train)\n",
    "y_pred2 = mnb.predict(x_test)\n",
    "print(accuracy_score(y_test,y_pred2))\n",
    "print(confusion_matrix(y_test,y_pred2))\n",
    "print(precision_score(y_test,y_pred2))"
   ]
  },
  {
   "cell_type": "code",
   "execution_count": 70,
   "id": "d49d3959",
   "metadata": {
    "execution": {
     "iopub.execute_input": "2025-06-19T14:44:11.860122Z",
     "iopub.status.busy": "2025-06-19T14:44:11.859811Z",
     "iopub.status.idle": "2025-06-19T14:44:12.031176Z",
     "shell.execute_reply": "2025-06-19T14:44:12.030326Z"
    },
    "papermill": {
     "duration": 0.203933,
     "end_time": "2025-06-19T14:44:12.032965",
     "exception": false,
     "start_time": "2025-06-19T14:44:11.829032",
     "status": "completed"
    },
    "tags": []
   },
   "outputs": [
    {
     "name": "stdout",
     "output_type": "stream",
     "text": [
      "0.9835589941972921\n",
      "[[895   1]\n",
      " [ 16 122]]\n",
      "0.991869918699187\n"
     ]
    }
   ],
   "source": [
    "bnb.fit(x_train,y_train)\n",
    "y_pred3 = bnb.predict(x_test)\n",
    "print(accuracy_score(y_test,y_pred3))\n",
    "print(confusion_matrix(y_test,y_pred3))\n",
    "print(precision_score(y_test,y_pred3))"
   ]
  },
  {
   "cell_type": "code",
   "execution_count": 71,
   "id": "0bcda578",
   "metadata": {
    "execution": {
     "iopub.execute_input": "2025-06-19T14:44:12.093796Z",
     "iopub.status.busy": "2025-06-19T14:44:12.092995Z",
     "iopub.status.idle": "2025-06-19T14:44:12.096718Z",
     "shell.execute_reply": "2025-06-19T14:44:12.096007Z"
    },
    "papermill": {
     "duration": 0.034666,
     "end_time": "2025-06-19T14:44:12.098032",
     "exception": false,
     "start_time": "2025-06-19T14:44:12.063366",
     "status": "completed"
    },
    "tags": []
   },
   "outputs": [],
   "source": [
    "# Keep tfidf -> mnb\n"
   ]
  },
  {
   "cell_type": "code",
   "execution_count": 72,
   "id": "505c3d99",
   "metadata": {
    "execution": {
     "iopub.execute_input": "2025-06-19T14:44:12.158510Z",
     "iopub.status.busy": "2025-06-19T14:44:12.157571Z",
     "iopub.status.idle": "2025-06-19T14:44:12.697223Z",
     "shell.execute_reply": "2025-06-19T14:44:12.696389Z"
    },
    "papermill": {
     "duration": 0.571797,
     "end_time": "2025-06-19T14:44:12.698856",
     "exception": false,
     "start_time": "2025-06-19T14:44:12.127059",
     "status": "completed"
    },
    "tags": []
   },
   "outputs": [],
   "source": [
    "from sklearn.linear_model import LogisticRegression\n",
    "from sklearn.svm import SVC\n",
    "from sklearn.naive_bayes import MultinomialNB\n",
    "from sklearn.tree import DecisionTreeClassifier\n",
    "from sklearn.neighbors import KNeighborsClassifier\n",
    "from sklearn.ensemble import RandomForestClassifier\n",
    "from sklearn.ensemble import AdaBoostClassifier\n",
    "from sklearn.ensemble import BaggingClassifier\n",
    "from sklearn.ensemble import ExtraTreesClassifier\n",
    "from sklearn.ensemble import GradientBoostingClassifier\n",
    "from xgboost import XGBClassifier"
   ]
  },
  {
   "cell_type": "code",
   "execution_count": 73,
   "id": "124475e4",
   "metadata": {
    "execution": {
     "iopub.execute_input": "2025-06-19T14:44:12.763443Z",
     "iopub.status.busy": "2025-06-19T14:44:12.763128Z",
     "iopub.status.idle": "2025-06-19T14:44:12.769402Z",
     "shell.execute_reply": "2025-06-19T14:44:12.768649Z"
    },
    "papermill": {
     "duration": 0.041756,
     "end_time": "2025-06-19T14:44:12.770774",
     "exception": false,
     "start_time": "2025-06-19T14:44:12.729018",
     "status": "completed"
    },
    "tags": []
   },
   "outputs": [],
   "source": [
    "svc = SVC(kernel='sigmoid', gamma=1.0)\n",
    "knc = KNeighborsClassifier()\n",
    "mnb = MultinomialNB()\n",
    "dtc = DecisionTreeClassifier(max_depth=5)\n",
    "lrc = LogisticRegression(solver='liblinear', penalty='l1')\n",
    "rfc = RandomForestClassifier(n_estimators=50, random_state=2)\n",
    "abc = AdaBoostClassifier(n_estimators=50, random_state=2)\n",
    "bc = BaggingClassifier(n_estimators=50, random_state=2)\n",
    "etc = ExtraTreesClassifier(n_estimators=50, random_state=2)\n",
    "gbdt = GradientBoostingClassifier(n_estimators=50,random_state=2)\n",
    "xgb = XGBClassifier(n_estimators=50,random_state=2)"
   ]
  },
  {
   "cell_type": "code",
   "execution_count": 74,
   "id": "75222493",
   "metadata": {
    "execution": {
     "iopub.execute_input": "2025-06-19T14:44:12.834060Z",
     "iopub.status.busy": "2025-06-19T14:44:12.833183Z",
     "iopub.status.idle": "2025-06-19T14:44:12.838184Z",
     "shell.execute_reply": "2025-06-19T14:44:12.837240Z"
    },
    "papermill": {
     "duration": 0.038552,
     "end_time": "2025-06-19T14:44:12.839686",
     "exception": false,
     "start_time": "2025-06-19T14:44:12.801134",
     "status": "completed"
    },
    "tags": []
   },
   "outputs": [],
   "source": [
    "clfs = {\n",
    "    'SVC' : svc,\n",
    "    'KN' : knc, \n",
    "    'NB': mnb, \n",
    "    'DT': dtc, \n",
    "    'LR': lrc, \n",
    "    'RF': rfc, \n",
    "    'AdaBoost': abc, \n",
    "    'BgC': bc, \n",
    "    'ETC': etc,\n",
    "    'GBDT':gbdt,\n",
    "    'xgb':xgb\n",
    "}"
   ]
  },
  {
   "cell_type": "code",
   "execution_count": 75,
   "id": "00fb4592",
   "metadata": {
    "execution": {
     "iopub.execute_input": "2025-06-19T14:44:12.899568Z",
     "iopub.status.busy": "2025-06-19T14:44:12.899249Z",
     "iopub.status.idle": "2025-06-19T14:44:12.904145Z",
     "shell.execute_reply": "2025-06-19T14:44:12.903247Z"
    },
    "papermill": {
     "duration": 0.036317,
     "end_time": "2025-06-19T14:44:12.905537",
     "exception": false,
     "start_time": "2025-06-19T14:44:12.869220",
     "status": "completed"
    },
    "tags": []
   },
   "outputs": [],
   "source": [
    "def train_classifier(clf,x_train,y_train,x_test,y_test):\n",
    "    clf.fit(x_train,y_train)\n",
    "    y_pred = clf.predict(x_test)\n",
    "    accuracy = accuracy_score(y_test,y_pred)\n",
    "    precision = precision_score(y_test,y_pred)\n",
    "    \n",
    "    return accuracy,precision"
   ]
  },
  {
   "cell_type": "code",
   "execution_count": 76,
   "id": "720be7e9",
   "metadata": {
    "execution": {
     "iopub.execute_input": "2025-06-19T14:44:12.966794Z",
     "iopub.status.busy": "2025-06-19T14:44:12.966459Z",
     "iopub.status.idle": "2025-06-19T14:44:21.359709Z",
     "shell.execute_reply": "2025-06-19T14:44:21.358746Z"
    },
    "papermill": {
     "duration": 8.426424,
     "end_time": "2025-06-19T14:44:21.361223",
     "exception": false,
     "start_time": "2025-06-19T14:44:12.934799",
     "status": "completed"
    },
    "tags": []
   },
   "outputs": [
    {
     "data": {
      "text/plain": [
       "(0.9758220502901354, 0.9747899159663865)"
      ]
     },
     "execution_count": 76,
     "metadata": {},
     "output_type": "execute_result"
    }
   ],
   "source": [
    "train_classifier(svc,x_train,y_train,x_test,y_test)"
   ]
  },
  {
   "cell_type": "code",
   "execution_count": 77,
   "id": "9868993d",
   "metadata": {
    "execution": {
     "iopub.execute_input": "2025-06-19T14:44:21.421405Z",
     "iopub.status.busy": "2025-06-19T14:44:21.420501Z",
     "iopub.status.idle": "2025-06-19T14:47:19.002209Z",
     "shell.execute_reply": "2025-06-19T14:47:19.001557Z"
    },
    "papermill": {
     "duration": 177.613604,
     "end_time": "2025-06-19T14:47:19.003615",
     "exception": false,
     "start_time": "2025-06-19T14:44:21.390011",
     "status": "completed"
    },
    "tags": []
   },
   "outputs": [
    {
     "name": "stdout",
     "output_type": "stream",
     "text": [
      "For  SVC\n",
      "Accuracy -  0.9758220502901354\n",
      "Precision -  0.9747899159663865\n",
      "For  KN\n",
      "Accuracy -  0.9052224371373307\n",
      "Precision -  1.0\n",
      "For  NB\n",
      "Accuracy -  0.9709864603481625\n",
      "Precision -  1.0\n",
      "For  DT\n",
      "Accuracy -  0.9294003868471954\n",
      "Precision -  0.8282828282828283\n",
      "For  LR\n",
      "Accuracy -  0.9584139264990329\n",
      "Precision -  0.9702970297029703\n",
      "For  RF\n",
      "Accuracy -  0.9758220502901354\n",
      "Precision -  0.9829059829059829\n",
      "For  AdaBoost\n",
      "Accuracy -  0.960348162475822\n",
      "Precision -  0.9292035398230089\n",
      "For  BgC\n",
      "Accuracy -  0.9584139264990329\n",
      "Precision -  0.8682170542635659\n",
      "For  ETC\n",
      "Accuracy -  0.9748549323017408\n",
      "Precision -  0.9745762711864406\n",
      "For  GBDT\n",
      "Accuracy -  0.9468085106382979\n",
      "Precision -  0.9191919191919192\n",
      "For  xgb\n",
      "Accuracy -  0.9671179883945842\n",
      "Precision -  0.9262295081967213\n"
     ]
    }
   ],
   "source": [
    "accuracy_scores = []\n",
    "precision_scores = []\n",
    "\n",
    "for name,clf in clfs.items():\n",
    "    \n",
    "    current_accuracy,current_precision = train_classifier(clf, x_train,y_train,x_test,y_test)\n",
    "    \n",
    "    print(\"For \",name)\n",
    "    print(\"Accuracy - \",current_accuracy)\n",
    "    print(\"Precision - \",current_precision)\n",
    "    \n",
    "    accuracy_scores.append(current_accuracy)\n",
    "    precision_scores.append(current_precision)"
   ]
  },
  {
   "cell_type": "code",
   "execution_count": 78,
   "id": "fd60f3c5",
   "metadata": {
    "execution": {
     "iopub.execute_input": "2025-06-19T14:47:19.065512Z",
     "iopub.status.busy": "2025-06-19T14:47:19.065187Z",
     "iopub.status.idle": "2025-06-19T14:47:19.071560Z",
     "shell.execute_reply": "2025-06-19T14:47:19.070690Z"
    },
    "papermill": {
     "duration": 0.038203,
     "end_time": "2025-06-19T14:47:19.073113",
     "exception": false,
     "start_time": "2025-06-19T14:47:19.034910",
     "status": "completed"
    },
    "tags": []
   },
   "outputs": [],
   "source": [
    "performance_df = pd.DataFrame({'Algorithm':clfs.keys(),'Accuracy':accuracy_scores,'Precision':precision_scores}).sort_values('Precision',ascending=False)"
   ]
  },
  {
   "cell_type": "code",
   "execution_count": 79,
   "id": "c10847f6",
   "metadata": {
    "execution": {
     "iopub.execute_input": "2025-06-19T14:47:19.133711Z",
     "iopub.status.busy": "2025-06-19T14:47:19.133345Z",
     "iopub.status.idle": "2025-06-19T14:47:19.143011Z",
     "shell.execute_reply": "2025-06-19T14:47:19.142195Z"
    },
    "papermill": {
     "duration": 0.042274,
     "end_time": "2025-06-19T14:47:19.144413",
     "exception": false,
     "start_time": "2025-06-19T14:47:19.102139",
     "status": "completed"
    },
    "tags": []
   },
   "outputs": [
    {
     "data": {
      "text/html": [
       "<div>\n",
       "<style scoped>\n",
       "    .dataframe tbody tr th:only-of-type {\n",
       "        vertical-align: middle;\n",
       "    }\n",
       "\n",
       "    .dataframe tbody tr th {\n",
       "        vertical-align: top;\n",
       "    }\n",
       "\n",
       "    .dataframe thead th {\n",
       "        text-align: right;\n",
       "    }\n",
       "</style>\n",
       "<table border=\"1\" class=\"dataframe\">\n",
       "  <thead>\n",
       "    <tr style=\"text-align: right;\">\n",
       "      <th></th>\n",
       "      <th>Algorithm</th>\n",
       "      <th>Accuracy</th>\n",
       "      <th>Precision</th>\n",
       "    </tr>\n",
       "  </thead>\n",
       "  <tbody>\n",
       "    <tr>\n",
       "      <th>1</th>\n",
       "      <td>KN</td>\n",
       "      <td>0.905222</td>\n",
       "      <td>1.000000</td>\n",
       "    </tr>\n",
       "    <tr>\n",
       "      <th>2</th>\n",
       "      <td>NB</td>\n",
       "      <td>0.970986</td>\n",
       "      <td>1.000000</td>\n",
       "    </tr>\n",
       "    <tr>\n",
       "      <th>5</th>\n",
       "      <td>RF</td>\n",
       "      <td>0.975822</td>\n",
       "      <td>0.982906</td>\n",
       "    </tr>\n",
       "    <tr>\n",
       "      <th>0</th>\n",
       "      <td>SVC</td>\n",
       "      <td>0.975822</td>\n",
       "      <td>0.974790</td>\n",
       "    </tr>\n",
       "    <tr>\n",
       "      <th>8</th>\n",
       "      <td>ETC</td>\n",
       "      <td>0.974855</td>\n",
       "      <td>0.974576</td>\n",
       "    </tr>\n",
       "    <tr>\n",
       "      <th>4</th>\n",
       "      <td>LR</td>\n",
       "      <td>0.958414</td>\n",
       "      <td>0.970297</td>\n",
       "    </tr>\n",
       "    <tr>\n",
       "      <th>6</th>\n",
       "      <td>AdaBoost</td>\n",
       "      <td>0.960348</td>\n",
       "      <td>0.929204</td>\n",
       "    </tr>\n",
       "    <tr>\n",
       "      <th>10</th>\n",
       "      <td>xgb</td>\n",
       "      <td>0.967118</td>\n",
       "      <td>0.926230</td>\n",
       "    </tr>\n",
       "    <tr>\n",
       "      <th>9</th>\n",
       "      <td>GBDT</td>\n",
       "      <td>0.946809</td>\n",
       "      <td>0.919192</td>\n",
       "    </tr>\n",
       "    <tr>\n",
       "      <th>7</th>\n",
       "      <td>BgC</td>\n",
       "      <td>0.958414</td>\n",
       "      <td>0.868217</td>\n",
       "    </tr>\n",
       "    <tr>\n",
       "      <th>3</th>\n",
       "      <td>DT</td>\n",
       "      <td>0.929400</td>\n",
       "      <td>0.828283</td>\n",
       "    </tr>\n",
       "  </tbody>\n",
       "</table>\n",
       "</div>"
      ],
      "text/plain": [
       "   Algorithm  Accuracy  Precision\n",
       "1         KN  0.905222   1.000000\n",
       "2         NB  0.970986   1.000000\n",
       "5         RF  0.975822   0.982906\n",
       "0        SVC  0.975822   0.974790\n",
       "8        ETC  0.974855   0.974576\n",
       "4         LR  0.958414   0.970297\n",
       "6   AdaBoost  0.960348   0.929204\n",
       "10       xgb  0.967118   0.926230\n",
       "9       GBDT  0.946809   0.919192\n",
       "7        BgC  0.958414   0.868217\n",
       "3         DT  0.929400   0.828283"
      ]
     },
     "execution_count": 79,
     "metadata": {},
     "output_type": "execute_result"
    }
   ],
   "source": [
    "performance_df"
   ]
  },
  {
   "cell_type": "code",
   "execution_count": 80,
   "id": "1e88cd45",
   "metadata": {
    "execution": {
     "iopub.execute_input": "2025-06-19T14:47:19.205391Z",
     "iopub.status.busy": "2025-06-19T14:47:19.205088Z",
     "iopub.status.idle": "2025-06-19T14:47:19.212097Z",
     "shell.execute_reply": "2025-06-19T14:47:19.211337Z"
    },
    "papermill": {
     "duration": 0.039465,
     "end_time": "2025-06-19T14:47:19.213581",
     "exception": false,
     "start_time": "2025-06-19T14:47:19.174116",
     "status": "completed"
    },
    "tags": []
   },
   "outputs": [],
   "source": [
    "performance_df1 = pd.melt(performance_df, id_vars = \"Algorithm\")"
   ]
  },
  {
   "cell_type": "code",
   "execution_count": 81,
   "id": "7fb9da67",
   "metadata": {
    "execution": {
     "iopub.execute_input": "2025-06-19T14:47:19.274290Z",
     "iopub.status.busy": "2025-06-19T14:47:19.273971Z",
     "iopub.status.idle": "2025-06-19T14:47:19.284048Z",
     "shell.execute_reply": "2025-06-19T14:47:19.283181Z"
    },
    "papermill": {
     "duration": 0.042113,
     "end_time": "2025-06-19T14:47:19.285404",
     "exception": false,
     "start_time": "2025-06-19T14:47:19.243291",
     "status": "completed"
    },
    "tags": []
   },
   "outputs": [
    {
     "data": {
      "text/html": [
       "<div>\n",
       "<style scoped>\n",
       "    .dataframe tbody tr th:only-of-type {\n",
       "        vertical-align: middle;\n",
       "    }\n",
       "\n",
       "    .dataframe tbody tr th {\n",
       "        vertical-align: top;\n",
       "    }\n",
       "\n",
       "    .dataframe thead th {\n",
       "        text-align: right;\n",
       "    }\n",
       "</style>\n",
       "<table border=\"1\" class=\"dataframe\">\n",
       "  <thead>\n",
       "    <tr style=\"text-align: right;\">\n",
       "      <th></th>\n",
       "      <th>Algorithm</th>\n",
       "      <th>variable</th>\n",
       "      <th>value</th>\n",
       "    </tr>\n",
       "  </thead>\n",
       "  <tbody>\n",
       "    <tr>\n",
       "      <th>0</th>\n",
       "      <td>KN</td>\n",
       "      <td>Accuracy</td>\n",
       "      <td>0.905222</td>\n",
       "    </tr>\n",
       "    <tr>\n",
       "      <th>1</th>\n",
       "      <td>NB</td>\n",
       "      <td>Accuracy</td>\n",
       "      <td>0.970986</td>\n",
       "    </tr>\n",
       "    <tr>\n",
       "      <th>2</th>\n",
       "      <td>RF</td>\n",
       "      <td>Accuracy</td>\n",
       "      <td>0.975822</td>\n",
       "    </tr>\n",
       "    <tr>\n",
       "      <th>3</th>\n",
       "      <td>SVC</td>\n",
       "      <td>Accuracy</td>\n",
       "      <td>0.975822</td>\n",
       "    </tr>\n",
       "    <tr>\n",
       "      <th>4</th>\n",
       "      <td>ETC</td>\n",
       "      <td>Accuracy</td>\n",
       "      <td>0.974855</td>\n",
       "    </tr>\n",
       "    <tr>\n",
       "      <th>5</th>\n",
       "      <td>LR</td>\n",
       "      <td>Accuracy</td>\n",
       "      <td>0.958414</td>\n",
       "    </tr>\n",
       "    <tr>\n",
       "      <th>6</th>\n",
       "      <td>AdaBoost</td>\n",
       "      <td>Accuracy</td>\n",
       "      <td>0.960348</td>\n",
       "    </tr>\n",
       "    <tr>\n",
       "      <th>7</th>\n",
       "      <td>xgb</td>\n",
       "      <td>Accuracy</td>\n",
       "      <td>0.967118</td>\n",
       "    </tr>\n",
       "    <tr>\n",
       "      <th>8</th>\n",
       "      <td>GBDT</td>\n",
       "      <td>Accuracy</td>\n",
       "      <td>0.946809</td>\n",
       "    </tr>\n",
       "    <tr>\n",
       "      <th>9</th>\n",
       "      <td>BgC</td>\n",
       "      <td>Accuracy</td>\n",
       "      <td>0.958414</td>\n",
       "    </tr>\n",
       "    <tr>\n",
       "      <th>10</th>\n",
       "      <td>DT</td>\n",
       "      <td>Accuracy</td>\n",
       "      <td>0.929400</td>\n",
       "    </tr>\n",
       "    <tr>\n",
       "      <th>11</th>\n",
       "      <td>KN</td>\n",
       "      <td>Precision</td>\n",
       "      <td>1.000000</td>\n",
       "    </tr>\n",
       "    <tr>\n",
       "      <th>12</th>\n",
       "      <td>NB</td>\n",
       "      <td>Precision</td>\n",
       "      <td>1.000000</td>\n",
       "    </tr>\n",
       "    <tr>\n",
       "      <th>13</th>\n",
       "      <td>RF</td>\n",
       "      <td>Precision</td>\n",
       "      <td>0.982906</td>\n",
       "    </tr>\n",
       "    <tr>\n",
       "      <th>14</th>\n",
       "      <td>SVC</td>\n",
       "      <td>Precision</td>\n",
       "      <td>0.974790</td>\n",
       "    </tr>\n",
       "    <tr>\n",
       "      <th>15</th>\n",
       "      <td>ETC</td>\n",
       "      <td>Precision</td>\n",
       "      <td>0.974576</td>\n",
       "    </tr>\n",
       "    <tr>\n",
       "      <th>16</th>\n",
       "      <td>LR</td>\n",
       "      <td>Precision</td>\n",
       "      <td>0.970297</td>\n",
       "    </tr>\n",
       "    <tr>\n",
       "      <th>17</th>\n",
       "      <td>AdaBoost</td>\n",
       "      <td>Precision</td>\n",
       "      <td>0.929204</td>\n",
       "    </tr>\n",
       "    <tr>\n",
       "      <th>18</th>\n",
       "      <td>xgb</td>\n",
       "      <td>Precision</td>\n",
       "      <td>0.926230</td>\n",
       "    </tr>\n",
       "    <tr>\n",
       "      <th>19</th>\n",
       "      <td>GBDT</td>\n",
       "      <td>Precision</td>\n",
       "      <td>0.919192</td>\n",
       "    </tr>\n",
       "    <tr>\n",
       "      <th>20</th>\n",
       "      <td>BgC</td>\n",
       "      <td>Precision</td>\n",
       "      <td>0.868217</td>\n",
       "    </tr>\n",
       "    <tr>\n",
       "      <th>21</th>\n",
       "      <td>DT</td>\n",
       "      <td>Precision</td>\n",
       "      <td>0.828283</td>\n",
       "    </tr>\n",
       "  </tbody>\n",
       "</table>\n",
       "</div>"
      ],
      "text/plain": [
       "   Algorithm   variable     value\n",
       "0         KN   Accuracy  0.905222\n",
       "1         NB   Accuracy  0.970986\n",
       "2         RF   Accuracy  0.975822\n",
       "3        SVC   Accuracy  0.975822\n",
       "4        ETC   Accuracy  0.974855\n",
       "5         LR   Accuracy  0.958414\n",
       "6   AdaBoost   Accuracy  0.960348\n",
       "7        xgb   Accuracy  0.967118\n",
       "8       GBDT   Accuracy  0.946809\n",
       "9        BgC   Accuracy  0.958414\n",
       "10        DT   Accuracy  0.929400\n",
       "11        KN  Precision  1.000000\n",
       "12        NB  Precision  1.000000\n",
       "13        RF  Precision  0.982906\n",
       "14       SVC  Precision  0.974790\n",
       "15       ETC  Precision  0.974576\n",
       "16        LR  Precision  0.970297\n",
       "17  AdaBoost  Precision  0.929204\n",
       "18       xgb  Precision  0.926230\n",
       "19      GBDT  Precision  0.919192\n",
       "20       BgC  Precision  0.868217\n",
       "21        DT  Precision  0.828283"
      ]
     },
     "execution_count": 81,
     "metadata": {},
     "output_type": "execute_result"
    }
   ],
   "source": [
    "performance_df1"
   ]
  },
  {
   "cell_type": "code",
   "execution_count": 82,
   "id": "0708fec4",
   "metadata": {
    "execution": {
     "iopub.execute_input": "2025-06-19T14:47:19.345571Z",
     "iopub.status.busy": "2025-06-19T14:47:19.345014Z",
     "iopub.status.idle": "2025-06-19T14:47:19.708128Z",
     "shell.execute_reply": "2025-06-19T14:47:19.707253Z"
    },
    "papermill": {
     "duration": 0.394732,
     "end_time": "2025-06-19T14:47:19.709702",
     "exception": false,
     "start_time": "2025-06-19T14:47:19.314970",
     "status": "completed"
    },
    "tags": []
   },
   "outputs": [
    {
     "name": "stderr",
     "output_type": "stream",
     "text": [
      "/usr/local/lib/python3.11/dist-packages/seaborn/axisgrid.py:118: UserWarning: The figure layout has changed to tight\n",
      "  self._figure.tight_layout(*args, **kwargs)\n"
     ]
    },
    {
     "data": {
      "image/png": "[encoded data removed]",
      "text/plain": [
       "<Figure size 613.5x500 with 1 Axes>"
      ]
     },
     "metadata": {},
     "output_type": "display_data"
    }
   ],
   "source": [
    "sns.catplot(x = 'Algorithm', y='value', \n",
    "               hue = 'variable',data=performance_df1, kind='bar',height=5)\n",
    "plt.ylim(0.5,1.0)\n",
    "plt.xticks(rotation='vertical')\n",
    "plt.show()"
   ]
  },
  {
   "cell_type": "markdown",
   "id": "11d6f25e",
   "metadata": {
    "papermill": {
     "duration": 0.030503,
     "end_time": "2025-06-19T14:47:19.770485",
     "exception": false,
     "start_time": "2025-06-19T14:47:19.739982",
     "status": "completed"
    },
    "tags": []
   },
   "source": [
    "#### model improve\n",
    "* 1. Change the max_features parameter of TfIdf"
   ]
  },
  {
   "cell_type": "code",
   "execution_count": 83,
   "id": "4990d273",
   "metadata": {
    "execution": {
     "iopub.execute_input": "2025-06-19T14:47:19.832473Z",
     "iopub.status.busy": "2025-06-19T14:47:19.832152Z",
     "iopub.status.idle": "2025-06-19T14:47:19.838342Z",
     "shell.execute_reply": "2025-06-19T14:47:19.837460Z"
    },
    "papermill": {
     "duration": 0.039073,
     "end_time": "2025-06-19T14:47:19.839842",
     "exception": false,
     "start_time": "2025-06-19T14:47:19.800769",
     "status": "completed"
    },
    "tags": []
   },
   "outputs": [],
   "source": [
    "temp_df = pd.DataFrame({'Algorithm':clfs.keys(),'Accuracy_max_ft_3000':accuracy_scores,'Precision_max_ft_3000':precision_scores}).sort_values('Precision_max_ft_3000',ascending=False)\n"
   ]
  },
  {
   "cell_type": "code",
   "execution_count": 84,
   "id": "1d2b7699",
   "metadata": {
    "execution": {
     "iopub.execute_input": "2025-06-19T14:47:19.901953Z",
     "iopub.status.busy": "2025-06-19T14:47:19.901573Z",
     "iopub.status.idle": "2025-06-19T14:47:19.907568Z",
     "shell.execute_reply": "2025-06-19T14:47:19.906690Z"
    },
    "papermill": {
     "duration": 0.038907,
     "end_time": "2025-06-19T14:47:19.909006",
     "exception": false,
     "start_time": "2025-06-19T14:47:19.870099",
     "status": "completed"
    },
    "tags": []
   },
   "outputs": [],
   "source": [
    "temp_df = pd.DataFrame({'Algorithm':clfs.keys(),'Accuracy_scaling':accuracy_scores,'Precision_scaling':precision_scores}).sort_values('Precision_scaling',ascending=False)\n"
   ]
  },
  {
   "cell_type": "code",
   "execution_count": 85,
   "id": "eaf499fb",
   "metadata": {
    "execution": {
     "iopub.execute_input": "2025-06-19T14:47:19.971737Z",
     "iopub.status.busy": "2025-06-19T14:47:19.971388Z",
     "iopub.status.idle": "2025-06-19T14:47:19.980544Z",
     "shell.execute_reply": "2025-06-19T14:47:19.979686Z"
    },
    "papermill": {
     "duration": 0.042603,
     "end_time": "2025-06-19T14:47:19.982365",
     "exception": false,
     "start_time": "2025-06-19T14:47:19.939762",
     "status": "completed"
    },
    "tags": []
   },
   "outputs": [],
   "source": [
    "new_df = performance_df.merge(temp_df,on='Algorithm')\n"
   ]
  },
  {
   "cell_type": "code",
   "execution_count": 86,
   "id": "23cb240e",
   "metadata": {
    "execution": {
     "iopub.execute_input": "2025-06-19T14:47:20.046808Z",
     "iopub.status.busy": "2025-06-19T14:47:20.045963Z",
     "iopub.status.idle": "2025-06-19T14:47:20.053314Z",
     "shell.execute_reply": "2025-06-19T14:47:20.052405Z"
    },
    "papermill": {
     "duration": 0.041084,
     "end_time": "2025-06-19T14:47:20.054807",
     "exception": false,
     "start_time": "2025-06-19T14:47:20.013723",
     "status": "completed"
    },
    "tags": []
   },
   "outputs": [],
   "source": [
    "new_df_scaled = new_df.merge(temp_df,on='Algorithm')"
   ]
  },
  {
   "cell_type": "code",
   "execution_count": 87,
   "id": "41815bd2",
   "metadata": {
    "execution": {
     "iopub.execute_input": "2025-06-19T14:47:20.116690Z",
     "iopub.status.busy": "2025-06-19T14:47:20.115571Z",
     "iopub.status.idle": "2025-06-19T14:47:20.121557Z",
     "shell.execute_reply": "2025-06-19T14:47:20.120829Z"
    },
    "papermill": {
     "duration": 0.0384,
     "end_time": "2025-06-19T14:47:20.123101",
     "exception": false,
     "start_time": "2025-06-19T14:47:20.084701",
     "status": "completed"
    },
    "tags": []
   },
   "outputs": [],
   "source": [
    "temp_df = pd.DataFrame({'Algorithm':clfs.keys(),'Accuracy_num_chars':accuracy_scores,'Precision_num_chars':precision_scores}).sort_values('Precision_num_chars',ascending=False)\n"
   ]
  },
  {
   "cell_type": "code",
   "execution_count": 88,
   "id": "cb0d44e5",
   "metadata": {
    "execution": {
     "iopub.execute_input": "2025-06-19T14:47:20.185383Z",
     "iopub.status.busy": "2025-06-19T14:47:20.184675Z",
     "iopub.status.idle": "2025-06-19T14:47:20.200989Z",
     "shell.execute_reply": "2025-06-19T14:47:20.200096Z"
    },
    "papermill": {
     "duration": 0.049247,
     "end_time": "2025-06-19T14:47:20.202520",
     "exception": false,
     "start_time": "2025-06-19T14:47:20.153273",
     "status": "completed"
    },
    "tags": []
   },
   "outputs": [
    {
     "data": {
      "text/html": [
       "<div>\n",
       "<style scoped>\n",
       "    .dataframe tbody tr th:only-of-type {\n",
       "        vertical-align: middle;\n",
       "    }\n",
       "\n",
       "    .dataframe tbody tr th {\n",
       "        vertical-align: top;\n",
       "    }\n",
       "\n",
       "    .dataframe thead th {\n",
       "        text-align: right;\n",
       "    }\n",
       "</style>\n",
       "<table border=\"1\" class=\"dataframe\">\n",
       "  <thead>\n",
       "    <tr style=\"text-align: right;\">\n",
       "      <th></th>\n",
       "      <th>Algorithm</th>\n",
       "      <th>Accuracy</th>\n",
       "      <th>Precision</th>\n",
       "      <th>Accuracy_scaling_x</th>\n",
       "      <th>Precision_scaling_x</th>\n",
       "      <th>Accuracy_scaling_y</th>\n",
       "      <th>Precision_scaling_y</th>\n",
       "      <th>Accuracy_num_chars</th>\n",
       "      <th>Precision_num_chars</th>\n",
       "    </tr>\n",
       "  </thead>\n",
       "  <tbody>\n",
       "    <tr>\n",
       "      <th>0</th>\n",
       "      <td>KN</td>\n",
       "      <td>0.905222</td>\n",
       "      <td>1.000000</td>\n",
       "      <td>0.905222</td>\n",
       "      <td>1.000000</td>\n",
       "      <td>0.905222</td>\n",
       "      <td>1.000000</td>\n",
       "      <td>0.905222</td>\n",
       "      <td>1.000000</td>\n",
       "    </tr>\n",
       "    <tr>\n",
       "      <th>1</th>\n",
       "      <td>NB</td>\n",
       "      <td>0.970986</td>\n",
       "      <td>1.000000</td>\n",
       "      <td>0.970986</td>\n",
       "      <td>1.000000</td>\n",
       "      <td>0.970986</td>\n",
       "      <td>1.000000</td>\n",
       "      <td>0.970986</td>\n",
       "      <td>1.000000</td>\n",
       "    </tr>\n",
       "    <tr>\n",
       "      <th>2</th>\n",
       "      <td>RF</td>\n",
       "      <td>0.975822</td>\n",
       "      <td>0.982906</td>\n",
       "      <td>0.975822</td>\n",
       "      <td>0.982906</td>\n",
       "      <td>0.975822</td>\n",
       "      <td>0.982906</td>\n",
       "      <td>0.975822</td>\n",
       "      <td>0.982906</td>\n",
       "    </tr>\n",
       "    <tr>\n",
       "      <th>3</th>\n",
       "      <td>SVC</td>\n",
       "      <td>0.975822</td>\n",
       "      <td>0.974790</td>\n",
       "      <td>0.975822</td>\n",
       "      <td>0.974790</td>\n",
       "      <td>0.975822</td>\n",
       "      <td>0.974790</td>\n",
       "      <td>0.975822</td>\n",
       "      <td>0.974790</td>\n",
       "    </tr>\n",
       "    <tr>\n",
       "      <th>4</th>\n",
       "      <td>ETC</td>\n",
       "      <td>0.974855</td>\n",
       "      <td>0.974576</td>\n",
       "      <td>0.974855</td>\n",
       "      <td>0.974576</td>\n",
       "      <td>0.974855</td>\n",
       "      <td>0.974576</td>\n",
       "      <td>0.974855</td>\n",
       "      <td>0.974576</td>\n",
       "    </tr>\n",
       "    <tr>\n",
       "      <th>5</th>\n",
       "      <td>LR</td>\n",
       "      <td>0.958414</td>\n",
       "      <td>0.970297</td>\n",
       "      <td>0.958414</td>\n",
       "      <td>0.970297</td>\n",
       "      <td>0.958414</td>\n",
       "      <td>0.970297</td>\n",
       "      <td>0.958414</td>\n",
       "      <td>0.970297</td>\n",
       "    </tr>\n",
       "    <tr>\n",
       "      <th>6</th>\n",
       "      <td>AdaBoost</td>\n",
       "      <td>0.960348</td>\n",
       "      <td>0.929204</td>\n",
       "      <td>0.960348</td>\n",
       "      <td>0.929204</td>\n",
       "      <td>0.960348</td>\n",
       "      <td>0.929204</td>\n",
       "      <td>0.960348</td>\n",
       "      <td>0.929204</td>\n",
       "    </tr>\n",
       "    <tr>\n",
       "      <th>7</th>\n",
       "      <td>xgb</td>\n",
       "      <td>0.967118</td>\n",
       "      <td>0.926230</td>\n",
       "      <td>0.967118</td>\n",
       "      <td>0.926230</td>\n",
       "      <td>0.967118</td>\n",
       "      <td>0.926230</td>\n",
       "      <td>0.967118</td>\n",
       "      <td>0.926230</td>\n",
       "    </tr>\n",
       "    <tr>\n",
       "      <th>8</th>\n",
       "      <td>GBDT</td>\n",
       "      <td>0.946809</td>\n",
       "      <td>0.919192</td>\n",
       "      <td>0.946809</td>\n",
       "      <td>0.919192</td>\n",
       "      <td>0.946809</td>\n",
       "      <td>0.919192</td>\n",
       "      <td>0.946809</td>\n",
       "      <td>0.919192</td>\n",
       "    </tr>\n",
       "    <tr>\n",
       "      <th>9</th>\n",
       "      <td>BgC</td>\n",
       "      <td>0.958414</td>\n",
       "      <td>0.868217</td>\n",
       "      <td>0.958414</td>\n",
       "      <td>0.868217</td>\n",
       "      <td>0.958414</td>\n",
       "      <td>0.868217</td>\n",
       "      <td>0.958414</td>\n",
       "      <td>0.868217</td>\n",
       "    </tr>\n",
       "    <tr>\n",
       "      <th>10</th>\n",
       "      <td>DT</td>\n",
       "      <td>0.929400</td>\n",
       "      <td>0.828283</td>\n",
       "      <td>0.929400</td>\n",
       "      <td>0.828283</td>\n",
       "      <td>0.929400</td>\n",
       "      <td>0.828283</td>\n",
       "      <td>0.929400</td>\n",
       "      <td>0.828283</td>\n",
       "    </tr>\n",
       "  </tbody>\n",
       "</table>\n",
       "</div>"
      ],
      "text/plain": [
       "   Algorithm  Accuracy  Precision  Accuracy_scaling_x  Precision_scaling_x  \\\n",
       "0         KN  0.905222   1.000000            0.905222             1.000000   \n",
       "1         NB  0.970986   1.000000            0.970986             1.000000   \n",
       "2         RF  0.975822   0.982906            0.975822             0.982906   \n",
       "3        SVC  0.975822   0.974790            0.975822             0.974790   \n",
       "4        ETC  0.974855   0.974576            0.974855             0.974576   \n",
       "5         LR  0.958414   0.970297            0.958414             0.970297   \n",
       "6   AdaBoost  0.960348   0.929204            0.960348             0.929204   \n",
       "7        xgb  0.967118   0.926230            0.967118             0.926230   \n",
       "8       GBDT  0.946809   0.919192            0.946809             0.919192   \n",
       "9        BgC  0.958414   0.868217            0.958414             0.868217   \n",
       "10        DT  0.929400   0.828283            0.929400             0.828283   \n",
       "\n",
       "    Accuracy_scaling_y  Precision_scaling_y  Accuracy_num_chars  \\\n",
       "0             0.905222             1.000000            0.905222   \n",
       "1             0.970986             1.000000            0.970986   \n",
       "2             0.975822             0.982906            0.975822   \n",
       "3             0.975822             0.974790            0.975822   \n",
       "4             0.974855             0.974576            0.974855   \n",
       "5             0.958414             0.970297            0.958414   \n",
       "6             0.960348             0.929204            0.960348   \n",
       "7             0.967118             0.926230            0.967118   \n",
       "8             0.946809             0.919192            0.946809   \n",
       "9             0.958414             0.868217            0.958414   \n",
       "10            0.929400             0.828283            0.929400   \n",
       "\n",
       "    Precision_num_chars  \n",
       "0              1.000000  \n",
       "1              1.000000  \n",
       "2              0.982906  \n",
       "3              0.974790  \n",
       "4              0.974576  \n",
       "5              0.970297  \n",
       "6              0.929204  \n",
       "7              0.926230  \n",
       "8              0.919192  \n",
       "9              0.868217  \n",
       "10             0.828283  "
      ]
     },
     "execution_count": 88,
     "metadata": {},
     "output_type": "execute_result"
    }
   ],
   "source": [
    "new_df_scaled.merge(temp_df,on='Algorithm')\n"
   ]
  },
  {
   "cell_type": "code",
   "execution_count": 89,
   "id": "f74e9325",
   "metadata": {
    "execution": {
     "iopub.execute_input": "2025-06-19T14:47:20.265304Z",
     "iopub.status.busy": "2025-06-19T14:47:20.264989Z",
     "iopub.status.idle": "2025-06-19T14:47:20.269999Z",
     "shell.execute_reply": "2025-06-19T14:47:20.269134Z"
    },
    "papermill": {
     "duration": 0.037824,
     "end_time": "2025-06-19T14:47:20.271327",
     "exception": false,
     "start_time": "2025-06-19T14:47:20.233503",
     "status": "completed"
    },
    "tags": []
   },
   "outputs": [],
   "source": [
    "# Voting Classifier\n",
    "svc = SVC(kernel='sigmoid', gamma=1.0,probability=True)\n",
    "mnb = MultinomialNB()\n",
    "etc = ExtraTreesClassifier(n_estimators=50, random_state=2)\n",
    "\n",
    "from sklearn.ensemble import VotingClassifier"
   ]
  },
  {
   "cell_type": "code",
   "execution_count": 90,
   "id": "341fa92b",
   "metadata": {
    "execution": {
     "iopub.execute_input": "2025-06-19T14:47:20.334573Z",
     "iopub.status.busy": "2025-06-19T14:47:20.333960Z",
     "iopub.status.idle": "2025-06-19T14:47:20.338298Z",
     "shell.execute_reply": "2025-06-19T14:47:20.337437Z"
    },
    "papermill": {
     "duration": 0.037648,
     "end_time": "2025-06-19T14:47:20.339706",
     "exception": false,
     "start_time": "2025-06-19T14:47:20.302058",
     "status": "completed"
    },
    "tags": []
   },
   "outputs": [],
   "source": [
    "voting = VotingClassifier(estimators=[('svm', svc), ('nb', mnb), ('et', etc)],voting='soft')\n"
   ]
  },
  {
   "cell_type": "code",
   "execution_count": 91,
   "id": "09ebd998",
   "metadata": {
    "execution": {
     "iopub.execute_input": "2025-06-19T14:47:20.404332Z",
     "iopub.status.busy": "2025-06-19T14:47:20.403984Z",
     "iopub.status.idle": "2025-06-19T14:48:12.063565Z",
     "shell.execute_reply": "2025-06-19T14:48:12.062640Z"
    },
    "papermill": {
     "duration": 51.726999,
     "end_time": "2025-06-19T14:48:12.098214",
     "exception": false,
     "start_time": "2025-06-19T14:47:20.371215",
     "status": "completed"
    },
    "tags": []
   },
   "outputs": [
    {
     "data": {
      "text/html": [
       "<style>#sk-container-id-1 {color: black;background-color: white;}#sk-container-id-1 pre{padding: 0;}#sk-container-id-1 div.sk-toggleable {background-color: white;}#sk-container-id-1 label.sk-toggleable__label {cursor: pointer;display: block;width: 100%;margin-bottom: 0;padding: 0.3em;box-sizing: border-box;text-align: center;}#sk-container-id-1 label.sk-toggleable__label-arrow:before {content: \"▸\";float: left;margin-right: 0.25em;color: #696969;}#sk-container-id-1 label.sk-toggleable__label-arrow:hover:before {color: black;}#sk-container-id-1 div.sk-estimator:hover label.sk-toggleable__label-arrow:before {color: black;}#sk-container-id-1 div.sk-toggleable__content {max-height: 0;max-width: 0;overflow: hidden;text-align: left;background-color: #f0f8ff;}#sk-container-id-1 div.sk-toggleable__content pre {margin: 0.2em;color: black;border-radius: 0.25em;background-color: #f0f8ff;}#sk-container-id-1 input.sk-toggleable__control:checked~div.sk-toggleable__content {max-height: 200px;max-width: 100%;overflow: auto;}#sk-container-id-1 input.sk-toggleable__control:checked~label.sk-toggleable__label-arrow:before {content: \"▾\";}#sk-container-id-1 div.sk-estimator input.sk-toggleable__control:checked~label.sk-toggleable__label {background-color: #d4ebff;}#sk-container-id-1 div.sk-label input.sk-toggleable__control:checked~label.sk-toggleable__label {background-color: #d4ebff;}#sk-container-id-1 input.sk-hidden--visually {border: 0;clip: rect(1px 1px 1px 1px);clip: rect(1px, 1px, 1px, 1px);height: 1px;margin: -1px;overflow: hidden;padding: 0;position: absolute;width: 1px;}#sk-container-id-1 div.sk-estimator {font-family: monospace;background-color: #f0f8ff;border: 1px dotted black;border-radius: 0.25em;box-sizing: border-box;margin-bottom: 0.5em;}#sk-container-id-1 div.sk-estimator:hover {background-color: #d4ebff;}#sk-container-id-1 div.sk-parallel-item::after {content: \"\";width: 100%;border-bottom: 1px solid gray;flex-grow: 1;}#sk-container-id-1 div.sk-label:hover label.sk-toggleable__label {background-color: #d4ebff;}#sk-container-id-1 div.sk-serial::before {content: \"\";position: absolute;border-left: 1px solid gray;box-sizing: border-box;top: 0;bottom: 0;left: 50%;z-index: 0;}#sk-container-id-1 div.sk-serial {display: flex;flex-direction: column;align-items: center;background-color: white;padding-right: 0.2em;padding-left: 0.2em;position: relative;}#sk-container-id-1 div.sk-item {position: relative;z-index: 1;}#sk-container-id-1 div.sk-parallel {display: flex;align-items: stretch;justify-content: center;background-color: white;position: relative;}#sk-container-id-1 div.sk-item::before, #sk-container-id-1 div.sk-parallel-item::before {content: \"\";position: absolute;border-left: 1px solid gray;box-sizing: border-box;top: 0;bottom: 0;left: 50%;z-index: -1;}#sk-container-id-1 div.sk-parallel-item {display: flex;flex-direction: column;z-index: 1;position: relative;background-color: white;}#sk-container-id-1 div.sk-parallel-item:first-child::after {align-self: flex-end;width: 50%;}#sk-container-id-1 div.sk-parallel-item:last-child::after {align-self: flex-start;width: 50%;}#sk-container-id-1 div.sk-parallel-item:only-child::after {width: 0;}#sk-container-id-1 div.sk-dashed-wrapped {border: 1px dashed gray;margin: 0 0.4em 0.5em 0.4em;box-sizing: border-box;padding-bottom: 0.4em;background-color: white;}#sk-container-id-1 div.sk-label label {font-family: monospace;font-weight: bold;display: inline-block;line-height: 1.2em;}#sk-container-id-1 div.sk-label-container {text-align: center;}#sk-container-id-1 div.sk-container {/* jupyter's `normalize.less` sets `[hidden] { display: none; }` but bootstrap.min.css set `[hidden] { display: none !important; }` so we also need the `!important` here to be able to override the default hidden behavior on the sphinx rendered scikit-learn.org. See: https://github.com/scikit-learn/scikit-learn/issues/21755 */display: inline-block !important;position: relative;}#sk-container-id-1 div.sk-text-repr-fallback {display: none;}</style><div id=\"sk-container-id-1\" class=\"sk-top-container\"><div class=\"sk-text-repr-fallback\"><pre>VotingClassifier(estimators=[(&#x27;svm&#x27;,\n",
       "                              SVC(gamma=1.0, kernel=&#x27;sigmoid&#x27;,\n",
       "                                  probability=True)),\n",
       "                             (&#x27;nb&#x27;, MultinomialNB()),\n",
       "                             (&#x27;et&#x27;,\n",
       "                              ExtraTreesClassifier(n_estimators=50,\n",
       "                                                   random_state=2))],\n",
       "                 voting=&#x27;soft&#x27;)</pre><b>In a Jupyter environment, please rerun this cell to show the HTML representation or trust the notebook. <br />On GitHub, the HTML representation is unable to render, please try loading this page with nbviewer.org.</b></div><div class=\"sk-container\" hidden><div class=\"sk-item sk-dashed-wrapped\"><div class=\"sk-label-container\"><div class=\"sk-label sk-toggleable\"><input class=\"sk-toggleable__control sk-hidden--visually\" id=\"sk-estimator-id-1\" type=\"checkbox\" ><label for=\"sk-estimator-id-1\" class=\"sk-toggleable__label sk-toggleable__label-arrow\">VotingClassifier</label><div class=\"sk-toggleable__content\"><pre>VotingClassifier(estimators=[(&#x27;svm&#x27;,\n",
       "                              SVC(gamma=1.0, kernel=&#x27;sigmoid&#x27;,\n",
       "                                  probability=True)),\n",
       "                             (&#x27;nb&#x27;, MultinomialNB()),\n",
       "                             (&#x27;et&#x27;,\n",
       "                              ExtraTreesClassifier(n_estimators=50,\n",
       "                                                   random_state=2))],\n",
       "                 voting=&#x27;soft&#x27;)</pre></div></div></div><div class=\"sk-parallel\"><div class=\"sk-parallel-item\"><div class=\"sk-item\"><div class=\"sk-label-container\"><div class=\"sk-label sk-toggleable\"><label>svm</label></div></div><div class=\"sk-serial\"><div class=\"sk-item\"><div class=\"sk-estimator sk-toggleable\"><input class=\"sk-toggleable__control sk-hidden--visually\" id=\"sk-estimator-id-2\" type=\"checkbox\" ><label for=\"sk-estimator-id-2\" class=\"sk-toggleable__label sk-toggleable__label-arrow\">SVC</label><div class=\"sk-toggleable__content\"><pre>SVC(gamma=1.0, kernel=&#x27;sigmoid&#x27;, probability=True)</pre></div></div></div></div></div></div><div class=\"sk-parallel-item\"><div class=\"sk-item\"><div class=\"sk-label-container\"><div class=\"sk-label sk-toggleable\"><label>nb</label></div></div><div class=\"sk-serial\"><div class=\"sk-item\"><div class=\"sk-estimator sk-toggleable\"><input class=\"sk-toggleable__control sk-hidden--visually\" id=\"sk-estimator-id-3\" type=\"checkbox\" ><label for=\"sk-estimator-id-3\" class=\"sk-toggleable__label sk-toggleable__label-arrow\">MultinomialNB</label><div class=\"sk-toggleable__content\"><pre>MultinomialNB()</pre></div></div></div></div></div></div><div class=\"sk-parallel-item\"><div class=\"sk-item\"><div class=\"sk-label-container\"><div class=\"sk-label sk-toggleable\"><label>et</label></div></div><div class=\"sk-serial\"><div class=\"sk-item\"><div class=\"sk-estimator sk-toggleable\"><input class=\"sk-toggleable__control sk-hidden--visually\" id=\"sk-estimator-id-4\" type=\"checkbox\" ><label for=\"sk-estimator-id-4\" class=\"sk-toggleable__label sk-toggleable__label-arrow\">ExtraTreesClassifier</label><div class=\"sk-toggleable__content\"><pre>ExtraTreesClassifier(n_estimators=50, random_state=2)</pre></div></div></div></div></div></div></div></div></div></div>"
      ],
      "text/plain": [
       "VotingClassifier(estimators=[('svm',\n",
       "                              SVC(gamma=1.0, kernel='sigmoid',\n",
       "                                  probability=True)),\n",
       "                             ('nb', MultinomialNB()),\n",
       "                             ('et',\n",
       "                              ExtraTreesClassifier(n_estimators=50,\n",
       "                                                   random_state=2))],\n",
       "                 voting='soft')"
      ]
     },
     "execution_count": 91,
     "metadata": {},
     "output_type": "execute_result"
    }
   ],
   "source": [
    "voting.fit(x_train,y_train)\n"
   ]
  },
  {
   "cell_type": "code",
   "execution_count": 92,
   "id": "b0ed4fdc",
   "metadata": {
    "execution": {
     "iopub.execute_input": "2025-06-19T14:48:12.164561Z",
     "iopub.status.busy": "2025-06-19T14:48:12.164267Z",
     "iopub.status.idle": "2025-06-19T14:48:13.279298Z",
     "shell.execute_reply": "2025-06-19T14:48:13.278290Z"
    },
    "papermill": {
     "duration": 1.149701,
     "end_time": "2025-06-19T14:48:13.280791",
     "exception": false,
     "start_time": "2025-06-19T14:48:12.131090",
     "status": "completed"
    },
    "tags": []
   },
   "outputs": [
    {
     "name": "stdout",
     "output_type": "stream",
     "text": [
      "Accuracy 0.9816247582205029\n",
      "Precision 0.9917355371900827\n"
     ]
    }
   ],
   "source": [
    "y_pred = voting.predict(x_test)\n",
    "print(\"Accuracy\",accuracy_score(y_test,y_pred))\n",
    "print(\"Precision\",precision_score(y_test,y_pred))"
   ]
  },
  {
   "cell_type": "code",
   "execution_count": 93,
   "id": "145b82a4",
   "metadata": {
    "execution": {
     "iopub.execute_input": "2025-06-19T14:48:13.344444Z",
     "iopub.status.busy": "2025-06-19T14:48:13.343592Z",
     "iopub.status.idle": "2025-06-19T14:48:13.348268Z",
     "shell.execute_reply": "2025-06-19T14:48:13.347360Z"
    },
    "papermill": {
     "duration": 0.037812,
     "end_time": "2025-06-19T14:48:13.349672",
     "exception": false,
     "start_time": "2025-06-19T14:48:13.311860",
     "status": "completed"
    },
    "tags": []
   },
   "outputs": [],
   "source": [
    "# Applying stacking\n",
    "estimators=[('svm', svc), ('nb', mnb), ('et', etc)]\n",
    "final_estimator=RandomForestClassifier()"
   ]
  },
  {
   "cell_type": "code",
   "execution_count": 94,
   "id": "46a1a30e",
   "metadata": {
    "execution": {
     "iopub.execute_input": "2025-06-19T14:48:13.412562Z",
     "iopub.status.busy": "2025-06-19T14:48:13.412252Z",
     "iopub.status.idle": "2025-06-19T14:48:13.416163Z",
     "shell.execute_reply": "2025-06-19T14:48:13.415399Z"
    },
    "papermill": {
     "duration": 0.037028,
     "end_time": "2025-06-19T14:48:13.417532",
     "exception": false,
     "start_time": "2025-06-19T14:48:13.380504",
     "status": "completed"
    },
    "tags": []
   },
   "outputs": [],
   "source": [
    "from sklearn.ensemble import StackingClassifier"
   ]
  },
  {
   "cell_type": "code",
   "execution_count": 95,
   "id": "45d6a915",
   "metadata": {
    "execution": {
     "iopub.execute_input": "2025-06-19T14:48:13.480943Z",
     "iopub.status.busy": "2025-06-19T14:48:13.480564Z",
     "iopub.status.idle": "2025-06-19T14:48:13.484782Z",
     "shell.execute_reply": "2025-06-19T14:48:13.483924Z"
    },
    "papermill": {
     "duration": 0.037565,
     "end_time": "2025-06-19T14:48:13.486269",
     "exception": false,
     "start_time": "2025-06-19T14:48:13.448704",
     "status": "completed"
    },
    "tags": []
   },
   "outputs": [],
   "source": [
    "clf = StackingClassifier(estimators=estimators, final_estimator=final_estimator)"
   ]
  },
  {
   "cell_type": "code",
   "execution_count": 96,
   "id": "7d6b6637",
   "metadata": {
    "execution": {
     "iopub.execute_input": "2025-06-19T14:48:13.550251Z",
     "iopub.status.busy": "2025-06-19T14:48:13.549268Z",
     "iopub.status.idle": "2025-06-19T14:48:13.564950Z",
     "shell.execute_reply": "2025-06-19T14:48:13.564078Z"
    },
    "papermill": {
     "duration": 0.049724,
     "end_time": "2025-06-19T14:48:13.566799",
     "exception": false,
     "start_time": "2025-06-19T14:48:13.517075",
     "status": "completed"
    },
    "tags": []
   },
   "outputs": [],
   "source": [
    "import pickle\n",
    "pickle.dump(tfidf,open('vectorizer.pkl','wb'))\n",
    "pickle.dump(mnb,open('model.pkl','wb'))"
   ]
  }
 ],
 "metadata": {
  "kaggle": {
   "accelerator": "none",
   "dataSources": [
    {
     "datasetId": 7660807,
     "sourceId": 12163636,
     "sourceType": "datasetVersion"
    }
   ],
   "dockerImageVersionId": 31040,
   "isGpuEnabled": false,
   "isInternetEnabled": true,
   "language": "python",
   "sourceType": "notebook"
  },
  "kernelspec": {
   "display_name": "Python 3",
   "language": "python",
   "name": "python3"
  },
  "language_info": {
   "codemirror_mode": {
    "name": "ipython",
    "version": 3
   },
   "file_extension": ".py",
   "mimetype": "text/x-python",
   "name": "python",
   "nbconvert_exporter": "python",
   "pygments_lexer": "ipython3",
   "version": "3.11.11"
  },
  "papermill": {
   "default_parameters": {},
   "duration": 278.839099,
   "end_time": "2025-06-19T14:48:14.519305",
   "environment_variables": {},
   "exception": null,
   "input_path": "__notebook__.ipynb",
   "output_path": "__notebook__.ipynb",
   "parameters": {},
   "start_time": "2025-06-19T14:43:35.680206",
   "version": "2.6.0"
  }
 },
 "nbformat": 4,
 "nbformat_minor": 5
}
